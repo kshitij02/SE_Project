{
  "nbformat": 4,
  "nbformat_minor": 0,
  "metadata": {
    "colab": {
      "name": "cuisine_rules.ipynb",
      "provenance": [],
      "collapsed_sections": []
    },
    "kernelspec": {
      "name": "python3",
      "display_name": "Python 3"
    }
  },
  "cells": [
    {
      "cell_type": "code",
      "metadata": {
        "id": "U-DudzFH9N8A",
        "colab_type": "code",
        "colab": {}
      },
      "source": [
        "import pandas as pd\n",
        "import numpy as np\n",
        "from mlxtend.preprocessing import TransactionEncoder"
      ],
      "execution_count": 0,
      "outputs": []
    },
    {
      "cell_type": "markdown",
      "metadata": {
        "id": "-xRQ4b5sAJFR",
        "colab_type": "text"
      },
      "source": [
        ""
      ]
    },
    {
      "cell_type": "code",
      "metadata": {
        "id": "T6pk8uNI9rF9",
        "colab_type": "code",
        "outputId": "efae9b64-ffc6-4a08-9183-8d5fd59e7cc7",
        "colab": {
          "base_uri": "https://localhost:8080/",
          "height": 260
        }
      },
      "source": [
        "dataset = pd.read_csv('food_choice.csv')\n",
        "print(dataset.head)"
      ],
      "execution_count": 0,
      "outputs": [
        {
          "output_type": "stream",
          "text": [
            "<bound method NDFrame.head of      Age  Gender  ... Allergies           State\n",
            "0     24  Female  ...        No   Uttar Pradesh\n",
            "1     24  Female  ...        No    Maharashtra \n",
            "2     25  Female  ...        No     Maharashtra\n",
            "3     25  Female  ...        No     Maharashtra\n",
            "4     25  Female  ...        No     Uttarakhand\n",
            "..   ...     ...  ...       ...             ...\n",
            "206   25  Female  ...    Citrus  Andhra Pradesh\n",
            "207   24    Male  ...        No           Delhi\n",
            "208   25    Male  ...        No     Uttarakhand\n",
            "209   25  Female  ...        No           Delhi\n",
            "210   24    Male  ...        No   Uttar Pradesh\n",
            "\n",
            "[211 rows x 7 columns]>\n"
          ],
          "name": "stdout"
        }
      ]
    },
    {
      "cell_type": "code",
      "metadata": {
        "id": "X87Hr1169it8",
        "colab_type": "code",
        "colab": {}
      },
      "source": [
        "cuisines=[\"Italian\",\"Mexican\",\"Turkish\",\"Chinese\",\"American\",\"African\",\"Jamaican\",\"Indian\",\"Kid Friendly\",\"Asian\",\"Mediterranean\",\"Greek\",\"Portuguese\",\"Hungarian\",\"Swedish\",\"Hawaiian\",\"Cuban\",\"Japanese\",\"Irish\",\"Moroccan\",\"German\",\"Thai\",\"Spanish\",\"English\",\"Barbecue\",\"Southwestern\",\"French\",\"Other\"]"
      ],
      "execution_count": 0,
      "outputs": []
    },
    {
      "cell_type": "code",
      "metadata": {
        "id": "K7Scb-xqx0AI",
        "colab_type": "code",
        "colab": {}
      },
      "source": [
        "cuisines_map={\"Italian\":0,\"Mexican\":1,\"Turkish\":2,\"Chinese\":3,\"American\":4,\"African\":5,\"Jamaican\":6,\"Indian\":7,\"Kid Friendly\":8,\"Asian\":9,\"Mediterranean\":10,\"Greek\":11,\"Portuguese\":12,\"Hungarian\":13,\"Swedish\":14,\"Hawaiian\":15,\"Cuban\":16,\"Japanese\":17,\"Irish\":18,\"Moroccan\":19,\"German\":20,\"Thai\":21,\"Spanish\":22,\"English\":23,\"Barbecue\":24,\"Southwestern\":25,\"French\":26,\"Other\":27}"
      ],
      "execution_count": 0,
      "outputs": []
    },
    {
      "cell_type": "code",
      "metadata": {
        "id": "WOpoanRuZbTY",
        "colab_type": "code",
        "colab": {}
      },
      "source": [
        "X=np.array(dataset.iloc[:,2])\n",
        "ans=[]\n",
        "ind=-1\n",
        "for i in X:\n",
        "  length=0\n",
        "  string=i\n",
        "  strs=''\n",
        "  li=[]\n",
        "  ind=ind+1\n",
        "  for j in range(len(string)):\n",
        "    # print(string[j])\n",
        "    if string[j]==',':\n",
        "      li.append(cuisines_map[strs])\n",
        "      strs=''\n",
        "    elif string[j]==' ' and string[j-1]=='d' and string[j+1]=='F':\n",
        "      strs=strs+string[j]\n",
        "    elif string[j]==' ':\n",
        "      continue\n",
        "    else:\n",
        "      strs=strs+string[j]\n",
        "  ans.append(li)"
      ],
      "execution_count": 0,
      "outputs": []
    },
    {
      "cell_type": "code",
      "metadata": {
        "id": "JgysP-Tw5ZUy",
        "colab_type": "code",
        "colab": {}
      },
      "source": [
        "ar=[]\n",
        "for i in range(211):\n",
        "  li=ans[i]\n",
        "  lis=[]\n",
        "  for j in range(28):\n",
        "    if j in li:\n",
        "      lis.append(1)\n",
        "    else:\n",
        "      lis.append(0)\n",
        "  ar.append(lis)"
      ],
      "execution_count": 0,
      "outputs": []
    },
    {
      "cell_type": "code",
      "metadata": {
        "id": "vRoVkLU191m9",
        "colab_type": "code",
        "outputId": "6e9161ac-dee4-49fb-c64b-369a6deb509f",
        "colab": {
          "base_uri": "https://localhost:8080/",
          "height": 260
        }
      },
      "source": [
        "df2 = pd.DataFrame(ar)\n",
        "print(df2)"
      ],
      "execution_count": 0,
      "outputs": [
        {
          "output_type": "stream",
          "text": [
            "     0   1   2   3   4   5   6   7   8   9   ...  18  19  20  21  22  23  24  25  26  27\n",
            "0     1   1   0   1   0   0   0   1   0   1  ...   0   0   0   1   0   0   1   0   0   0\n",
            "1     0   0   0   1   0   0   0   1   0   0  ...   0   0   0   0   0   0   0   0   0   0\n",
            "2     0   0   0   0   0   0   0   1   0   0  ...   0   0   0   0   0   0   0   0   0   0\n",
            "3     1   0   1   0   0   0   0   1   1   0  ...   0   0   0   1   0   0   0   0   0   0\n",
            "4     1   0   0   1   0   0   0   1   0   0  ...   0   0   0   1   0   0   0   0   0   0\n",
            "..   ..  ..  ..  ..  ..  ..  ..  ..  ..  ..  ...  ..  ..  ..  ..  ..  ..  ..  ..  ..  ..\n",
            "206   1   1   0   1   1   0   0   1   0   1  ...   0   0   0   1   0   1   1   0   0   0\n",
            "207   1   0   0   0   0   0   0   1   0   0  ...   0   0   0   0   0   0   0   0   0   0\n",
            "208   1   0   0   1   1   0   0   1   0   0  ...   0   0   0   0   0   0   1   0   1   0\n",
            "209   1   0   0   1   0   0   0   1   0   0  ...   0   0   0   0   0   0   0   0   0   0\n",
            "210   1   0   0   1   0   0   0   1   0   0  ...   0   0   0   0   0   0   0   0   0   0\n",
            "\n",
            "[211 rows x 28 columns]\n"
          ],
          "name": "stdout"
        }
      ]
    },
    {
      "cell_type": "code",
      "metadata": {
        "id": "XdrFyVaZ__Ur",
        "colab_type": "code",
        "outputId": "151772ca-928e-4bd9-b712-5fb8586eee5e",
        "colab": {
          "base_uri": "https://localhost:8080/",
          "height": 260
        }
      },
      "source": [
        "datset=dataset.append(df2)"
      ],
      "execution_count": 0,
      "outputs": [
        {
          "output_type": "stream",
          "text": [
            "     Age  Gender  ... Allergies           State\n",
            "0     24  Female  ...        No   Uttar Pradesh\n",
            "1     24  Female  ...        No    Maharashtra \n",
            "2     25  Female  ...        No     Maharashtra\n",
            "3     25  Female  ...        No     Maharashtra\n",
            "4     25  Female  ...        No     Uttarakhand\n",
            "..   ...     ...  ...       ...             ...\n",
            "206   25  Female  ...    Citrus  Andhra Pradesh\n",
            "207   24    Male  ...        No           Delhi\n",
            "208   25    Male  ...        No     Uttarakhand\n",
            "209   25  Female  ...        No           Delhi\n",
            "210   24    Male  ...        No   Uttar Pradesh\n",
            "\n",
            "[211 rows x 7 columns]\n"
          ],
          "name": "stdout"
        }
      ]
    },
    {
      "cell_type": "code",
      "metadata": {
        "id": "VHtPwi3QANVM",
        "colab_type": "code",
        "outputId": "2f2a45ad-e4c7-43fc-aada-140b65582977",
        "colab": {
          "base_uri": "https://localhost:8080/",
          "height": 260
        }
      },
      "source": [
        "df1 = dataset.join(df2)"
      ],
      "execution_count": 0,
      "outputs": [
        {
          "output_type": "stream",
          "text": [
            "     Age  Gender                                        Fav_Cuisine  ... 25 26 27\n",
            "0     24  Female  Italian,Mexican ,Chinese ,Indian,Asian,Mediter...  ...  0  0  0\n",
            "1     24  Female                                   Chinese ,Indian,  ...  0  0  0\n",
            "2     25  Female                                            Indian,  ...  0  0  0\n",
            "3     25  Female         Italian,Turkish,Indian,Kid Friendly ,Thai,  ...  0  0  0\n",
            "4     25  Female                      Italian,Chinese ,Indian,Thai,  ...  0  0  0\n",
            "..   ...     ...                                                ...  ... .. .. ..\n",
            "206   25  Female  Italian,Mexican ,Chinese ,American,Indian,Asia...  ...  0  0  0\n",
            "207   24    Male                                    Italian,Indian,  ...  0  0  0\n",
            "208   25    Male  Italian,Chinese ,American,Indian,Barbecue,French,  ...  0  1  0\n",
            "209   25  Female                           Italian,Chinese ,Indian,  ...  0  0  0\n",
            "210   24    Male                           Italian,Chinese ,Indian,  ...  0  0  0\n",
            "\n",
            "[211 rows x 35 columns]\n"
          ],
          "name": "stdout"
        }
      ]
    },
    {
      "cell_type": "code",
      "metadata": {
        "id": "-OZi89ILAq-B",
        "colab_type": "code",
        "colab": {}
      },
      "source": [
        "del df1['Fav_Cuisine']"
      ],
      "execution_count": 0,
      "outputs": []
    },
    {
      "cell_type": "code",
      "metadata": {
        "id": "t3_a55j_Hxdn",
        "colab_type": "code",
        "colab": {}
      },
      "source": [
        "df1.columns=['Age','Gender','Spiciness','Food_Choice','Allergies','State',\"Italian\",\"Mexican\",\"Turkish\",\"Chinese\",\"American\",\"African\",\"Jamaican\",\"Indian\",\"Kid Friendly\",\"Asian\",\"Mediterranean\",\"Greek\",\"Portuguese\",\"Hungarian\",\"Swedish\",\"Hawaiian\",\"Cuban\",\"Japanese\",\"Irish\",\"Moroccan\",\"German\",\"Thai\",\"Spanish\",\"English\",\"Barbecue\",\"Southwestern\",\"French\",\"Other\"]"
      ],
      "execution_count": 0,
      "outputs": []
    },
    {
      "cell_type": "code",
      "metadata": {
        "id": "6bMUbs0PIrMz",
        "colab_type": "code",
        "colab": {}
      },
      "source": [
        "new = df1[[\"Italian\",\"Mexican\",\"Turkish\",\"Chinese\",\"American\",\"African\",\"Jamaican\",\"Indian\",\"Kid Friendly\",\"Asian\",\"Mediterranean\",\"Greek\",\"Portuguese\",\"Hungarian\",\"Swedish\",\"Hawaiian\",\"Cuban\",\"Japanese\",\"Irish\",\"Moroccan\",\"German\",\"Thai\",\"Spanish\",\"English\",\"Barbecue\",\"Southwestern\",\"French\",\"Other\"]].copy()"
      ],
      "execution_count": 0,
      "outputs": []
    },
    {
      "cell_type": "code",
      "metadata": {
        "id": "yFRGfCMMZfHt",
        "colab_type": "code",
        "outputId": "1e1b6c64-2f7d-4336-9757-38b1ae18115e",
        "colab": {
          "base_uri": "https://localhost:8080/",
          "height": 260
        }
      },
      "source": [
        "data_new=df1[['Age','Gender','Spiciness','Food_Choice','State']].copy()\n",
        "f2=df1[['Gender']].copy()\n",
        "f3=df1[['Spiciness']].copy()"
      ],
      "execution_count": 0,
      "outputs": [
        {
          "output_type": "stream",
          "text": [
            "     Age  Gender Spiciness       Food_Choice           State\n",
            "0     24  Female  Moderate        Eggiterian   Uttar Pradesh\n",
            "1     24  Female  Moderate  Non - Vegetarian    Maharashtra \n",
            "2     25  Female  Moderate       Vegetarian      Maharashtra\n",
            "3     25  Female       Low  Non - Vegetarian     Maharashtra\n",
            "4     25  Female  Moderate        Eggiterian     Uttarakhand\n",
            "..   ...     ...       ...               ...             ...\n",
            "206   25  Female      High  Non - Vegetarian  Andhra Pradesh\n",
            "207   24    Male  Moderate       Vegetarian            Delhi\n",
            "208   25    Male  Moderate       Vegetarian      Uttarakhand\n",
            "209   25  Female  Moderate        Eggiterian           Delhi\n",
            "210   24    Male  Moderate       Vegetarian    Uttar Pradesh\n",
            "\n",
            "[211 rows x 5 columns]\n"
          ],
          "name": "stdout"
        }
      ]
    },
    {
      "cell_type": "code",
      "metadata": {
        "id": "0JXX2LO1FgCH",
        "colab_type": "code",
        "outputId": "00325094-ed9b-461c-96a0-45f748e90ec1",
        "colab": {
          "base_uri": "https://localhost:8080/",
          "height": 81
        }
      },
      "source": [
        "from mlxtend.frequent_patterns import apriori\n",
        "apriori(new, min_support=0.6)"
      ],
      "execution_count": 0,
      "outputs": [
        {
          "output_type": "execute_result",
          "data": {
            "text/html": [
              "<div>\n",
              "<style scoped>\n",
              "    .dataframe tbody tr th:only-of-type {\n",
              "        vertical-align: middle;\n",
              "    }\n",
              "\n",
              "    .dataframe tbody tr th {\n",
              "        vertical-align: top;\n",
              "    }\n",
              "\n",
              "    .dataframe thead th {\n",
              "        text-align: right;\n",
              "    }\n",
              "</style>\n",
              "<table border=\"1\" class=\"dataframe\">\n",
              "  <thead>\n",
              "    <tr style=\"text-align: right;\">\n",
              "      <th></th>\n",
              "      <th>support</th>\n",
              "      <th>itemsets</th>\n",
              "    </tr>\n",
              "  </thead>\n",
              "  <tbody>\n",
              "    <tr>\n",
              "      <th>0</th>\n",
              "      <td>0.933649</td>\n",
              "      <td>(7)</td>\n",
              "    </tr>\n",
              "  </tbody>\n",
              "</table>\n",
              "</div>"
            ],
            "text/plain": [
              "    support itemsets\n",
              "0  0.933649      (7)"
            ]
          },
          "metadata": {
            "tags": []
          },
          "execution_count": 81
        }
      ]
    },
    {
      "cell_type": "code",
      "metadata": {
        "id": "velLuil9FyXH",
        "colab_type": "code",
        "outputId": "16a8d697-4938-4693-e930-67217f43801e",
        "colab": {
          "base_uri": "https://localhost:8080/",
          "height": 1000
        }
      },
      "source": [
        "frequent_itemsets = apriori(new, min_support=0.1, use_colnames=True)\n",
        "frequent_itemsets['length'] = frequent_itemsets['itemsets'].apply(lambda x: len(x))\n",
        "frequent_itemsets"
      ],
      "execution_count": 0,
      "outputs": [
        {
          "output_type": "execute_result",
          "data": {
            "text/html": [
              "<div>\n",
              "<style scoped>\n",
              "    .dataframe tbody tr th:only-of-type {\n",
              "        vertical-align: middle;\n",
              "    }\n",
              "\n",
              "    .dataframe tbody tr th {\n",
              "        vertical-align: top;\n",
              "    }\n",
              "\n",
              "    .dataframe thead th {\n",
              "        text-align: right;\n",
              "    }\n",
              "</style>\n",
              "<table border=\"1\" class=\"dataframe\">\n",
              "  <thead>\n",
              "    <tr style=\"text-align: right;\">\n",
              "      <th></th>\n",
              "      <th>support</th>\n",
              "      <th>itemsets</th>\n",
              "      <th>length</th>\n",
              "    </tr>\n",
              "  </thead>\n",
              "  <tbody>\n",
              "    <tr>\n",
              "      <th>0</th>\n",
              "      <td>0.483412</td>\n",
              "      <td>(Italian)</td>\n",
              "      <td>1</td>\n",
              "    </tr>\n",
              "    <tr>\n",
              "      <th>1</th>\n",
              "      <td>0.227488</td>\n",
              "      <td>(Mexican)</td>\n",
              "      <td>1</td>\n",
              "    </tr>\n",
              "    <tr>\n",
              "      <th>2</th>\n",
              "      <td>0.473934</td>\n",
              "      <td>(Chinese)</td>\n",
              "      <td>1</td>\n",
              "    </tr>\n",
              "    <tr>\n",
              "      <th>3</th>\n",
              "      <td>0.194313</td>\n",
              "      <td>(American)</td>\n",
              "      <td>1</td>\n",
              "    </tr>\n",
              "    <tr>\n",
              "      <th>4</th>\n",
              "      <td>0.933649</td>\n",
              "      <td>(Indian)</td>\n",
              "      <td>1</td>\n",
              "    </tr>\n",
              "    <tr>\n",
              "      <th>5</th>\n",
              "      <td>0.142180</td>\n",
              "      <td>(Asian)</td>\n",
              "      <td>1</td>\n",
              "    </tr>\n",
              "    <tr>\n",
              "      <th>6</th>\n",
              "      <td>0.137441</td>\n",
              "      <td>(Thai)</td>\n",
              "      <td>1</td>\n",
              "    </tr>\n",
              "    <tr>\n",
              "      <th>7</th>\n",
              "      <td>0.127962</td>\n",
              "      <td>(English)</td>\n",
              "      <td>1</td>\n",
              "    </tr>\n",
              "    <tr>\n",
              "      <th>8</th>\n",
              "      <td>0.199052</td>\n",
              "      <td>(Barbecue)</td>\n",
              "      <td>1</td>\n",
              "    </tr>\n",
              "    <tr>\n",
              "      <th>9</th>\n",
              "      <td>0.118483</td>\n",
              "      <td>(French)</td>\n",
              "      <td>1</td>\n",
              "    </tr>\n",
              "    <tr>\n",
              "      <th>10</th>\n",
              "      <td>0.184834</td>\n",
              "      <td>(Italian, Mexican)</td>\n",
              "      <td>2</td>\n",
              "    </tr>\n",
              "    <tr>\n",
              "      <th>11</th>\n",
              "      <td>0.345972</td>\n",
              "      <td>(Chinese, Italian)</td>\n",
              "      <td>2</td>\n",
              "    </tr>\n",
              "    <tr>\n",
              "      <th>12</th>\n",
              "      <td>0.161137</td>\n",
              "      <td>(Italian, American)</td>\n",
              "      <td>2</td>\n",
              "    </tr>\n",
              "    <tr>\n",
              "      <th>13</th>\n",
              "      <td>0.450237</td>\n",
              "      <td>(Italian, Indian)</td>\n",
              "      <td>2</td>\n",
              "    </tr>\n",
              "    <tr>\n",
              "      <th>14</th>\n",
              "      <td>0.118483</td>\n",
              "      <td>(Italian, Asian)</td>\n",
              "      <td>2</td>\n",
              "    </tr>\n",
              "    <tr>\n",
              "      <th>15</th>\n",
              "      <td>0.127962</td>\n",
              "      <td>(Italian, Thai)</td>\n",
              "      <td>2</td>\n",
              "    </tr>\n",
              "    <tr>\n",
              "      <th>16</th>\n",
              "      <td>0.104265</td>\n",
              "      <td>(Italian, English)</td>\n",
              "      <td>2</td>\n",
              "    </tr>\n",
              "    <tr>\n",
              "      <th>17</th>\n",
              "      <td>0.146919</td>\n",
              "      <td>(Barbecue, Italian)</td>\n",
              "      <td>2</td>\n",
              "    </tr>\n",
              "    <tr>\n",
              "      <th>18</th>\n",
              "      <td>0.109005</td>\n",
              "      <td>(Italian, French)</td>\n",
              "      <td>2</td>\n",
              "    </tr>\n",
              "    <tr>\n",
              "      <th>19</th>\n",
              "      <td>0.165877</td>\n",
              "      <td>(Chinese, Mexican)</td>\n",
              "      <td>2</td>\n",
              "    </tr>\n",
              "    <tr>\n",
              "      <th>20</th>\n",
              "      <td>0.213270</td>\n",
              "      <td>(Mexican, Indian)</td>\n",
              "      <td>2</td>\n",
              "    </tr>\n",
              "    <tr>\n",
              "      <th>21</th>\n",
              "      <td>0.156398</td>\n",
              "      <td>(Chinese, American)</td>\n",
              "      <td>2</td>\n",
              "    </tr>\n",
              "    <tr>\n",
              "      <th>22</th>\n",
              "      <td>0.445498</td>\n",
              "      <td>(Chinese, Indian)</td>\n",
              "      <td>2</td>\n",
              "    </tr>\n",
              "    <tr>\n",
              "      <th>23</th>\n",
              "      <td>0.104265</td>\n",
              "      <td>(Chinese, Asian)</td>\n",
              "      <td>2</td>\n",
              "    </tr>\n",
              "    <tr>\n",
              "      <th>24</th>\n",
              "      <td>0.104265</td>\n",
              "      <td>(Chinese, Thai)</td>\n",
              "      <td>2</td>\n",
              "    </tr>\n",
              "    <tr>\n",
              "      <th>25</th>\n",
              "      <td>0.142180</td>\n",
              "      <td>(Chinese, Barbecue)</td>\n",
              "      <td>2</td>\n",
              "    </tr>\n",
              "    <tr>\n",
              "      <th>26</th>\n",
              "      <td>0.104265</td>\n",
              "      <td>(Chinese, French)</td>\n",
              "      <td>2</td>\n",
              "    </tr>\n",
              "    <tr>\n",
              "      <th>27</th>\n",
              "      <td>0.180095</td>\n",
              "      <td>(American, Indian)</td>\n",
              "      <td>2</td>\n",
              "    </tr>\n",
              "    <tr>\n",
              "      <th>28</th>\n",
              "      <td>0.127962</td>\n",
              "      <td>(Asian, Indian)</td>\n",
              "      <td>2</td>\n",
              "    </tr>\n",
              "    <tr>\n",
              "      <th>29</th>\n",
              "      <td>0.137441</td>\n",
              "      <td>(Indian, Thai)</td>\n",
              "      <td>2</td>\n",
              "    </tr>\n",
              "    <tr>\n",
              "      <th>30</th>\n",
              "      <td>0.113744</td>\n",
              "      <td>(English, Indian)</td>\n",
              "      <td>2</td>\n",
              "    </tr>\n",
              "    <tr>\n",
              "      <th>31</th>\n",
              "      <td>0.180095</td>\n",
              "      <td>(Barbecue, Indian)</td>\n",
              "      <td>2</td>\n",
              "    </tr>\n",
              "    <tr>\n",
              "      <th>32</th>\n",
              "      <td>0.113744</td>\n",
              "      <td>(French, Indian)</td>\n",
              "      <td>2</td>\n",
              "    </tr>\n",
              "    <tr>\n",
              "      <th>33</th>\n",
              "      <td>0.146919</td>\n",
              "      <td>(Chinese, Italian, Mexican)</td>\n",
              "      <td>3</td>\n",
              "    </tr>\n",
              "    <tr>\n",
              "      <th>34</th>\n",
              "      <td>0.175355</td>\n",
              "      <td>(Italian, Mexican, Indian)</td>\n",
              "      <td>3</td>\n",
              "    </tr>\n",
              "    <tr>\n",
              "      <th>35</th>\n",
              "      <td>0.132701</td>\n",
              "      <td>(Chinese, Italian, American)</td>\n",
              "      <td>3</td>\n",
              "    </tr>\n",
              "    <tr>\n",
              "      <th>36</th>\n",
              "      <td>0.336493</td>\n",
              "      <td>(Chinese, Italian, Indian)</td>\n",
              "      <td>3</td>\n",
              "    </tr>\n",
              "    <tr>\n",
              "      <th>37</th>\n",
              "      <td>0.118483</td>\n",
              "      <td>(Barbecue, Chinese, Italian)</td>\n",
              "      <td>3</td>\n",
              "    </tr>\n",
              "    <tr>\n",
              "      <th>38</th>\n",
              "      <td>0.151659</td>\n",
              "      <td>(Italian, American, Indian)</td>\n",
              "      <td>3</td>\n",
              "    </tr>\n",
              "    <tr>\n",
              "      <th>39</th>\n",
              "      <td>0.109005</td>\n",
              "      <td>(Italian, Asian, Indian)</td>\n",
              "      <td>3</td>\n",
              "    </tr>\n",
              "    <tr>\n",
              "      <th>40</th>\n",
              "      <td>0.127962</td>\n",
              "      <td>(Italian, Indian, Thai)</td>\n",
              "      <td>3</td>\n",
              "    </tr>\n",
              "    <tr>\n",
              "      <th>41</th>\n",
              "      <td>0.132701</td>\n",
              "      <td>(Barbecue, Italian, Indian)</td>\n",
              "      <td>3</td>\n",
              "    </tr>\n",
              "    <tr>\n",
              "      <th>42</th>\n",
              "      <td>0.104265</td>\n",
              "      <td>(Italian, French, Indian)</td>\n",
              "      <td>3</td>\n",
              "    </tr>\n",
              "    <tr>\n",
              "      <th>43</th>\n",
              "      <td>0.156398</td>\n",
              "      <td>(Chinese, Mexican, Indian)</td>\n",
              "      <td>3</td>\n",
              "    </tr>\n",
              "    <tr>\n",
              "      <th>44</th>\n",
              "      <td>0.146919</td>\n",
              "      <td>(Chinese, American, Indian)</td>\n",
              "      <td>3</td>\n",
              "    </tr>\n",
              "    <tr>\n",
              "      <th>45</th>\n",
              "      <td>0.104265</td>\n",
              "      <td>(Chinese, Indian, Thai)</td>\n",
              "      <td>3</td>\n",
              "    </tr>\n",
              "    <tr>\n",
              "      <th>46</th>\n",
              "      <td>0.132701</td>\n",
              "      <td>(Chinese, Barbecue, Indian)</td>\n",
              "      <td>3</td>\n",
              "    </tr>\n",
              "    <tr>\n",
              "      <th>47</th>\n",
              "      <td>0.142180</td>\n",
              "      <td>(Chinese, Italian, Mexican, Indian)</td>\n",
              "      <td>4</td>\n",
              "    </tr>\n",
              "    <tr>\n",
              "      <th>48</th>\n",
              "      <td>0.123223</td>\n",
              "      <td>(Chinese, Italian, American, Indian)</td>\n",
              "      <td>4</td>\n",
              "    </tr>\n",
              "    <tr>\n",
              "      <th>49</th>\n",
              "      <td>0.109005</td>\n",
              "      <td>(Barbecue, Chinese, Italian, Indian)</td>\n",
              "      <td>4</td>\n",
              "    </tr>\n",
              "  </tbody>\n",
              "</table>\n",
              "</div>"
            ],
            "text/plain": [
              "     support                              itemsets  length\n",
              "0   0.483412                             (Italian)       1\n",
              "1   0.227488                             (Mexican)       1\n",
              "2   0.473934                             (Chinese)       1\n",
              "3   0.194313                            (American)       1\n",
              "4   0.933649                              (Indian)       1\n",
              "5   0.142180                               (Asian)       1\n",
              "6   0.137441                                (Thai)       1\n",
              "7   0.127962                             (English)       1\n",
              "8   0.199052                            (Barbecue)       1\n",
              "9   0.118483                              (French)       1\n",
              "10  0.184834                    (Italian, Mexican)       2\n",
              "11  0.345972                    (Chinese, Italian)       2\n",
              "12  0.161137                   (Italian, American)       2\n",
              "13  0.450237                     (Italian, Indian)       2\n",
              "14  0.118483                      (Italian, Asian)       2\n",
              "15  0.127962                       (Italian, Thai)       2\n",
              "16  0.104265                    (Italian, English)       2\n",
              "17  0.146919                   (Barbecue, Italian)       2\n",
              "18  0.109005                     (Italian, French)       2\n",
              "19  0.165877                    (Chinese, Mexican)       2\n",
              "20  0.213270                     (Mexican, Indian)       2\n",
              "21  0.156398                   (Chinese, American)       2\n",
              "22  0.445498                     (Chinese, Indian)       2\n",
              "23  0.104265                      (Chinese, Asian)       2\n",
              "24  0.104265                       (Chinese, Thai)       2\n",
              "25  0.142180                   (Chinese, Barbecue)       2\n",
              "26  0.104265                     (Chinese, French)       2\n",
              "27  0.180095                    (American, Indian)       2\n",
              "28  0.127962                       (Asian, Indian)       2\n",
              "29  0.137441                        (Indian, Thai)       2\n",
              "30  0.113744                     (English, Indian)       2\n",
              "31  0.180095                    (Barbecue, Indian)       2\n",
              "32  0.113744                      (French, Indian)       2\n",
              "33  0.146919           (Chinese, Italian, Mexican)       3\n",
              "34  0.175355            (Italian, Mexican, Indian)       3\n",
              "35  0.132701          (Chinese, Italian, American)       3\n",
              "36  0.336493            (Chinese, Italian, Indian)       3\n",
              "37  0.118483          (Barbecue, Chinese, Italian)       3\n",
              "38  0.151659           (Italian, American, Indian)       3\n",
              "39  0.109005              (Italian, Asian, Indian)       3\n",
              "40  0.127962               (Italian, Indian, Thai)       3\n",
              "41  0.132701           (Barbecue, Italian, Indian)       3\n",
              "42  0.104265             (Italian, French, Indian)       3\n",
              "43  0.156398            (Chinese, Mexican, Indian)       3\n",
              "44  0.146919           (Chinese, American, Indian)       3\n",
              "45  0.104265               (Chinese, Indian, Thai)       3\n",
              "46  0.132701           (Chinese, Barbecue, Indian)       3\n",
              "47  0.142180   (Chinese, Italian, Mexican, Indian)       4\n",
              "48  0.123223  (Chinese, Italian, American, Indian)       4\n",
              "49  0.109005  (Barbecue, Chinese, Italian, Indian)       4"
            ]
          },
          "metadata": {
            "tags": []
          },
          "execution_count": 82
        }
      ]
    },
    {
      "cell_type": "code",
      "metadata": {
        "id": "uzHC532MF7x4",
        "colab_type": "code",
        "outputId": "676e61a9-31e4-480d-f35e-5144b6975309",
        "colab": {
          "base_uri": "https://localhost:8080/",
          "height": 175
        }
      },
      "source": [
        "frequent_itemsets[ (frequent_itemsets['length'] >= 2) &\n",
        "                   (frequent_itemsets['support'] >= 0.3) ]"
      ],
      "execution_count": 0,
      "outputs": [
        {
          "output_type": "execute_result",
          "data": {
            "text/html": [
              "<div>\n",
              "<style scoped>\n",
              "    .dataframe tbody tr th:only-of-type {\n",
              "        vertical-align: middle;\n",
              "    }\n",
              "\n",
              "    .dataframe tbody tr th {\n",
              "        vertical-align: top;\n",
              "    }\n",
              "\n",
              "    .dataframe thead th {\n",
              "        text-align: right;\n",
              "    }\n",
              "</style>\n",
              "<table border=\"1\" class=\"dataframe\">\n",
              "  <thead>\n",
              "    <tr style=\"text-align: right;\">\n",
              "      <th></th>\n",
              "      <th>support</th>\n",
              "      <th>itemsets</th>\n",
              "      <th>length</th>\n",
              "    </tr>\n",
              "  </thead>\n",
              "  <tbody>\n",
              "    <tr>\n",
              "      <th>11</th>\n",
              "      <td>0.345972</td>\n",
              "      <td>(Chinese, Italian)</td>\n",
              "      <td>2</td>\n",
              "    </tr>\n",
              "    <tr>\n",
              "      <th>13</th>\n",
              "      <td>0.450237</td>\n",
              "      <td>(Italian, Indian)</td>\n",
              "      <td>2</td>\n",
              "    </tr>\n",
              "    <tr>\n",
              "      <th>22</th>\n",
              "      <td>0.445498</td>\n",
              "      <td>(Chinese, Indian)</td>\n",
              "      <td>2</td>\n",
              "    </tr>\n",
              "    <tr>\n",
              "      <th>36</th>\n",
              "      <td>0.336493</td>\n",
              "      <td>(Chinese, Italian, Indian)</td>\n",
              "      <td>3</td>\n",
              "    </tr>\n",
              "  </tbody>\n",
              "</table>\n",
              "</div>"
            ],
            "text/plain": [
              "     support                    itemsets  length\n",
              "11  0.345972          (Chinese, Italian)       2\n",
              "13  0.450237           (Italian, Indian)       2\n",
              "22  0.445498           (Chinese, Indian)       2\n",
              "36  0.336493  (Chinese, Italian, Indian)       3"
            ]
          },
          "metadata": {
            "tags": []
          },
          "execution_count": 57
        }
      ]
    },
    {
      "cell_type": "code",
      "metadata": {
        "id": "G2UBYM90KQ5J",
        "colab_type": "code",
        "colab": {}
      },
      "source": [
        "from mlxtend.frequent_patterns import association_rules\n"
      ],
      "execution_count": 0,
      "outputs": []
    },
    {
      "cell_type": "code",
      "metadata": {
        "id": "iPtdNeQ_LQU3",
        "colab_type": "code",
        "colab": {}
      },
      "source": [
        "results=association_rules(frequent_itemsets, metric=\"confidence\", min_threshold=0.7)"
      ],
      "execution_count": 0,
      "outputs": []
    },
    {
      "cell_type": "code",
      "metadata": {
        "id": "r6v3ohG2LVVP",
        "colab_type": "code",
        "outputId": "665871c5-6517-478e-dfb5-a8b4a35f4a9a",
        "colab": {
          "base_uri": "https://localhost:8080/",
          "height": 260
        }
      },
      "source": [
        "print(results)"
      ],
      "execution_count": 0,
      "outputs": [
        {
          "output_type": "stream",
          "text": [
            "                     antecedents        consequents  ...  leverage  conviction\n",
            "0                      (Mexican)          (Italian)  ...  0.074864    2.755134\n",
            "1                      (Chinese)          (Italian)  ...  0.116866    1.913288\n",
            "2                      (Italian)          (Chinese)  ...  0.116866    1.850302\n",
            "3                     (American)          (Italian)  ...  0.067204    3.025728\n",
            "4                      (Italian)           (Indian)  ... -0.001101    0.966825\n",
            "..                           ...                ...  ...       ...         ...\n",
            "71  (Chinese, Barbecue, Italian)           (Indian)  ... -0.001617    0.829384\n",
            "72   (Chinese, Barbecue, Indian)          (Italian)  ...  0.044855    2.892891\n",
            "73   (Italian, Barbecue, Indian)          (Chinese)  ...  0.046113    2.945972\n",
            "74           (Chinese, Barbecue)  (Italian, Indian)  ...  0.044990    2.356127\n",
            "75           (Italian, Barbecue)  (Chinese, Indian)  ...  0.043552    2.148697\n",
            "\n",
            "[76 rows x 9 columns]\n"
          ],
          "name": "stdout"
        }
      ]
    },
    {
      "cell_type": "code",
      "metadata": {
        "id": "YKq2RPqJXybx",
        "colab_type": "code",
        "colab": {}
      },
      "source": [
        "from sklearn.preprocessing import OneHotEncoder "
      ],
      "execution_count": 0,
      "outputs": []
    },
    {
      "cell_type": "code",
      "metadata": {
        "id": "-g5QmVLfaFis",
        "colab_type": "code",
        "outputId": "f8cb91b6-5ea2-4e4c-a26c-9299acda81fb",
        "colab": {
          "base_uri": "https://localhost:8080/",
          "height": 260
        }
      },
      "source": [
        "dat_new1=pd.get_dummies(data_new.Gender)\n",
        "dat_new2=pd.get_dummies(data_new.Spiciness)\n",
        "dat_new3=pd.get_dummies(data_new.Food_Choice)\n",
        "dat_new4=pd.get_dummies(data_new.State)"
      ],
      "execution_count": 0,
      "outputs": [
        {
          "output_type": "stream",
          "text": [
            "     Eggiterian  Non - Vegetarian  Vegan  Vegetarian \n",
            "0             1                 0      0            0\n",
            "1             0                 1      0            0\n",
            "2             0                 0      0            1\n",
            "3             0                 1      0            0\n",
            "4             1                 0      0            0\n",
            "..          ...               ...    ...          ...\n",
            "206           0                 1      0            0\n",
            "207           0                 0      0            1\n",
            "208           0                 0      0            1\n",
            "209           1                 0      0            0\n",
            "210           0                 0      0            1\n",
            "\n",
            "[211 rows x 4 columns]\n"
          ],
          "name": "stdout"
        }
      ]
    },
    {
      "cell_type": "code",
      "metadata": {
        "id": "OBjvuw4XbTHE",
        "colab_type": "code",
        "outputId": "784f4b12-c9d4-4d9c-83fd-bf061cb66d0f",
        "colab": {
          "base_uri": "https://localhost:8080/",
          "height": 260
        }
      },
      "source": [
        "df_new=dat_new1.join(dat_new2)\n",
        "df_new=df_new.join(dat_new3)\n",
        "df_new=df_new.join(dat_new4)"
      ],
      "execution_count": 0,
      "outputs": [
        {
          "output_type": "stream",
          "text": [
            "     Female  Male  Prefer not to say  ...  Uttarakhand  Uttarakhand   West Bengal\n",
            "0         1     0                  0  ...            0             0            0\n",
            "1         1     0                  0  ...            0             0            0\n",
            "2         1     0                  0  ...            0             0            0\n",
            "3         1     0                  0  ...            0             0            0\n",
            "4         1     0                  0  ...            1             0            0\n",
            "..      ...   ...                ...  ...          ...           ...          ...\n",
            "206       1     0                  0  ...            0             0            0\n",
            "207       0     1                  0  ...            0             0            0\n",
            "208       0     1                  0  ...            1             0            0\n",
            "209       1     0                  0  ...            0             0            0\n",
            "210       0     1                  0  ...            0             0            0\n",
            "\n",
            "[211 rows x 34 columns]\n"
          ],
          "name": "stdout"
        }
      ]
    },
    {
      "cell_type": "code",
      "metadata": {
        "id": "mEZauOmK6vaW",
        "colab_type": "code",
        "colab": {}
      },
      "source": [
        "df_new['Age']=data_new['Age']"
      ],
      "execution_count": 0,
      "outputs": []
    },
    {
      "cell_type": "code",
      "metadata": {
        "id": "k3mOnTBobsF1",
        "colab_type": "code",
        "outputId": "0c1c42f4-270d-4cc4-cd73-fe6912831a62",
        "colab": {
          "base_uri": "https://localhost:8080/",
          "height": 260
        }
      },
      "source": [
        "df_new=df_new.join(new)"
      ],
      "execution_count": 0,
      "outputs": [
        {
          "output_type": "stream",
          "text": [
            "     Female  Male  Prefer not to say  ...  Southwestern  French  Other\n",
            "0         1     0                  0  ...             0       0      0\n",
            "1         1     0                  0  ...             0       0      0\n",
            "2         1     0                  0  ...             0       0      0\n",
            "3         1     0                  0  ...             0       0      0\n",
            "4         1     0                  0  ...             0       0      0\n",
            "..      ...   ...                ...  ...           ...     ...    ...\n",
            "206       1     0                  0  ...             0       0      0\n",
            "207       0     1                  0  ...             0       0      0\n",
            "208       0     1                  0  ...             0       1      0\n",
            "209       1     0                  0  ...             0       0      0\n",
            "210       0     1                  0  ...             0       0      0\n",
            "\n",
            "[211 rows x 62 columns]\n"
          ],
          "name": "stdout"
        }
      ]
    },
    {
      "cell_type": "code",
      "metadata": {
        "id": "91v1gGax7MK0",
        "colab_type": "code",
        "colab": {}
      },
      "source": [
        "del df_new['Age']"
      ],
      "execution_count": 0,
      "outputs": []
    },
    {
      "cell_type": "code",
      "metadata": {
        "id": "vsmNprsA7TnV",
        "colab_type": "code",
        "outputId": "2828dd1d-ab63-44e1-d342-12c31a0e300b",
        "colab": {
          "base_uri": "https://localhost:8080/",
          "height": 260
        }
      },
      "source": [
        "df_newcopy=df_new.copy()"
      ],
      "execution_count": 0,
      "outputs": [
        {
          "output_type": "stream",
          "text": [
            "     Female  Male  Prefer not to say  ...  Southwestern  French  Other\n",
            "0         1     0                  0  ...             0       0      0\n",
            "1         1     0                  0  ...             0       0      0\n",
            "2         1     0                  0  ...             0       0      0\n",
            "3         1     0                  0  ...             0       0      0\n",
            "4         1     0                  0  ...             0       0      0\n",
            "..      ...   ...                ...  ...           ...     ...    ...\n",
            "206       1     0                  0  ...             0       0      0\n",
            "207       0     1                  0  ...             0       0      0\n",
            "208       0     1                  0  ...             0       1      0\n",
            "209       1     0                  0  ...             0       0      0\n",
            "210       0     1                  0  ...             0       0      0\n",
            "\n",
            "[211 rows x 62 columns]\n"
          ],
          "name": "stdout"
        }
      ]
    },
    {
      "cell_type": "code",
      "metadata": {
        "id": "Us04SDgJ7puA",
        "colab_type": "code",
        "colab": {}
      },
      "source": [
        "del df_new['Indian']"
      ],
      "execution_count": 0,
      "outputs": []
    },
    {
      "cell_type": "code",
      "metadata": {
        "id": "aIgoNlgVcbO3",
        "colab_type": "code",
        "outputId": "dd6a881d-be7b-4014-9848-0a14ec8bcf9c",
        "colab": {
          "base_uri": "https://localhost:8080/",
          "height": 143
        }
      },
      "source": [
        "from mlxtend.frequent_patterns import apriori\n",
        "apriori(df_new, min_support=0.6)"
      ],
      "execution_count": 0,
      "outputs": [
        {
          "output_type": "execute_result",
          "data": {
            "text/html": [
              "<div>\n",
              "<style scoped>\n",
              "    .dataframe tbody tr th:only-of-type {\n",
              "        vertical-align: middle;\n",
              "    }\n",
              "\n",
              "    .dataframe tbody tr th {\n",
              "        vertical-align: top;\n",
              "    }\n",
              "\n",
              "    .dataframe thead th {\n",
              "        text-align: right;\n",
              "    }\n",
              "</style>\n",
              "<table border=\"1\" class=\"dataframe\">\n",
              "  <thead>\n",
              "    <tr style=\"text-align: right;\">\n",
              "      <th></th>\n",
              "      <th>support</th>\n",
              "      <th>itemsets</th>\n",
              "    </tr>\n",
              "  </thead>\n",
              "  <tbody>\n",
              "    <tr>\n",
              "      <th>0</th>\n",
              "      <td>0.672986</td>\n",
              "      <td>(5)</td>\n",
              "    </tr>\n",
              "    <tr>\n",
              "      <th>1</th>\n",
              "      <td>0.933649</td>\n",
              "      <td>(41)</td>\n",
              "    </tr>\n",
              "    <tr>\n",
              "      <th>2</th>\n",
              "      <td>0.620853</td>\n",
              "      <td>(41, 5)</td>\n",
              "    </tr>\n",
              "  </tbody>\n",
              "</table>\n",
              "</div>"
            ],
            "text/plain": [
              "    support itemsets\n",
              "0  0.672986      (5)\n",
              "1  0.933649     (41)\n",
              "2  0.620853  (41, 5)"
            ]
          },
          "metadata": {
            "tags": []
          },
          "execution_count": 58
        }
      ]
    },
    {
      "cell_type": "code",
      "metadata": {
        "id": "DD6pIWGNbypp",
        "colab_type": "code",
        "outputId": "60d8c8a4-90de-43c0-89b0-67dfe2a3ebaa",
        "colab": {
          "base_uri": "https://localhost:8080/",
          "height": 424
        }
      },
      "source": [
        "frequent_itemsets = apriori(df_new, min_support=0.1, use_colnames=True)\n",
        "frequent_itemsets['length'] = frequent_itemsets['itemsets'].apply(lambda x: len(x))\n",
        "frequent_itemsets"
      ],
      "execution_count": 0,
      "outputs": [
        {
          "output_type": "execute_result",
          "data": {
            "text/html": [
              "<div>\n",
              "<style scoped>\n",
              "    .dataframe tbody tr th:only-of-type {\n",
              "        vertical-align: middle;\n",
              "    }\n",
              "\n",
              "    .dataframe tbody tr th {\n",
              "        vertical-align: top;\n",
              "    }\n",
              "\n",
              "    .dataframe thead th {\n",
              "        text-align: right;\n",
              "    }\n",
              "</style>\n",
              "<table border=\"1\" class=\"dataframe\">\n",
              "  <thead>\n",
              "    <tr style=\"text-align: right;\">\n",
              "      <th></th>\n",
              "      <th>support</th>\n",
              "      <th>itemsets</th>\n",
              "      <th>length</th>\n",
              "    </tr>\n",
              "  </thead>\n",
              "  <tbody>\n",
              "    <tr>\n",
              "      <th>0</th>\n",
              "      <td>0.554502</td>\n",
              "      <td>(Female)</td>\n",
              "      <td>1</td>\n",
              "    </tr>\n",
              "    <tr>\n",
              "      <th>1</th>\n",
              "      <td>0.440758</td>\n",
              "      <td>(Male)</td>\n",
              "      <td>1</td>\n",
              "    </tr>\n",
              "    <tr>\n",
              "      <th>2</th>\n",
              "      <td>0.218009</td>\n",
              "      <td>(High)</td>\n",
              "      <td>1</td>\n",
              "    </tr>\n",
              "    <tr>\n",
              "      <th>3</th>\n",
              "      <td>0.109005</td>\n",
              "      <td>(Low)</td>\n",
              "      <td>1</td>\n",
              "    </tr>\n",
              "    <tr>\n",
              "      <th>4</th>\n",
              "      <td>0.672986</td>\n",
              "      <td>(Moderate)</td>\n",
              "      <td>1</td>\n",
              "    </tr>\n",
              "    <tr>\n",
              "      <th>...</th>\n",
              "      <td>...</td>\n",
              "      <td>...</td>\n",
              "      <td>...</td>\n",
              "    </tr>\n",
              "    <tr>\n",
              "      <th>206</th>\n",
              "      <td>0.142180</td>\n",
              "      <td>(Mexican, Chinese, Italian, Indian)</td>\n",
              "      <td>4</td>\n",
              "    </tr>\n",
              "    <tr>\n",
              "      <th>207</th>\n",
              "      <td>0.123223</td>\n",
              "      <td>(American, Chinese, Italian, Indian)</td>\n",
              "      <td>4</td>\n",
              "    </tr>\n",
              "    <tr>\n",
              "      <th>208</th>\n",
              "      <td>0.109005</td>\n",
              "      <td>(Barbecue, Chinese, Italian, Indian)</td>\n",
              "      <td>4</td>\n",
              "    </tr>\n",
              "    <tr>\n",
              "      <th>209</th>\n",
              "      <td>0.137441</td>\n",
              "      <td>(Chinese, Italian, Indian, Moderate, Female)</td>\n",
              "      <td>5</td>\n",
              "    </tr>\n",
              "    <tr>\n",
              "      <th>210</th>\n",
              "      <td>0.104265</td>\n",
              "      <td>(Chinese, Italian, Indian, Male, Moderate)</td>\n",
              "      <td>5</td>\n",
              "    </tr>\n",
              "  </tbody>\n",
              "</table>\n",
              "<p>211 rows × 3 columns</p>\n",
              "</div>"
            ],
            "text/plain": [
              "      support                                      itemsets  length\n",
              "0    0.554502                                      (Female)       1\n",
              "1    0.440758                                        (Male)       1\n",
              "2    0.218009                                        (High)       1\n",
              "3    0.109005                                         (Low)       1\n",
              "4    0.672986                                    (Moderate)       1\n",
              "..        ...                                           ...     ...\n",
              "206  0.142180           (Mexican, Chinese, Italian, Indian)       4\n",
              "207  0.123223          (American, Chinese, Italian, Indian)       4\n",
              "208  0.109005          (Barbecue, Chinese, Italian, Indian)       4\n",
              "209  0.137441  (Chinese, Italian, Indian, Moderate, Female)       5\n",
              "210  0.104265    (Chinese, Italian, Indian, Male, Moderate)       5\n",
              "\n",
              "[211 rows x 3 columns]"
            ]
          },
          "metadata": {
            "tags": []
          },
          "execution_count": 85
        }
      ]
    },
    {
      "cell_type": "code",
      "metadata": {
        "id": "pnZqg2NEcGQq",
        "colab_type": "code",
        "outputId": "d947c2b0-50c3-4674-c70c-d482c60c30b0",
        "colab": {
          "base_uri": "https://localhost:8080/",
          "height": 112
        }
      },
      "source": [
        "frequent_itemsets[ (frequent_itemsets['length'] >= 2) &\n",
        "                   (frequent_itemsets['support'] >= 0.5) ]"
      ],
      "execution_count": 0,
      "outputs": [
        {
          "output_type": "execute_result",
          "data": {
            "text/html": [
              "<div>\n",
              "<style scoped>\n",
              "    .dataframe tbody tr th:only-of-type {\n",
              "        vertical-align: middle;\n",
              "    }\n",
              "\n",
              "    .dataframe tbody tr th {\n",
              "        vertical-align: top;\n",
              "    }\n",
              "\n",
              "    .dataframe thead th {\n",
              "        text-align: right;\n",
              "    }\n",
              "</style>\n",
              "<table border=\"1\" class=\"dataframe\">\n",
              "  <thead>\n",
              "    <tr style=\"text-align: right;\">\n",
              "      <th></th>\n",
              "      <th>support</th>\n",
              "      <th>itemsets</th>\n",
              "      <th>length</th>\n",
              "    </tr>\n",
              "  </thead>\n",
              "  <tbody>\n",
              "    <tr>\n",
              "      <th>28</th>\n",
              "      <td>0.516588</td>\n",
              "      <td>(Female, Indian)</td>\n",
              "      <td>2</td>\n",
              "    </tr>\n",
              "    <tr>\n",
              "      <th>52</th>\n",
              "      <td>0.620853</td>\n",
              "      <td>(Moderate, Indian)</td>\n",
              "      <td>2</td>\n",
              "    </tr>\n",
              "  </tbody>\n",
              "</table>\n",
              "</div>"
            ],
            "text/plain": [
              "     support            itemsets  length\n",
              "28  0.516588    (Female, Indian)       2\n",
              "52  0.620853  (Moderate, Indian)       2"
            ]
          },
          "metadata": {
            "tags": []
          },
          "execution_count": 86
        }
      ]
    },
    {
      "cell_type": "code",
      "metadata": {
        "id": "qvYoxgVIb3E9",
        "colab_type": "code",
        "colab": {}
      },
      "source": [
        "rules=association_rules(frequent_itemsets, metric=\"confidence\", min_threshold=0.3)"
      ],
      "execution_count": 0,
      "outputs": []
    },
    {
      "cell_type": "code",
      "metadata": {
        "id": "Kpszqv1wcBz5",
        "colab_type": "code",
        "outputId": "6fcb6905-ae28-49e0-8d17-7ab203896e1c",
        "colab": {
          "base_uri": "https://localhost:8080/",
          "height": 260
        }
      },
      "source": [
        "print(rules)"
      ],
      "execution_count": 0,
      "outputs": [
        {
          "output_type": "stream",
          "text": [
            "             antecedents                  consequents  ...  leverage  conviction\n",
            "0                 (High)                     (Female)  ... -0.016621    0.853870\n",
            "1             (Moderate)                     (Female)  ...  0.024932    1.090701\n",
            "2               (Female)                   (Moderate)  ...  0.024932    1.159414\n",
            "3     (Non - Vegetarian)                     (Female)  ... -0.005885    0.968957\n",
            "4               (Female)           (Non - Vegetarian)  ... -0.005885    0.982261\n",
            "..                   ...                          ...  ...       ...         ...\n",
            "824      (Male, Chinese)  (Moderate, Italian, Indian)  ...  0.030525    1.238547\n",
            "825  (Moderate, Chinese)      (Male, Italian, Indian)  ...  0.041194    1.173839\n",
            "826      (Male, Italian)  (Moderate, Chinese, Indian)  ...  0.041643    1.462459\n",
            "827  (Moderate, Italian)      (Male, Chinese, Indian)  ...  0.030480    1.126104\n",
            "828     (Male, Moderate)   (Italian, Chinese, Indian)  ...  0.011770    1.068984\n",
            "\n",
            "[829 rows x 9 columns]\n"
          ],
          "name": "stdout"
        }
      ]
    }
  ]
}