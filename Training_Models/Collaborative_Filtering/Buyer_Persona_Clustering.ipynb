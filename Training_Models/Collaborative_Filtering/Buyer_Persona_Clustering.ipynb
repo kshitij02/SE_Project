{
 "cells": [
  {
   "cell_type": "code",
   "execution_count": 1,
   "metadata": {},
   "outputs": [],
   "source": [
    "from Data_Operations import*\n",
    "import numpy as np\n",
    "import pandas as pd\n",
    "import pickle\n",
    "\n",
    "from sklearn.decomposition import PCA\n",
    "from sklearn.cluster import KMeans\n",
    "from sklearn.cluster import SpectralClustering\n",
    "from sklearn.cluster import AgglomerativeClustering\n",
    "from sklearn.svm import LinearSVC\n",
    "from sklearn import metrics"
   ]
  },
  {
   "cell_type": "code",
   "execution_count": 2,
   "metadata": {},
   "outputs": [],
   "source": [
    "class CF_Matrix:\n",
    "\n",
    "    def __init__(self):\n",
    "\n",
    "        self.Rows = 0\n",
    "        self.Cols = 0\n",
    "        self.Matrix = None\n",
    "\n",
    "    ## Get quantity of product Prod_id purchased by user Cust_id\n",
    "    def Get_Quantity(self, Data, UserID_Col, ProductID_Col, Cust_id, Prod_id, Quantity_Col):\n",
    "\n",
    "        Cust_Id_Filter = Data.loc[Data[UserID_Col]==Cust_id]\n",
    "        Prod_Id_Filter = Cust_Id_Filter.loc[Cust_Id_Filter[ProductID_Col]==Prod_id]\n",
    "        Prod_Quantity = np.sum(Prod_Id_Filter[Quantity_Col])\n",
    "        return Prod_Quantity\n",
    "\n",
    "    ## Binary_Flag = 1 : Cell contains 1 if product is purchased by user\n",
    "    ## Binary_Flag = 0 : Cell contains quantity of products is purchased by user\n",
    "    def Build_User_Product_Matrix(self, Data, UserID_Col, ProductID_Col, Quantity_Col, Binary_Flag):\n",
    "\n",
    "        Customer_Ids = Data[UserID_Col].unique()\n",
    "        Product_Ids = Data[ProductID_Col].unique()\n",
    "        \n",
    "        self.Matrix = np.zeros((self.Rows, self.Cols))\n",
    "\n",
    "        for Cust_Id in Customer_Ids:\n",
    "            for Prod_Id in Product_Ids:\n",
    "\n",
    "                Prod_Quantity = self.Get_Quantity(Data, UserID_Col, ProductID_Col, Cust_Id, Prod_Id, Quantity_Col)\n",
    "\n",
    "                if Prod_Quantity > 0:\n",
    "                    if Binary_Flag:\n",
    "                        self.Matrix[Cust_Id][Prod_Id] = 1\n",
    "                    else:\n",
    "                        self.Matrix[Cust_Id][Prod_Id] = Prod_Quantity\n",
    "\n",
    "def Create_Purchase_Matrix():\n",
    "\n",
    "    Sales_data = Load_Data(Sales_filepath, Sales_Col_list, seperator=\",\")\n",
    "    Products_data = Load_Data(Products_filepath, Products_Col_list, seperator=\",\")\n",
    "    User_data = Load_Data(Users_filepath, Users_Col_list, seperator=\";\")\n",
    "\n",
    "    ## Analysis of No. of purchase orders per customer.\n",
    "    ## Instead of whole data, using only N users' data with maximum purchase orders\n",
    "    Num_Orders_List, Cust_Id_List = VisualizeSalesPerCustomer(Sales_data, UserID_Col)\n",
    "\n",
    "    ## Pre-Processing: Combine all data files in one consistent, sort and drop rows with missing value\n",
    "    Combined_Data = Combine_Data(Sales_data, User_data, Products_data, Cust_Id_List, UserID_Col, ProductID_Col)\n",
    "    Processed_Data = Data_Processing(Combined_Data)\n",
    "\n",
    "    ## Create User_Product Matrix for CF\n",
    "    User_Product_Mat = CF_Matrix()\n",
    "    User_Product_Mat.Rows = User_data.shape[0]\n",
    "    User_Product_Mat.Cols = Products_data.shape[0]\n",
    "    User_Product_Mat.Build_User_Product_Matrix(Processed_Data, UserID_Col, ProductID_Col, Quantity_Col, Binary_Flag=1)\n",
    "\n",
    "    return User_Product_Mat.Matrix, Cust_Id_List, list(Products_data[ProductID_Col])\n",
    "\n",
    "## Create User_PersonalInformation Matrix based on information filled by users\n",
    "def Create_User_Matrix():\n",
    "    return\n",
    "\n",
    "def Store_Matrix(Data_Matrix, UserID_List, DataFrame_Header, FilePath):\n",
    "\n",
    "    Matrix_DataFrame = []\n",
    "    for i in range(len(UserID_List)):\n",
    "        DF_Row = [UserID_List[i]]\n",
    "        DF_Row.extend(list(User_Product_Matrix[i]))\n",
    "        Matrix_DataFrame.append(DF_Row)\n",
    "\n",
    "    User_Product_Dataframe = pd.DataFrame(Matrix_DataFrame, columns=DataFrame_Header)\n",
    "    User_Product_Dataframe.to_csv(FilePath)"
   ]
  },
  {
   "cell_type": "code",
   "execution_count": 3,
   "metadata": {},
   "outputs": [],
   "source": [
    "Data_Folder_Path = \"/Users/pranjali/Downloads/SE_Project/Data/SalesDB/\"\n",
    "\n",
    "Sales_filepath = Data_Folder_Path + \"new_Reduced_sales.csv\"\n",
    "Sales_Col_list = [\"SalesID\", \"CustomerID\", \"ProductID\", \"Quantity\", \"SalesDate\"]\n",
    "\n",
    "Products_filepath = Data_Folder_Path + \"new_products.csv\"\n",
    "Products_Col_list = [\"ProductID\", \"ProductName\", \"CategoryID\", \"IsAllergic\"]\n",
    "\n",
    "Users_filepath = Data_Folder_Path + \"customers.csv\"\n",
    "Users_Col_list = [\"CustomerID\", \"FirstName\", \"LastName\", \"CityID\"]\n",
    "\n",
    "UserID_Col = \"CustomerID\"\n",
    "ProductID_Col = \"ProductID\"\n",
    "Quantity_Col = \"Quantity\"\n",
    "\n",
    "# TopN = 100"
   ]
  },
  {
   "cell_type": "code",
   "execution_count": 4,
   "metadata": {},
   "outputs": [
    {
     "name": "stdout",
     "output_type": "stream",
     "text": [
      "Loading data from  /Users/pranjali/Downloads/SE_Project/Data/SalesDB/new_Reduced_sales.csv\n",
      "number of rows, cols  (190814, 5)\n",
      "Loading data from  /Users/pranjali/Downloads/SE_Project/Data/SalesDB/new_products.csv\n",
      "number of rows, cols  (620, 4)\n",
      "Loading data from  /Users/pranjali/Downloads/SE_Project/Data/SalesDB/customers.csv\n",
      "number of rows, cols  (98759, 4)\n"
     ]
    }
   ],
   "source": [
    "User_Product_Matrix, UserID_List, ProductID_List = Create_Purchase_Matrix()\n",
    "\n",
    "Attribute_List = [UserID_Col]\n",
    "for i in ProductID_List:\n",
    "    Attribute_List.append(i)"
   ]
  },
  {
   "cell_type": "code",
   "execution_count": 5,
   "metadata": {},
   "outputs": [],
   "source": [
    "Store_Matrix(User_Product_Matrix, UserID_List, Attribute_List, \"./User_Product_Matrix.csv\")\n",
    "Store_Matrix(User_Product_Matrix[:1600], UserID_List[:1600], Attribute_List, \"./User_Product_Matrix_Train.csv\")\n",
    "Store_Matrix(User_Product_Matrix[1600:], UserID_List[1600:], Attribute_List, \"./User_Product_Matrix_Test.csv\")"
   ]
  },
  {
   "cell_type": "code",
   "execution_count": 6,
   "metadata": {},
   "outputs": [],
   "source": [
    "## Dimension Reduction using PCA\n",
    "def PCA_Transform(Matrix, No_Dimensions):\n",
    "    \n",
    "    pca = PCA(n_components=No_Dimensions)\n",
    "    Reduced_Matrix = pca.fit_transform(Matrix)\n",
    "    Reduced_Matrix = pd.DataFrame(Reduced_Matrix)\n",
    "    \n",
    "    return Reduced_Matrix\n",
    "\n",
    "\n",
    "## Clustering Algorithms\n",
    "\n",
    "## 1. KMeans Clustering\n",
    "def KMeans_Clustering(Matrix, No_Clusters):\n",
    "    \n",
    "    KMeans_Obj = KMeans(n_clusters=No_Clusters, init='k-means++').fit(Matrix)\n",
    "    Model_Predict = KMeans_Obj\n",
    "    Cluster_Labels = KMeans_Obj.labels_\n",
    "    \n",
    "    return Model_Predict, Cluster_Labels\n",
    "\n",
    "## Using LineasSCV for prediction of labels for future data in case of transductive clustering algorithms\n",
    "## reference: https://github.com/scikit-learn/scikit-learn/issues/901\n",
    "\n",
    "## 2. Hierarchical Clustering\n",
    "def Hierarchical_Clustering(Matrix, No_Clusters):\n",
    "    Clustering_Obj = AgglomerativeClustering(n_clusters=No_Clusters, linkage=\"complete\").fit(Matrix)\n",
    "    Cluster_Labels= Clustering_Obj.labels_\n",
    "    Model_Predict = LinearSVC().fit(Matrix, Cluster_Labels)\n",
    "    \n",
    "    return Model_Predict, Cluster_Labels\n",
    "\n",
    "## 3. Spectral Clustering\n",
    "def Spectral_Clustering(Matrix, No_Clusters):\n",
    "    Clustering_Obj = SpectralClustering(n_clusters=No_Clusters, assign_labels=\"discretize\", random_state=0).fit(Matrix)\n",
    "    Cluster_Labels = Clustering_Obj.labels_\n",
    "    Model_Predict = LinearSVC().fit(Matrix, Cluster_Labels)\n",
    " \n",
    "    return Model_Predict, Cluster_Labels\n",
    "\n",
    "\n",
    "## Clustering performance evaluation metrics\n",
    "def Clustering_Evaluation(Matrix, Cluster_Labels, Dist_Metric='euclidean'):\n",
    "    \n",
    "    ## 1. The Silhouette Coefficient\n",
    "    ## The score is bounded between -1 for incorrect clustering and +1 for highly dense clustering. \n",
    "    ## Scores around zero indicate overlapping clusters.\n",
    "    \n",
    "    Silhouette_Score = metrics.silhouette_score(Matrix, Cluster_Labels, metric=Dist_Metric)\n",
    "    \n",
    "    ## 2. The Calinski-Harabasz index (Variance Ratio Criteria)\n",
    "    ## The index is the ratio of the sum of between-clusters dispersion and of inter-cluster dispersion for all clusters.\n",
    "    ## The score is higher when clusters are dense and well separated.\n",
    "    \n",
    "#     CH_Index = metrics.calinski_harabasz_score(Matrix, Cluster_Labels)\n",
    "    CH_Index = 0\n",
    "    \n",
    "    ## 3. The Davies-Bouldin index\n",
    "    ## This index signifies the average ‘similarity’ between clusters, where the similarity is a measure \n",
    "    ## that compares the distance between clusters with the size of the clusters themselves.\n",
    "    ## Zero is the lowest possible score. Values closer to zero indicate a better partition.\n",
    "    \n",
    "    DB_Index = metrics.davies_bouldin_score(Matrix, Cluster_Labels)\n",
    "    \n",
    "    return Silhouette_Score, CH_Index, DB_Index\n",
    "\n",
    "\n",
    "\n",
    "def Perform_Clustering(Matrix, Clustering_Algo, No_Clusters):\n",
    "    \n",
    "    if Clustering_Algo=='KMeans':\n",
    "        Model_Predict, Labels = KMeans_Clustering(Matrix, No_Clusters)\n",
    "        Evaluation_Metrics = Clustering_Evaluation(Matrix, Labels, 'euclidean')\n",
    "                \n",
    "    elif Clustering_Algo=='Hierarchical':\n",
    "        Model_Predict, Labels = Hierarchical_Clustering(Matrix, No_Clusters)\n",
    "        Evaluation_Metrics = Clustering_Evaluation(Matrix, Labels)\n",
    "        \n",
    "    elif Clustering_Algo=='Spectral':\n",
    "        Model_Predict, Labels = Spectral_Clustering(Matrix, No_Clusters)\n",
    "        Evaluation_Metrics = Clustering_Evaluation(Matrix, Labels)\n",
    "\n",
    "    else:\n",
    "        print(\"Invalid algotirthm: \", Clustering_Algo)\n",
    "        \n",
    "    return (Model_Predict, Labels, Evaluation_Metrics)\n",
    "\n",
    "\n",
    "\n",
    "def Clustering_Comparison(Matrix, Clustering_AlgoList=[], No_Clusters_List=[], PCA_List=[]):\n",
    "        \n",
    "    Clustering_Results = []\n",
    "    \n",
    "    for dimension in PCA_List:\n",
    "        if int(dimension) != 0:\n",
    "            pca_dimension = dimension\n",
    "            Reduced_Matrix = PCA_Transform(Matrix, pca_dimension)\n",
    "        else:\n",
    "            pca_dimension = Matrix.shape[1]\n",
    "            Reduced_Matrix = Matrix\n",
    "            \n",
    "        for algo in Clustering_AlgoList:\n",
    "            for No_Clusters in No_Clusters_List:\n",
    "                \n",
    "                Model_Predict, Labels, Evaluation_Metrics = Perform_Clustering(Reduced_Matrix, algo, No_Clusters)\n",
    "\n",
    "                print(\"---------------------------------------------------------------------------\")\n",
    "                print(\"Performace for algo: \" + str(algo) + \", No. of clusters: \"+ str(No_Clusters) + \", PCA with dimensions: \" + str(pca_dimension))\n",
    "                print(\"Silhouette Coefficient:  \", Evaluation_Metrics[0])\n",
    "#                 print(\"Calinski-Harabasz Index: \", Evaluation_Metrics[1])\n",
    "                print(\"Davies-Bouldin Index:    \", Evaluation_Metrics[2])\n",
    "                \n",
    "                Model_Details = (algo, No_Clusters, pca_dimension)\n",
    "                Clustering_Results.append((Model_Details, Evaluation_Metrics))\n",
    "    \n",
    "#     Sorted_Result = sorted(Clustering_Results, key=lambda x: (-x[1][0], -x[1][1], x[1][2]))\n",
    "    Sorted_Result = sorted(Clustering_Results, key=lambda x: (x[1][2], -x[1][0]))\n",
    "    Best_Result = Sorted_Result[0]\n",
    "    \n",
    "    Best_Result_Eval = Best_Result[1]\n",
    "    print(\"=========================== BEST RESULT ============================\")\n",
    "    print(\"Silhouette Coefficient:  \", Best_Result_Eval[0])\n",
    "    print(\"Calinski-Harabasz Index: \", Best_Result_Eval[1])\n",
    "    print(\"Davies-Bouldin Index:    \", Best_Result_Eval[2])\n",
    "    \n",
    "    Best_Model_Params = Best_Result[0]\n",
    "    print(\"============================ BEST MODEL =============================\")\n",
    "    print(\"Algorithm:           \", Best_Model_Params[0])\n",
    "    print(\"No. of clusters:     \", Best_Model_Params[1])\n",
    "    print(\"Dimension Reduction: \", Best_Model_Params[2])\n",
    "    \n",
    "    return Best_Model_Params\n",
    "    \n",
    "## Store Clustering Algorithm Output\n",
    "def Store_Clusters(Model_Predict, pca_dimension, UserID_List, Labels, Output_Folder_Path):\n",
    "    \n",
    "    ## Store Model Params which will be used in prediction of labels for future data.\n",
    "    ## Load this model and call predict() function on 'Model_Predict' for inference.\n",
    "    Saved_Model = {'Model' : Model_Predict, 'Dimensions' : pca_dimension}\n",
    "    with open(Output_Folder_Path + \"/Saved_Model.pkl\", 'wb') as output_file:\n",
    "        pickle.dump(Saved_Model, output_file)\n",
    "    print(\"Storing trained clustering model...\")\n",
    "    \n",
    "    ## Store UserIDs divided into clusters which will be used to train autoencoders in next phase.\n",
    "    Clusters = {}\n",
    "    for i in range(len(Labels)):\n",
    "        \n",
    "        label = Labels[i]\n",
    "        UserID = UserID_List[i]\n",
    "        \n",
    "        if label not in Clusters.keys():\n",
    "            Clusters[label] = [UserID]\n",
    "        else:\n",
    "            Clusters[label].append(UserID)\n",
    "            \n",
    "    with open(Output_Folder_Path + \"/Clusters.pkl\", 'wb') as output_file:\n",
    "        pickle.dump(Clusters, output_file)\n",
    "    print(\"Storing clustered UserIDs...\")\n",
    "    "
   ]
  },
  {
   "cell_type": "code",
   "execution_count": 7,
   "metadata": {},
   "outputs": [],
   "source": [
    "Matrix_FilePath = \"./User_Product_Matrix_Train.csv\"\n",
    "Col_List=[str(i) for i in range(1,453)]\n",
    "\n",
    "Clustering_AlgoList = ['KMeans', 'Hierarchical', 'Spectral']\n",
    "No_Clusters_List = [2, 3, 4, 5, 6, 7]\n",
    "PCA_List = [0, 100, 200]\n",
    "UserID_Col = \"CustomerID\""
   ]
  },
  {
   "cell_type": "code",
   "execution_count": 8,
   "metadata": {},
   "outputs": [
    {
     "name": "stderr",
     "output_type": "stream",
     "text": [
      "/Library/Frameworks/Python.framework/Versions/3.7/lib/python3.7/site-packages/sklearn/metrics/cluster/unsupervised.py:342: RuntimeWarning: divide by zero encountered in true_divide\n",
      "  score = (intra_dists[:, None] + intra_dists) / centroid_distances\n",
      "/Library/Frameworks/Python.framework/Versions/3.7/lib/python3.7/site-packages/sklearn/metrics/cluster/unsupervised.py:342: RuntimeWarning: invalid value encountered in true_divide\n",
      "  score = (intra_dists[:, None] + intra_dists) / centroid_distances\n",
      "/Library/Frameworks/Python.framework/Versions/3.7/lib/python3.7/site-packages/sklearn/metrics/cluster/unsupervised.py:342: RuntimeWarning: divide by zero encountered in true_divide\n",
      "  score = (intra_dists[:, None] + intra_dists) / centroid_distances\n",
      "/Library/Frameworks/Python.framework/Versions/3.7/lib/python3.7/site-packages/sklearn/metrics/cluster/unsupervised.py:342: RuntimeWarning: invalid value encountered in true_divide\n",
      "  score = (intra_dists[:, None] + intra_dists) / centroid_distances\n"
     ]
    },
    {
     "name": "stdout",
     "output_type": "stream",
     "text": [
      "---------------------------------------------------------------------------\n",
      "Performace for algo: KMeans, No. of clusters: 2, PCA with dimensions: 452\n",
      "Silhouette Coefficient:   0.9772982018569379\n",
      "Davies-Bouldin Index:     1.1268951264276887\n",
      "---------------------------------------------------------------------------\n",
      "Performace for algo: KMeans, No. of clusters: 3, PCA with dimensions: 452\n",
      "Silhouette Coefficient:   0.9774686762894774\n",
      "Davies-Bouldin Index:     3.368787866375447\n"
     ]
    },
    {
     "name": "stderr",
     "output_type": "stream",
     "text": [
      "/Library/Frameworks/Python.framework/Versions/3.7/lib/python3.7/site-packages/sklearn/metrics/cluster/unsupervised.py:342: RuntimeWarning: divide by zero encountered in true_divide\n",
      "  score = (intra_dists[:, None] + intra_dists) / centroid_distances\n",
      "/Library/Frameworks/Python.framework/Versions/3.7/lib/python3.7/site-packages/sklearn/metrics/cluster/unsupervised.py:342: RuntimeWarning: invalid value encountered in true_divide\n",
      "  score = (intra_dists[:, None] + intra_dists) / centroid_distances\n",
      "/Library/Frameworks/Python.framework/Versions/3.7/lib/python3.7/site-packages/sklearn/metrics/cluster/unsupervised.py:342: RuntimeWarning: divide by zero encountered in true_divide\n",
      "  score = (intra_dists[:, None] + intra_dists) / centroid_distances\n",
      "/Library/Frameworks/Python.framework/Versions/3.7/lib/python3.7/site-packages/sklearn/metrics/cluster/unsupervised.py:342: RuntimeWarning: invalid value encountered in true_divide\n",
      "  score = (intra_dists[:, None] + intra_dists) / centroid_distances\n"
     ]
    },
    {
     "name": "stdout",
     "output_type": "stream",
     "text": [
      "---------------------------------------------------------------------------\n",
      "Performace for algo: KMeans, No. of clusters: 4, PCA with dimensions: 452\n",
      "Silhouette Coefficient:   0.9775836845371536\n",
      "Davies-Bouldin Index:     3.0640589981568724\n",
      "---------------------------------------------------------------------------\n",
      "Performace for algo: KMeans, No. of clusters: 5, PCA with dimensions: 452\n",
      "Silhouette Coefficient:   0.9776737832084612\n",
      "Davies-Bouldin Index:     2.8184238300168327\n"
     ]
    },
    {
     "name": "stderr",
     "output_type": "stream",
     "text": [
      "/Library/Frameworks/Python.framework/Versions/3.7/lib/python3.7/site-packages/sklearn/metrics/cluster/unsupervised.py:342: RuntimeWarning: divide by zero encountered in true_divide\n",
      "  score = (intra_dists[:, None] + intra_dists) / centroid_distances\n",
      "/Library/Frameworks/Python.framework/Versions/3.7/lib/python3.7/site-packages/sklearn/metrics/cluster/unsupervised.py:342: RuntimeWarning: invalid value encountered in true_divide\n",
      "  score = (intra_dists[:, None] + intra_dists) / centroid_distances\n",
      "/Library/Frameworks/Python.framework/Versions/3.7/lib/python3.7/site-packages/sklearn/metrics/cluster/unsupervised.py:342: RuntimeWarning: divide by zero encountered in true_divide\n",
      "  score = (intra_dists[:, None] + intra_dists) / centroid_distances\n",
      "/Library/Frameworks/Python.framework/Versions/3.7/lib/python3.7/site-packages/sklearn/metrics/cluster/unsupervised.py:342: RuntimeWarning: invalid value encountered in true_divide\n",
      "  score = (intra_dists[:, None] + intra_dists) / centroid_distances\n"
     ]
    },
    {
     "name": "stdout",
     "output_type": "stream",
     "text": [
      "---------------------------------------------------------------------------\n",
      "Performace for algo: KMeans, No. of clusters: 6, PCA with dimensions: 452\n",
      "Silhouette Coefficient:   0.9777679429536245\n",
      "Davies-Bouldin Index:     2.491733713863003\n",
      "---------------------------------------------------------------------------\n",
      "Performace for algo: KMeans, No. of clusters: 7, PCA with dimensions: 452\n",
      "Silhouette Coefficient:   0.9779047344365017\n",
      "Davies-Bouldin Index:     2.2909855927233638\n"
     ]
    },
    {
     "name": "stderr",
     "output_type": "stream",
     "text": [
      "/Library/Frameworks/Python.framework/Versions/3.7/lib/python3.7/site-packages/sklearn/metrics/cluster/unsupervised.py:342: RuntimeWarning: divide by zero encountered in true_divide\n",
      "  score = (intra_dists[:, None] + intra_dists) / centroid_distances\n"
     ]
    },
    {
     "name": "stdout",
     "output_type": "stream",
     "text": [
      "---------------------------------------------------------------------------\n",
      "Performace for algo: Hierarchical, No. of clusters: 2, PCA with dimensions: 452\n",
      "Silhouette Coefficient:   0.9636923520273806\n",
      "Davies-Bouldin Index:     1.0249541826113706\n"
     ]
    },
    {
     "name": "stderr",
     "output_type": "stream",
     "text": [
      "/Library/Frameworks/Python.framework/Versions/3.7/lib/python3.7/site-packages/sklearn/metrics/cluster/unsupervised.py:342: RuntimeWarning: divide by zero encountered in true_divide\n",
      "  score = (intra_dists[:, None] + intra_dists) / centroid_distances\n"
     ]
    },
    {
     "name": "stdout",
     "output_type": "stream",
     "text": [
      "---------------------------------------------------------------------------\n",
      "Performace for algo: Hierarchical, No. of clusters: 3, PCA with dimensions: 452\n",
      "Silhouette Coefficient:   0.9652755538015182\n",
      "Davies-Bouldin Index:     1.9008946656062211\n"
     ]
    },
    {
     "name": "stderr",
     "output_type": "stream",
     "text": [
      "/Library/Frameworks/Python.framework/Versions/3.7/lib/python3.7/site-packages/sklearn/metrics/cluster/unsupervised.py:342: RuntimeWarning: divide by zero encountered in true_divide\n",
      "  score = (intra_dists[:, None] + intra_dists) / centroid_distances\n"
     ]
    },
    {
     "name": "stdout",
     "output_type": "stream",
     "text": [
      "---------------------------------------------------------------------------\n",
      "Performace for algo: Hierarchical, No. of clusters: 4, PCA with dimensions: 452\n",
      "Silhouette Coefficient:   0.973295948323976\n",
      "Davies-Bouldin Index:     2.6724383041746074\n"
     ]
    },
    {
     "name": "stderr",
     "output_type": "stream",
     "text": [
      "/Library/Frameworks/Python.framework/Versions/3.7/lib/python3.7/site-packages/sklearn/metrics/cluster/unsupervised.py:342: RuntimeWarning: divide by zero encountered in true_divide\n",
      "  score = (intra_dists[:, None] + intra_dists) / centroid_distances\n"
     ]
    },
    {
     "name": "stdout",
     "output_type": "stream",
     "text": [
      "---------------------------------------------------------------------------\n",
      "Performace for algo: Hierarchical, No. of clusters: 5, PCA with dimensions: 452\n",
      "Silhouette Coefficient:   0.9734006253475453\n",
      "Davies-Bouldin Index:     2.324959952431135\n"
     ]
    },
    {
     "name": "stderr",
     "output_type": "stream",
     "text": [
      "/Library/Frameworks/Python.framework/Versions/3.7/lib/python3.7/site-packages/sklearn/metrics/cluster/unsupervised.py:342: RuntimeWarning: divide by zero encountered in true_divide\n",
      "  score = (intra_dists[:, None] + intra_dists) / centroid_distances\n"
     ]
    },
    {
     "name": "stdout",
     "output_type": "stream",
     "text": [
      "---------------------------------------------------------------------------\n",
      "Performace for algo: Hierarchical, No. of clusters: 6, PCA with dimensions: 452\n",
      "Silhouette Coefficient:   0.9734186643607393\n",
      "Davies-Bouldin Index:     2.4456091408581653\n"
     ]
    },
    {
     "name": "stderr",
     "output_type": "stream",
     "text": [
      "/Library/Frameworks/Python.framework/Versions/3.7/lib/python3.7/site-packages/sklearn/metrics/cluster/unsupervised.py:342: RuntimeWarning: divide by zero encountered in true_divide\n",
      "  score = (intra_dists[:, None] + intra_dists) / centroid_distances\n"
     ]
    },
    {
     "name": "stdout",
     "output_type": "stream",
     "text": [
      "---------------------------------------------------------------------------\n",
      "Performace for algo: Hierarchical, No. of clusters: 7, PCA with dimensions: 452\n",
      "Silhouette Coefficient:   0.9752977564028709\n",
      "Davies-Bouldin Index:     2.4112696853180577\n"
     ]
    },
    {
     "name": "stderr",
     "output_type": "stream",
     "text": [
      "/Library/Frameworks/Python.framework/Versions/3.7/lib/python3.7/site-packages/sklearn/metrics/cluster/unsupervised.py:342: RuntimeWarning: divide by zero encountered in true_divide\n",
      "  score = (intra_dists[:, None] + intra_dists) / centroid_distances\n"
     ]
    },
    {
     "name": "stdout",
     "output_type": "stream",
     "text": [
      "---------------------------------------------------------------------------\n",
      "Performace for algo: Spectral, No. of clusters: 2, PCA with dimensions: 452\n",
      "Silhouette Coefficient:   0.9635292994567283\n",
      "Davies-Bouldin Index:     1.014995991504785\n"
     ]
    },
    {
     "name": "stderr",
     "output_type": "stream",
     "text": [
      "/Library/Frameworks/Python.framework/Versions/3.7/lib/python3.7/site-packages/sklearn/metrics/cluster/unsupervised.py:342: RuntimeWarning: divide by zero encountered in true_divide\n",
      "  score = (intra_dists[:, None] + intra_dists) / centroid_distances\n"
     ]
    },
    {
     "name": "stdout",
     "output_type": "stream",
     "text": [
      "---------------------------------------------------------------------------\n",
      "Performace for algo: Spectral, No. of clusters: 3, PCA with dimensions: 452\n",
      "Silhouette Coefficient:   0.9677193332308122\n",
      "Davies-Bouldin Index:     1.9041573560900387\n"
     ]
    },
    {
     "name": "stderr",
     "output_type": "stream",
     "text": [
      "/Library/Frameworks/Python.framework/Versions/3.7/lib/python3.7/site-packages/sklearn/metrics/cluster/unsupervised.py:342: RuntimeWarning: divide by zero encountered in true_divide\n",
      "  score = (intra_dists[:, None] + intra_dists) / centroid_distances\n"
     ]
    },
    {
     "name": "stdout",
     "output_type": "stream",
     "text": [
      "---------------------------------------------------------------------------\n",
      "Performace for algo: Spectral, No. of clusters: 4, PCA with dimensions: 452\n",
      "Silhouette Coefficient:   0.9701050859131687\n",
      "Davies-Bouldin Index:     2.2064651507083566\n"
     ]
    },
    {
     "name": "stderr",
     "output_type": "stream",
     "text": [
      "/Library/Frameworks/Python.framework/Versions/3.7/lib/python3.7/site-packages/sklearn/metrics/cluster/unsupervised.py:342: RuntimeWarning: divide by zero encountered in true_divide\n",
      "  score = (intra_dists[:, None] + intra_dists) / centroid_distances\n"
     ]
    },
    {
     "name": "stdout",
     "output_type": "stream",
     "text": [
      "---------------------------------------------------------------------------\n",
      "Performace for algo: Spectral, No. of clusters: 5, PCA with dimensions: 452\n",
      "Silhouette Coefficient:   0.9706451556807103\n",
      "Davies-Bouldin Index:     2.1305917654947093\n"
     ]
    },
    {
     "name": "stderr",
     "output_type": "stream",
     "text": [
      "/Library/Frameworks/Python.framework/Versions/3.7/lib/python3.7/site-packages/sklearn/metrics/cluster/unsupervised.py:342: RuntimeWarning: divide by zero encountered in true_divide\n",
      "  score = (intra_dists[:, None] + intra_dists) / centroid_distances\n"
     ]
    },
    {
     "name": "stdout",
     "output_type": "stream",
     "text": [
      "---------------------------------------------------------------------------\n",
      "Performace for algo: Spectral, No. of clusters: 6, PCA with dimensions: 452\n",
      "Silhouette Coefficient:   0.9707136068226359\n",
      "Davies-Bouldin Index:     2.01892714145676\n"
     ]
    },
    {
     "name": "stderr",
     "output_type": "stream",
     "text": [
      "/Library/Frameworks/Python.framework/Versions/3.7/lib/python3.7/site-packages/sklearn/metrics/cluster/unsupervised.py:342: RuntimeWarning: divide by zero encountered in true_divide\n",
      "  score = (intra_dists[:, None] + intra_dists) / centroid_distances\n",
      "/Library/Frameworks/Python.framework/Versions/3.7/lib/python3.7/site-packages/sklearn/metrics/cluster/unsupervised.py:342: RuntimeWarning: divide by zero encountered in true_divide\n",
      "  score = (intra_dists[:, None] + intra_dists) / centroid_distances\n"
     ]
    },
    {
     "name": "stdout",
     "output_type": "stream",
     "text": [
      "---------------------------------------------------------------------------\n",
      "Performace for algo: Spectral, No. of clusters: 7, PCA with dimensions: 452\n",
      "Silhouette Coefficient:   0.9712998499043246\n",
      "Davies-Bouldin Index:     1.868033612054329\n",
      "---------------------------------------------------------------------------\n",
      "Performace for algo: KMeans, No. of clusters: 2, PCA with dimensions: 100\n",
      "Silhouette Coefficient:   0.977298201640053\n",
      "Davies-Bouldin Index:     1.1268951266637819\n"
     ]
    },
    {
     "name": "stderr",
     "output_type": "stream",
     "text": [
      "/Library/Frameworks/Python.framework/Versions/3.7/lib/python3.7/site-packages/sklearn/metrics/cluster/unsupervised.py:342: RuntimeWarning: divide by zero encountered in true_divide\n",
      "  score = (intra_dists[:, None] + intra_dists) / centroid_distances\n",
      "/Library/Frameworks/Python.framework/Versions/3.7/lib/python3.7/site-packages/sklearn/metrics/cluster/unsupervised.py:342: RuntimeWarning: divide by zero encountered in true_divide\n",
      "  score = (intra_dists[:, None] + intra_dists) / centroid_distances\n",
      "/Library/Frameworks/Python.framework/Versions/3.7/lib/python3.7/site-packages/sklearn/metrics/cluster/unsupervised.py:342: RuntimeWarning: divide by zero encountered in true_divide\n",
      "  score = (intra_dists[:, None] + intra_dists) / centroid_distances\n"
     ]
    },
    {
     "name": "stdout",
     "output_type": "stream",
     "text": [
      "---------------------------------------------------------------------------\n",
      "Performace for algo: KMeans, No. of clusters: 3, PCA with dimensions: 100\n",
      "Silhouette Coefficient:   0.9774609159773885\n",
      "Davies-Bouldin Index:     3.3854028300882812\n",
      "---------------------------------------------------------------------------\n",
      "Performace for algo: KMeans, No. of clusters: 4, PCA with dimensions: 100\n",
      "Silhouette Coefficient:   0.9775811855961765\n",
      "Davies-Bouldin Index:     2.4105545142305154\n",
      "---------------------------------------------------------------------------\n",
      "Performace for algo: KMeans, No. of clusters: 5, PCA with dimensions: 100\n",
      "Silhouette Coefficient:   0.9777540662885061\n",
      "Davies-Bouldin Index:     2.7787999883228687\n"
     ]
    },
    {
     "name": "stderr",
     "output_type": "stream",
     "text": [
      "/Library/Frameworks/Python.framework/Versions/3.7/lib/python3.7/site-packages/sklearn/metrics/cluster/unsupervised.py:342: RuntimeWarning: divide by zero encountered in true_divide\n",
      "  score = (intra_dists[:, None] + intra_dists) / centroid_distances\n",
      "/Library/Frameworks/Python.framework/Versions/3.7/lib/python3.7/site-packages/sklearn/metrics/cluster/unsupervised.py:342: RuntimeWarning: divide by zero encountered in true_divide\n",
      "  score = (intra_dists[:, None] + intra_dists) / centroid_distances\n"
     ]
    },
    {
     "name": "stdout",
     "output_type": "stream",
     "text": [
      "---------------------------------------------------------------------------\n",
      "Performace for algo: KMeans, No. of clusters: 6, PCA with dimensions: 100\n",
      "Silhouette Coefficient:   0.9777727317506194\n",
      "Davies-Bouldin Index:     2.79716985923015\n",
      "---------------------------------------------------------------------------\n",
      "Performace for algo: KMeans, No. of clusters: 7, PCA with dimensions: 100\n",
      "Silhouette Coefficient:   0.9778417752701446\n",
      "Davies-Bouldin Index:     2.504351539561704\n"
     ]
    },
    {
     "name": "stderr",
     "output_type": "stream",
     "text": [
      "/Library/Frameworks/Python.framework/Versions/3.7/lib/python3.7/site-packages/sklearn/metrics/cluster/unsupervised.py:342: RuntimeWarning: divide by zero encountered in true_divide\n",
      "  score = (intra_dists[:, None] + intra_dists) / centroid_distances\n"
     ]
    },
    {
     "name": "stdout",
     "output_type": "stream",
     "text": [
      "---------------------------------------------------------------------------\n",
      "Performace for algo: Hierarchical, No. of clusters: 2, PCA with dimensions: 100\n",
      "Silhouette Coefficient:   0.9629328029896559\n",
      "Davies-Bouldin Index:     0.9376720283706825\n"
     ]
    },
    {
     "name": "stderr",
     "output_type": "stream",
     "text": [
      "/Library/Frameworks/Python.framework/Versions/3.7/lib/python3.7/site-packages/sklearn/metrics/cluster/unsupervised.py:342: RuntimeWarning: divide by zero encountered in true_divide\n",
      "  score = (intra_dists[:, None] + intra_dists) / centroid_distances\n"
     ]
    },
    {
     "name": "stdout",
     "output_type": "stream",
     "text": [
      "---------------------------------------------------------------------------\n",
      "Performace for algo: Hierarchical, No. of clusters: 3, PCA with dimensions: 100\n",
      "Silhouette Coefficient:   0.9654135686743467\n",
      "Davies-Bouldin Index:     1.8591925089132548\n"
     ]
    },
    {
     "name": "stderr",
     "output_type": "stream",
     "text": [
      "/Library/Frameworks/Python.framework/Versions/3.7/lib/python3.7/site-packages/sklearn/metrics/cluster/unsupervised.py:342: RuntimeWarning: divide by zero encountered in true_divide\n",
      "  score = (intra_dists[:, None] + intra_dists) / centroid_distances\n"
     ]
    },
    {
     "name": "stdout",
     "output_type": "stream",
     "text": [
      "---------------------------------------------------------------------------\n",
      "Performace for algo: Hierarchical, No. of clusters: 4, PCA with dimensions: 100\n",
      "Silhouette Coefficient:   0.9682269311777683\n",
      "Davies-Bouldin Index:     2.18085335111447\n"
     ]
    },
    {
     "name": "stderr",
     "output_type": "stream",
     "text": [
      "/Library/Frameworks/Python.framework/Versions/3.7/lib/python3.7/site-packages/sklearn/metrics/cluster/unsupervised.py:342: RuntimeWarning: divide by zero encountered in true_divide\n",
      "  score = (intra_dists[:, None] + intra_dists) / centroid_distances\n",
      "/Library/Frameworks/Python.framework/Versions/3.7/lib/python3.7/site-packages/sklearn/metrics/cluster/unsupervised.py:342: RuntimeWarning: invalid value encountered in true_divide\n",
      "  score = (intra_dists[:, None] + intra_dists) / centroid_distances\n"
     ]
    },
    {
     "name": "stdout",
     "output_type": "stream",
     "text": [
      "---------------------------------------------------------------------------\n",
      "Performace for algo: Hierarchical, No. of clusters: 5, PCA with dimensions: 100\n",
      "Silhouette Coefficient:   0.9682517098864071\n",
      "Davies-Bouldin Index:     1.8525329783248616\n"
     ]
    },
    {
     "name": "stderr",
     "output_type": "stream",
     "text": [
      "/Library/Frameworks/Python.framework/Versions/3.7/lib/python3.7/site-packages/sklearn/metrics/cluster/unsupervised.py:342: RuntimeWarning: divide by zero encountered in true_divide\n",
      "  score = (intra_dists[:, None] + intra_dists) / centroid_distances\n",
      "/Library/Frameworks/Python.framework/Versions/3.7/lib/python3.7/site-packages/sklearn/metrics/cluster/unsupervised.py:342: RuntimeWarning: invalid value encountered in true_divide\n",
      "  score = (intra_dists[:, None] + intra_dists) / centroid_distances\n"
     ]
    },
    {
     "name": "stdout",
     "output_type": "stream",
     "text": [
      "---------------------------------------------------------------------------\n",
      "Performace for algo: Hierarchical, No. of clusters: 6, PCA with dimensions: 100\n",
      "Silhouette Coefficient:   0.9746541550251373\n",
      "Davies-Bouldin Index:     2.3397530235557444\n"
     ]
    },
    {
     "name": "stderr",
     "output_type": "stream",
     "text": [
      "/Library/Frameworks/Python.framework/Versions/3.7/lib/python3.7/site-packages/sklearn/metrics/cluster/unsupervised.py:342: RuntimeWarning: divide by zero encountered in true_divide\n",
      "  score = (intra_dists[:, None] + intra_dists) / centroid_distances\n",
      "/Library/Frameworks/Python.framework/Versions/3.7/lib/python3.7/site-packages/sklearn/metrics/cluster/unsupervised.py:342: RuntimeWarning: invalid value encountered in true_divide\n",
      "  score = (intra_dists[:, None] + intra_dists) / centroid_distances\n"
     ]
    },
    {
     "name": "stdout",
     "output_type": "stream",
     "text": [
      "---------------------------------------------------------------------------\n",
      "Performace for algo: Hierarchical, No. of clusters: 7, PCA with dimensions: 100\n",
      "Silhouette Coefficient:   0.9747156772997672\n",
      "Davies-Bouldin Index:     2.2301122165690255\n"
     ]
    },
    {
     "name": "stderr",
     "output_type": "stream",
     "text": [
      "/Library/Frameworks/Python.framework/Versions/3.7/lib/python3.7/site-packages/sklearn/metrics/cluster/unsupervised.py:342: RuntimeWarning: divide by zero encountered in true_divide\n",
      "  score = (intra_dists[:, None] + intra_dists) / centroid_distances\n"
     ]
    },
    {
     "name": "stdout",
     "output_type": "stream",
     "text": [
      "---------------------------------------------------------------------------\n",
      "Performace for algo: Spectral, No. of clusters: 2, PCA with dimensions: 100\n",
      "Silhouette Coefficient:   0.9630389443950478\n",
      "Davies-Bouldin Index:     1.002141748266082\n"
     ]
    },
    {
     "name": "stderr",
     "output_type": "stream",
     "text": [
      "/Library/Frameworks/Python.framework/Versions/3.7/lib/python3.7/site-packages/sklearn/metrics/cluster/unsupervised.py:342: RuntimeWarning: divide by zero encountered in true_divide\n",
      "  score = (intra_dists[:, None] + intra_dists) / centroid_distances\n"
     ]
    },
    {
     "name": "stdout",
     "output_type": "stream",
     "text": [
      "---------------------------------------------------------------------------\n",
      "Performace for algo: Spectral, No. of clusters: 3, PCA with dimensions: 100\n",
      "Silhouette Coefficient:   0.9682177817973124\n",
      "Davies-Bouldin Index:     1.9422642868243223\n"
     ]
    },
    {
     "name": "stderr",
     "output_type": "stream",
     "text": [
      "/Library/Frameworks/Python.framework/Versions/3.7/lib/python3.7/site-packages/sklearn/metrics/cluster/unsupervised.py:342: RuntimeWarning: divide by zero encountered in true_divide\n",
      "  score = (intra_dists[:, None] + intra_dists) / centroid_distances\n"
     ]
    },
    {
     "name": "stdout",
     "output_type": "stream",
     "text": [
      "---------------------------------------------------------------------------\n",
      "Performace for algo: Spectral, No. of clusters: 4, PCA with dimensions: 100\n",
      "Silhouette Coefficient:   0.9701050857000074\n",
      "Davies-Bouldin Index:     2.206465150708353\n"
     ]
    },
    {
     "name": "stderr",
     "output_type": "stream",
     "text": [
      "/Library/Frameworks/Python.framework/Versions/3.7/lib/python3.7/site-packages/sklearn/metrics/cluster/unsupervised.py:342: RuntimeWarning: divide by zero encountered in true_divide\n",
      "  score = (intra_dists[:, None] + intra_dists) / centroid_distances\n"
     ]
    },
    {
     "name": "stdout",
     "output_type": "stream",
     "text": [
      "---------------------------------------------------------------------------\n",
      "Performace for algo: Spectral, No. of clusters: 5, PCA with dimensions: 100\n",
      "Silhouette Coefficient:   0.9706451554657408\n",
      "Davies-Bouldin Index:     2.1305917654947133\n"
     ]
    },
    {
     "name": "stderr",
     "output_type": "stream",
     "text": [
      "/Library/Frameworks/Python.framework/Versions/3.7/lib/python3.7/site-packages/sklearn/metrics/cluster/unsupervised.py:342: RuntimeWarning: divide by zero encountered in true_divide\n",
      "  score = (intra_dists[:, None] + intra_dists) / centroid_distances\n"
     ]
    },
    {
     "name": "stdout",
     "output_type": "stream",
     "text": [
      "---------------------------------------------------------------------------\n",
      "Performace for algo: Spectral, No. of clusters: 6, PCA with dimensions: 100\n",
      "Silhouette Coefficient:   0.9712725399126774\n",
      "Davies-Bouldin Index:     2.0596417189517537\n"
     ]
    },
    {
     "name": "stderr",
     "output_type": "stream",
     "text": [
      "/Library/Frameworks/Python.framework/Versions/3.7/lib/python3.7/site-packages/sklearn/metrics/cluster/unsupervised.py:342: RuntimeWarning: divide by zero encountered in true_divide\n",
      "  score = (intra_dists[:, None] + intra_dists) / centroid_distances\n"
     ]
    },
    {
     "name": "stdout",
     "output_type": "stream",
     "text": [
      "---------------------------------------------------------------------------\n",
      "Performace for algo: Spectral, No. of clusters: 7, PCA with dimensions: 100\n",
      "Silhouette Coefficient:   0.9719309431934972\n",
      "Davies-Bouldin Index:     1.9101363800865552\n"
     ]
    },
    {
     "name": "stderr",
     "output_type": "stream",
     "text": [
      "/Library/Frameworks/Python.framework/Versions/3.7/lib/python3.7/site-packages/sklearn/metrics/cluster/unsupervised.py:342: RuntimeWarning: divide by zero encountered in true_divide\n",
      "  score = (intra_dists[:, None] + intra_dists) / centroid_distances\n",
      "/Library/Frameworks/Python.framework/Versions/3.7/lib/python3.7/site-packages/sklearn/metrics/cluster/unsupervised.py:342: RuntimeWarning: divide by zero encountered in true_divide\n",
      "  score = (intra_dists[:, None] + intra_dists) / centroid_distances\n"
     ]
    },
    {
     "name": "stdout",
     "output_type": "stream",
     "text": [
      "---------------------------------------------------------------------------\n",
      "Performace for algo: KMeans, No. of clusters: 2, PCA with dimensions: 200\n",
      "Silhouette Coefficient:   0.9772982015576488\n",
      "Davies-Bouldin Index:     1.1268951264335245\n",
      "---------------------------------------------------------------------------\n",
      "Performace for algo: KMeans, No. of clusters: 3, PCA with dimensions: 200\n",
      "Silhouette Coefficient:   0.9774836713564651\n",
      "Davies-Bouldin Index:     3.085716034527111\n"
     ]
    },
    {
     "name": "stderr",
     "output_type": "stream",
     "text": [
      "/Library/Frameworks/Python.framework/Versions/3.7/lib/python3.7/site-packages/sklearn/metrics/cluster/unsupervised.py:342: RuntimeWarning: divide by zero encountered in true_divide\n",
      "  score = (intra_dists[:, None] + intra_dists) / centroid_distances\n",
      "/Library/Frameworks/Python.framework/Versions/3.7/lib/python3.7/site-packages/sklearn/metrics/cluster/unsupervised.py:342: RuntimeWarning: divide by zero encountered in true_divide\n",
      "  score = (intra_dists[:, None] + intra_dists) / centroid_distances\n"
     ]
    },
    {
     "name": "stdout",
     "output_type": "stream",
     "text": [
      "---------------------------------------------------------------------------\n",
      "Performace for algo: KMeans, No. of clusters: 4, PCA with dimensions: 200\n",
      "Silhouette Coefficient:   0.9775756204891977\n",
      "Davies-Bouldin Index:     2.9507343260165624\n",
      "---------------------------------------------------------------------------\n",
      "Performace for algo: KMeans, No. of clusters: 5, PCA with dimensions: 200\n",
      "Silhouette Coefficient:   0.9776678043574943\n",
      "Davies-Bouldin Index:     2.775401511216643\n"
     ]
    },
    {
     "name": "stderr",
     "output_type": "stream",
     "text": [
      "/Library/Frameworks/Python.framework/Versions/3.7/lib/python3.7/site-packages/sklearn/metrics/cluster/unsupervised.py:342: RuntimeWarning: divide by zero encountered in true_divide\n",
      "  score = (intra_dists[:, None] + intra_dists) / centroid_distances\n",
      "/Library/Frameworks/Python.framework/Versions/3.7/lib/python3.7/site-packages/sklearn/metrics/cluster/unsupervised.py:342: RuntimeWarning: invalid value encountered in true_divide\n",
      "  score = (intra_dists[:, None] + intra_dists) / centroid_distances\n",
      "/Library/Frameworks/Python.framework/Versions/3.7/lib/python3.7/site-packages/sklearn/metrics/cluster/unsupervised.py:342: RuntimeWarning: divide by zero encountered in true_divide\n",
      "  score = (intra_dists[:, None] + intra_dists) / centroid_distances\n"
     ]
    },
    {
     "name": "stdout",
     "output_type": "stream",
     "text": [
      "---------------------------------------------------------------------------\n",
      "Performace for algo: KMeans, No. of clusters: 6, PCA with dimensions: 200\n",
      "Silhouette Coefficient:   0.9777175594224967\n",
      "Davies-Bouldin Index:     2.510632504052194\n",
      "---------------------------------------------------------------------------\n",
      "Performace for algo: KMeans, No. of clusters: 7, PCA with dimensions: 200\n",
      "Silhouette Coefficient:   0.9778830246029415\n",
      "Davies-Bouldin Index:     2.4813132551594217\n"
     ]
    },
    {
     "name": "stderr",
     "output_type": "stream",
     "text": [
      "/Library/Frameworks/Python.framework/Versions/3.7/lib/python3.7/site-packages/sklearn/metrics/cluster/unsupervised.py:342: RuntimeWarning: divide by zero encountered in true_divide\n",
      "  score = (intra_dists[:, None] + intra_dists) / centroid_distances\n"
     ]
    },
    {
     "name": "stdout",
     "output_type": "stream",
     "text": [
      "---------------------------------------------------------------------------\n",
      "Performace for algo: Hierarchical, No. of clusters: 2, PCA with dimensions: 200\n",
      "Silhouette Coefficient:   0.9690650908303876\n",
      "Davies-Bouldin Index:     1.1129832085972997\n"
     ]
    },
    {
     "name": "stderr",
     "output_type": "stream",
     "text": [
      "/Library/Frameworks/Python.framework/Versions/3.7/lib/python3.7/site-packages/sklearn/metrics/cluster/unsupervised.py:342: RuntimeWarning: divide by zero encountered in true_divide\n",
      "  score = (intra_dists[:, None] + intra_dists) / centroid_distances\n"
     ]
    },
    {
     "name": "stdout",
     "output_type": "stream",
     "text": [
      "---------------------------------------------------------------------------\n",
      "Performace for algo: Hierarchical, No. of clusters: 3, PCA with dimensions: 200\n",
      "Silhouette Coefficient:   0.9690151611844677\n",
      "Davies-Bouldin Index:     2.419496194086719\n"
     ]
    },
    {
     "name": "stderr",
     "output_type": "stream",
     "text": [
      "/Library/Frameworks/Python.framework/Versions/3.7/lib/python3.7/site-packages/sklearn/metrics/cluster/unsupervised.py:342: RuntimeWarning: divide by zero encountered in true_divide\n",
      "  score = (intra_dists[:, None] + intra_dists) / centroid_distances\n"
     ]
    },
    {
     "name": "stdout",
     "output_type": "stream",
     "text": [
      "---------------------------------------------------------------------------\n",
      "Performace for algo: Hierarchical, No. of clusters: 4, PCA with dimensions: 200\n",
      "Silhouette Coefficient:   0.9690353924427839\n",
      "Davies-Bouldin Index:     2.284215437305933\n"
     ]
    },
    {
     "name": "stderr",
     "output_type": "stream",
     "text": [
      "/Library/Frameworks/Python.framework/Versions/3.7/lib/python3.7/site-packages/sklearn/metrics/cluster/unsupervised.py:342: RuntimeWarning: divide by zero encountered in true_divide\n",
      "  score = (intra_dists[:, None] + intra_dists) / centroid_distances\n"
     ]
    },
    {
     "name": "stdout",
     "output_type": "stream",
     "text": [
      "---------------------------------------------------------------------------\n",
      "Performace for algo: Hierarchical, No. of clusters: 5, PCA with dimensions: 200\n",
      "Silhouette Coefficient:   0.9690622610465539\n",
      "Davies-Bouldin Index:     2.121411598835903\n"
     ]
    },
    {
     "name": "stderr",
     "output_type": "stream",
     "text": [
      "/Library/Frameworks/Python.framework/Versions/3.7/lib/python3.7/site-packages/sklearn/metrics/cluster/unsupervised.py:342: RuntimeWarning: divide by zero encountered in true_divide\n",
      "  score = (intra_dists[:, None] + intra_dists) / centroid_distances\n"
     ]
    },
    {
     "name": "stdout",
     "output_type": "stream",
     "text": [
      "---------------------------------------------------------------------------\n",
      "Performace for algo: Hierarchical, No. of clusters: 6, PCA with dimensions: 200\n",
      "Silhouette Coefficient:   0.9735785225574616\n",
      "Davies-Bouldin Index:     2.2632644684773355\n"
     ]
    },
    {
     "name": "stderr",
     "output_type": "stream",
     "text": [
      "/Library/Frameworks/Python.framework/Versions/3.7/lib/python3.7/site-packages/sklearn/metrics/cluster/unsupervised.py:342: RuntimeWarning: divide by zero encountered in true_divide\n",
      "  score = (intra_dists[:, None] + intra_dists) / centroid_distances\n"
     ]
    },
    {
     "name": "stdout",
     "output_type": "stream",
     "text": [
      "---------------------------------------------------------------------------\n",
      "Performace for algo: Hierarchical, No. of clusters: 7, PCA with dimensions: 200\n",
      "Silhouette Coefficient:   0.9736948148830393\n",
      "Davies-Bouldin Index:     2.12870148647703\n"
     ]
    },
    {
     "name": "stderr",
     "output_type": "stream",
     "text": [
      "/Library/Frameworks/Python.framework/Versions/3.7/lib/python3.7/site-packages/sklearn/metrics/cluster/unsupervised.py:342: RuntimeWarning: divide by zero encountered in true_divide\n",
      "  score = (intra_dists[:, None] + intra_dists) / centroid_distances\n"
     ]
    },
    {
     "name": "stdout",
     "output_type": "stream",
     "text": [
      "---------------------------------------------------------------------------\n",
      "Performace for algo: Spectral, No. of clusters: 2, PCA with dimensions: 200\n",
      "Silhouette Coefficient:   0.9630295898617974\n",
      "Davies-Bouldin Index:     0.9892152283714113\n"
     ]
    },
    {
     "name": "stderr",
     "output_type": "stream",
     "text": [
      "/Library/Frameworks/Python.framework/Versions/3.7/lib/python3.7/site-packages/sklearn/metrics/cluster/unsupervised.py:342: RuntimeWarning: divide by zero encountered in true_divide\n",
      "  score = (intra_dists[:, None] + intra_dists) / centroid_distances\n"
     ]
    },
    {
     "name": "stdout",
     "output_type": "stream",
     "text": [
      "---------------------------------------------------------------------------\n",
      "Performace for algo: Spectral, No. of clusters: 3, PCA with dimensions: 200\n",
      "Silhouette Coefficient:   0.9682177817165786\n",
      "Davies-Bouldin Index:     1.9422642868243145\n"
     ]
    },
    {
     "name": "stderr",
     "output_type": "stream",
     "text": [
      "/Library/Frameworks/Python.framework/Versions/3.7/lib/python3.7/site-packages/sklearn/metrics/cluster/unsupervised.py:342: RuntimeWarning: divide by zero encountered in true_divide\n",
      "  score = (intra_dists[:, None] + intra_dists) / centroid_distances\n"
     ]
    },
    {
     "name": "stdout",
     "output_type": "stream",
     "text": [
      "---------------------------------------------------------------------------\n",
      "Performace for algo: Spectral, No. of clusters: 4, PCA with dimensions: 200\n",
      "Silhouette Coefficient:   0.9706679912591636\n",
      "Davies-Bouldin Index:     2.2324020282869177\n"
     ]
    },
    {
     "name": "stderr",
     "output_type": "stream",
     "text": [
      "/Library/Frameworks/Python.framework/Versions/3.7/lib/python3.7/site-packages/sklearn/metrics/cluster/unsupervised.py:342: RuntimeWarning: divide by zero encountered in true_divide\n",
      "  score = (intra_dists[:, None] + intra_dists) / centroid_distances\n"
     ]
    },
    {
     "name": "stdout",
     "output_type": "stream",
     "text": [
      "---------------------------------------------------------------------------\n",
      "Performace for algo: Spectral, No. of clusters: 5, PCA with dimensions: 200\n",
      "Silhouette Coefficient:   0.9706451553840642\n",
      "Davies-Bouldin Index:     2.13059176549471\n"
     ]
    },
    {
     "name": "stderr",
     "output_type": "stream",
     "text": [
      "/Library/Frameworks/Python.framework/Versions/3.7/lib/python3.7/site-packages/sklearn/metrics/cluster/unsupervised.py:342: RuntimeWarning: divide by zero encountered in true_divide\n",
      "  score = (intra_dists[:, None] + intra_dists) / centroid_distances\n"
     ]
    },
    {
     "name": "stdout",
     "output_type": "stream",
     "text": [
      "---------------------------------------------------------------------------\n",
      "Performace for algo: Spectral, No. of clusters: 6, PCA with dimensions: 200\n",
      "Silhouette Coefficient:   0.9712725398309496\n",
      "Davies-Bouldin Index:     2.0596417189517497\n",
      "---------------------------------------------------------------------------\n",
      "Performace for algo: Spectral, No. of clusters: 7, PCA with dimensions: 200\n",
      "Silhouette Coefficient:   0.9713434681980162\n",
      "Davies-Bouldin Index:     1.8117750137365518\n",
      "=========================== BEST RESULT ============================\n",
      "Silhouette Coefficient:   0.9629328029896559\n",
      "Calinski-Harabasz Index:  0\n",
      "Davies-Bouldin Index:     0.9376720283706825\n",
      "============================ BEST MODEL =============================\n",
      "Algorithm:            Hierarchical\n",
      "No. of clusters:      2\n",
      "Dimension Reduction:  100\n"
     ]
    },
    {
     "name": "stderr",
     "output_type": "stream",
     "text": [
      "/Library/Frameworks/Python.framework/Versions/3.7/lib/python3.7/site-packages/sklearn/metrics/cluster/unsupervised.py:342: RuntimeWarning: divide by zero encountered in true_divide\n",
      "  score = (intra_dists[:, None] + intra_dists) / centroid_distances\n",
      "/Library/Frameworks/Python.framework/Versions/3.7/lib/python3.7/site-packages/sklearn/metrics/cluster/unsupervised.py:342: RuntimeWarning: invalid value encountered in true_divide\n",
      "  score = (intra_dists[:, None] + intra_dists) / centroid_distances\n"
     ]
    }
   ],
   "source": [
    "Matrix_Data = pd.read_csv(Matrix_FilePath, sep=',')\n",
    "Matrix = Matrix_Data[Col_List] \n",
    "\n",
    "Best_Model = Clustering_Comparison(Matrix, Clustering_AlgoList, No_Clusters_List, PCA_List)"
   ]
  },
  {
   "cell_type": "code",
   "execution_count": 9,
   "metadata": {},
   "outputs": [
    {
     "name": "stderr",
     "output_type": "stream",
     "text": [
      "/Library/Frameworks/Python.framework/Versions/3.7/lib/python3.7/site-packages/sklearn/metrics/cluster/unsupervised.py:342: RuntimeWarning: divide by zero encountered in true_divide\n",
      "  score = (intra_dists[:, None] + intra_dists) / centroid_distances\n"
     ]
    }
   ],
   "source": [
    "if Best_Model[2] != Matrix.shape[1]:\n",
    "    Reduced_Matrix = PCA_Transform(Matrix, Best_Model[2])\n",
    "else:\n",
    "    Reduced_Matrix = Matrix\n",
    "    \n",
    "Model_Predict, Labels, Evaluation_Metrics = Perform_Clustering(Reduced_Matrix, Best_Model[0], Best_Model[1])\n"
   ]
  },
  {
   "cell_type": "code",
   "execution_count": 10,
   "metadata": {},
   "outputs": [
    {
     "name": "stdout",
     "output_type": "stream",
     "text": [
      "[1 1 1 ... 1 1 1]\n"
     ]
    }
   ],
   "source": [
    "print(Labels)"
   ]
  },
  {
   "cell_type": "code",
   "execution_count": 11,
   "metadata": {},
   "outputs": [
    {
     "name": "stdout",
     "output_type": "stream",
     "text": [
      "Storing trained clustering model...\n",
      "Storing clustered UserIDs...\n"
     ]
    }
   ],
   "source": [
    "UserIDList = list(Matrix_Data['CustomerID'])\n",
    "Store_Clusters(Model_Predict, Best_Model[2], UserIDList, Labels, \"./\")"
   ]
  },
  {
   "cell_type": "code",
   "execution_count": 12,
   "metadata": {},
   "outputs": [],
   "source": [
    "Matrix_FilePath = \"./User_Product_Matrix_Test.csv\"\n",
    "Col_List=[str(i) for i in range(1,621)]\n",
    "\n",
    "Test_Data = pd.read_csv(Matrix_FilePath, sep=',')\n",
    "Test_Matrix = Test_Data[Col_List]"
   ]
  },
  {
   "cell_type": "code",
   "execution_count": 13,
   "metadata": {},
   "outputs": [
    {
     "name": "stdout",
     "output_type": "stream",
     "text": [
      "<class 'numpy.ndarray'>\n"
     ]
    }
   ],
   "source": [
    "Model_Predict = None\n",
    "with open(\"./Saved_Model.pkl\", 'rb') as file:\n",
    "    Saved_Model = pickle.load(file)\n",
    "\n",
    "Pca_Dimensions = Saved_Model['Dimensions']\n",
    "Model_Predict = Saved_Model['Model']\n",
    "\n",
    "if Pca_Dimensions != Test_Matrix.shape[1]:\n",
    "    Reduced_Matrix = PCA_Transform(Test_Matrix, Pca_Dimensions)\n",
    "else:\n",
    "    Reduced_Matrix = Test_Matrix\n",
    "\n",
    "Predictions = Model_Predict.predict(Reduced_Matrix)\n",
    "print(type(Predictions))"
   ]
  },
  {
   "cell_type": "code",
   "execution_count": 14,
   "metadata": {},
   "outputs": [
    {
     "name": "stdout",
     "output_type": "stream",
     "text": [
      "(400,)\n"
     ]
    }
   ],
   "source": [
    "print(Predictions.shape)"
   ]
  },
  {
   "cell_type": "code",
   "execution_count": 15,
   "metadata": {},
   "outputs": [
    {
     "name": "stdout",
     "output_type": "stream",
     "text": [
      "[1 1 1 1 1 1 1 1 1 1 1 1 1 1 1 1 1 1 1 1 1 1 1 1 1 1 1 1 1 1 1 1 1 1 1 1 1\n",
      " 1 0 1 1 1 1 1 1 1 1 1 1 1 1 1 1 1 1 1 1 1 1 1 1 1 1 1 1 1 1 1 1 1 1 1 1 1\n",
      " 1 1 1 1 1 1 1 1 1 1 1 1 1 1 1 1 1 1 1 1 1 1 1 1 1 1 1 1 1 1 1 1 1 1 1 1 1\n",
      " 1 1 1 1 1 1 1 1 1 1 1 1 1 1 1 1 1 1 1 1 1 1 1 1 1 1 1 1 1 1 1 1 1 1 1 1 1\n",
      " 1 1 1 1 1 1 1 1 1 1 1 1 1 1 1 1 1 1 1 1 1 1 1 1 1 1 1 1 1 1 1 1 1 1 1 1 1\n",
      " 1 1 1 1 1 1 1 1 1 1 1 1 1 1 1 1 1 1 1 1 1 1 1 1 1 1 1 1 1 1 1 1 1 1 1 1 1\n",
      " 1 1 1 1 1 1 1 1 1 1 1 1 1 1 1 1 1 1 1 1 1 1 1 1 1 1 1 1 1 1 1 1 1 1 1 0 1\n",
      " 1 1 1 1 1 1 1 1 1 1 1 1 1 1 1 1 1 1 1 1 1 1 1 0 1 1 1 1 1 1 1 1 1 1 1 1 1\n",
      " 1 1 1 1 1 1 1 1 1 1 1 1 1 1 1 1 1 1 1 1 1 1 1 1 1 1 1 1 1 1 1 1 1 1 1 1 1\n",
      " 1 1 1 1 1 1 1 1 1 1 1 1 1 1 1 1 1 1 1 1 1 1 1 1 1 1 1 1 1 1 1 1 1 1 1 1 1\n",
      " 1 1 1 1 1 1 1 1 1 1 1 1 1 1 1 0 1 1 1 1 1 1 1 1 1 1 1 1 1 1]\n"
     ]
    }
   ],
   "source": [
    "print(Predictions)"
   ]
  },
  {
   "cell_type": "code",
   "execution_count": null,
   "metadata": {},
   "outputs": [],
   "source": []
  }
 ],
 "metadata": {
  "kernelspec": {
   "display_name": "Python 3",
   "language": "python",
   "name": "python3"
  },
  "language_info": {
   "codemirror_mode": {
    "name": "ipython",
    "version": 3
   },
   "file_extension": ".py",
   "mimetype": "text/x-python",
   "name": "python",
   "nbconvert_exporter": "python",
   "pygments_lexer": "ipython3",
   "version": "3.7.0"
  }
 },
 "nbformat": 4,
 "nbformat_minor": 2
}
