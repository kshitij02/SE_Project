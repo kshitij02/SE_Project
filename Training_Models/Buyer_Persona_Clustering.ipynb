{
 "cells": [
  {
   "cell_type": "code",
   "execution_count": 1,
   "metadata": {},
   "outputs": [],
   "source": [
    "from Data_Operations import*\n",
    "import numpy as np\n",
    "import pandas as pd\n",
    "import pickle\n",
    "\n",
    "from sklearn.decomposition import PCA\n",
    "from sklearn.cluster import KMeans\n",
    "from sklearn.cluster import SpectralClustering\n",
    "from sklearn.cluster import AgglomerativeClustering\n",
    "from sklearn.svm import LinearSVC\n",
    "from sklearn import metrics"
   ]
  },
  {
   "cell_type": "code",
   "execution_count": 2,
   "metadata": {},
   "outputs": [],
   "source": [
    "class CF_Matrix:\n",
    "\n",
    "    def __init__(self):\n",
    "\n",
    "        self.Rows = 0\n",
    "        self.Cols = 0\n",
    "        self.Matrix = None\n",
    "\n",
    "    ## Get quantity of product Prod_id purchased by user Cust_id\n",
    "    def Get_Quantity(self, Data, UserID_Col, ProductID_Col, Cust_id, Prod_id, Quantity_Col):\n",
    "\n",
    "        Cust_Id_Filter = Data.loc[Data[UserID_Col]==Cust_id]\n",
    "        Prod_Id_Filter = Cust_Id_Filter.loc[Cust_Id_Filter[ProductID_Col]==Prod_id]\n",
    "        Prod_Quantity = np.sum(Prod_Id_Filter[Quantity_Col])\n",
    "        return Prod_Quantity\n",
    "\n",
    "    ## Binary_Flag = 1 : Cell contains 1 if product is purchased by user\n",
    "    ## Binary_Flag = 0 : Cell contains quantity of products is purchased by user\n",
    "    def Build_User_Product_Matrix(self, Data, UserID_Col, ProductID_Col, Quantity_Col, Binary_Flag):\n",
    "\n",
    "        Customer_Ids = Data[UserID_Col].unique()\n",
    "        Product_Ids = Data[ProductID_Col].unique()\n",
    "\n",
    "        self.Rows = Customer_Ids.shape[0]\n",
    "        self.Cols = Product_Ids.shape[0]\n",
    "        self.Matrix = np.zeros((self.Rows, self.Cols))\n",
    "\n",
    "        for i in range(self.Rows):\n",
    "            for j in range(self.Cols):\n",
    "\n",
    "                Cust_Id = Customer_Ids[i]\n",
    "                Prod_Id = Product_Ids[j]\n",
    "                Prod_Quantity = self.Get_Quantity(Data, UserID_Col, ProductID_Col, Cust_Id, Prod_Id, Quantity_Col)\n",
    "\n",
    "                if Prod_Quantity > 0:\n",
    "                    if Binary_Flag:\n",
    "                        self.Matrix[i][j] = 1\n",
    "                    else:\n",
    "                        self.Matrix[i][j] = Prod_Quantity\n",
    "\n",
    "def Create_Purchase_Matrix():\n",
    "\n",
    "    Sales_data = Load_Data(Sales_filepath, Sales_Col_list, seperator=\";\")\n",
    "    Products_data = Load_Data(Products_filepath, Products_Col_list, seperator=\";\")\n",
    "    User_data = Load_Data(Users_filepath, Users_Col_list, seperator=\";\")\n",
    "\n",
    "    ## Analysis of No. of purchase orders per customer.\n",
    "    ## Instead of whole data, using only N users' data with maximum purchase orders\n",
    "    Num_Orders_List, Cust_Id_List = VisualizeSalesPerCustomer(Sales_data, UserID_Col)\n",
    "    Num_Orders_List = Num_Orders_List[:TopN]\n",
    "    Cust_Id_List = Cust_Id_List[:TopN]\n",
    "    # Plot_Graph(Cust_Id_List, Num_Orders_List)\n",
    "\n",
    "    ## Pre-Processing: Combine all data files in one consistent, sort and drop rows with missing value\n",
    "    Combined_Data = Combine_Data(Sales_data, User_data, Products_data, Cust_Id_List, UserID_Col, ProductID_Col)\n",
    "    Processed_Data = Data_Processing(Combined_Data)\n",
    "\n",
    "    ## Create User_Product Matrix for CF\n",
    "    User_Product_Mat = CF_Matrix()\n",
    "    User_Product_Mat.Build_User_Product_Matrix(Processed_Data, UserID_Col, ProductID_Col, Quantity_Col, Binary_Flag=1)\n",
    "\n",
    "    return User_Product_Mat.Matrix, Cust_Id_List, list(Products_data[ProductID_Col])\n",
    "\n",
    "## Create User_PersonalInformation Matrix based on information filled by users\n",
    "def Create_User_Matrix():\n",
    "    return\n",
    "\n",
    "def Store_Matrix(Data_Matrix, UserID_List, DataFrame_Header, FilePath):\n",
    "\n",
    "    Matrix_DataFrame = []\n",
    "    for i in range(len(UserID_List)):\n",
    "        DF_Row = [UserID_List[i]]\n",
    "        DF_Row.extend(list(User_Product_Matrix[i]))\n",
    "        Matrix_DataFrame.append(DF_Row)\n",
    "\n",
    "    User_Product_Dataframe = pd.DataFrame(Matrix_DataFrame, columns=DataFrame_Header)\n",
    "    User_Product_Dataframe.to_csv(FilePath)"
   ]
  },
  {
   "cell_type": "code",
   "execution_count": 3,
   "metadata": {},
   "outputs": [],
   "source": [
    "Data_Folder_Path = \"/Users/pranjali/Downloads/SE_Project/Data/SalesDB/\"\n",
    "\n",
    "Sales_filepath = Data_Folder_Path + \"sales.csv\"\n",
    "Sales_Col_list = [\"SalesID\", \"CustomerID\", \"ProductID\", \"Quantity\", \"SalesDate\"]\n",
    "\n",
    "Products_filepath = Data_Folder_Path + \"products.csv\"\n",
    "Products_Col_list = [\"ProductID\", \"ProductName\", \"CategoryID\", \"IsAllergic\"]\n",
    "\n",
    "Users_filepath = Data_Folder_Path + \"customers.csv\"\n",
    "Users_Col_list = [\"CustomerID\", \"FirstName\", \"LastName\", \"CityID\"]\n",
    "\n",
    "UserID_Col = \"CustomerID\"\n",
    "ProductID_Col = \"ProductID\"\n",
    "Quantity_Col = \"Quantity\"\n",
    "\n",
    "TopN = 500"
   ]
  },
  {
   "cell_type": "code",
   "execution_count": 4,
   "metadata": {},
   "outputs": [
    {
     "name": "stdout",
     "output_type": "stream",
     "text": [
      "Loading data from  /Users/pranjali/Downloads/SE_Project/Data/SalesDB/sales.csv\n",
      "number of rows, cols  (6758125, 5)\n",
      "Loading data from  /Users/pranjali/Downloads/SE_Project/Data/SalesDB/products.csv\n",
      "number of rows, cols  (452, 4)\n",
      "Loading data from  /Users/pranjali/Downloads/SE_Project/Data/SalesDB/customers.csv\n",
      "number of rows, cols  (98759, 4)\n"
     ]
    }
   ],
   "source": [
    "User_Product_Matrix, UserID_List, ProductID_List = Create_Purchase_Matrix()\n",
    "\n",
    "Attribute_List = [UserID_Col]\n",
    "for i in ProductID_List:\n",
    "    Attribute_List.append(i)"
   ]
  },
  {
   "cell_type": "code",
   "execution_count": 5,
   "metadata": {},
   "outputs": [],
   "source": [
    "Store_Matrix(User_Product_Matrix[:300], UserID_List[:300], Attribute_List, \"./User_Product_Matrix_Train.csv\")\n",
    "Store_Matrix(User_Product_Matrix[300:], UserID_List[300:], Attribute_List, \"./User_Product_Matrix_Test.csv\")"
   ]
  },
  {
   "cell_type": "code",
   "execution_count": 6,
   "metadata": {},
   "outputs": [],
   "source": [
    "## Dimension Reduction using PCA\n",
    "def PCA_Transform(Matrix, No_Dimensions):\n",
    "    \n",
    "    pca = PCA(n_components=No_Dimensions)\n",
    "    Reduced_Matrix = pca.fit_transform(Matrix)\n",
    "    Reduced_Matrix = pd.DataFrame(Reduced_Matrix)\n",
    "    \n",
    "    return Reduced_Matrix\n",
    "\n",
    "\n",
    "## Clustering Algorithms\n",
    "\n",
    "## 1. KMeans Clustering\n",
    "def KMeans_Clustering(Matrix, No_Clusters):\n",
    "    \n",
    "    KMeans_Obj = KMeans(n_clusters=No_Clusters, init='k-means++').fit(Matrix)\n",
    "    Model_Predict = KMeans_Obj\n",
    "    Cluster_Labels = KMeans_Obj.labels_\n",
    "    \n",
    "    return Model_Predict, Cluster_Labels\n",
    "\n",
    "## Using LineasSCV for prediction of labels for future data in case of transductive clustering algorithms\n",
    "## reference: https://github.com/scikit-learn/scikit-learn/issues/901\n",
    "\n",
    "## 2. Hierarchical Clustering\n",
    "def Hierarchical_Clustering(Matrix, No_Clusters):\n",
    "    Clustering_Obj = AgglomerativeClustering(n_clusters=No_Clusters, linkage=\"complete\").fit(Matrix)\n",
    "    Cluster_Labels= Clustering_Obj.labels_\n",
    "    Model_Predict = LinearSVC().fit(Matrix, Cluster_Labels)\n",
    "    \n",
    "    return Model_Predict, Cluster_Labels\n",
    "\n",
    "## 3. Spectral Clustering\n",
    "def Spectral_Clustering(Matrix, No_Clusters):\n",
    "    Clustering_Obj = SpectralClustering(n_clusters=No_Clusters, assign_labels=\"discretize\", random_state=0).fit(Matrix)\n",
    "    Cluster_Labels = Clustering_Obj.labels_\n",
    "    Model_Predict = LinearSVC().fit(Matrix, Cluster_Labels)\n",
    " \n",
    "    return Model_Predict, Cluster_Labels\n",
    "\n",
    "\n",
    "## Clustering performance evaluation metrics\n",
    "def Clustering_Evaluation(Matrix, Cluster_Labels, Dist_Metric='euclidean'):\n",
    "    \n",
    "    ## 1. The Silhouette Coefficient\n",
    "    ## The score is bounded between -1 for incorrect clustering and +1 for highly dense clustering. \n",
    "    ## Scores around zero indicate overlapping clusters.\n",
    "    \n",
    "    Silhouette_Score = metrics.silhouette_score(Matrix, Cluster_Labels, metric=Dist_Metric)\n",
    "    \n",
    "    ## 2. The Calinski-Harabasz index (Variance Ratio Criteria)\n",
    "    ## The index is the ratio of the sum of between-clusters dispersion and of inter-cluster dispersion for all clusters.\n",
    "    ## The score is higher when clusters are dense and well separated.\n",
    "    \n",
    "#     CH_Index = metrics.calinski_harabasz_score(Matrix, Cluster_Labels)\n",
    "    CH_Index = 0\n",
    "    \n",
    "    ## 3. The Davies-Bouldin index\n",
    "    ## This index signifies the average ‘similarity’ between clusters, where the similarity is a measure \n",
    "    ## that compares the distance between clusters with the size of the clusters themselves.\n",
    "    ## Zero is the lowest possible score. Values closer to zero indicate a better partition.\n",
    "    \n",
    "    DB_Index = metrics.davies_bouldin_score(Matrix, Cluster_Labels)\n",
    "    \n",
    "    return Silhouette_Score, CH_Index, DB_Index\n",
    "\n",
    "\n",
    "\n",
    "def Perform_Clustering(Matrix, Clustering_Algo, No_Clusters):\n",
    "    \n",
    "    if Clustering_Algo=='KMeans':\n",
    "        Model_Predict, Labels = KMeans_Clustering(Matrix, No_Clusters)\n",
    "        Evaluation_Metrics = Clustering_Evaluation(Matrix, Labels, 'euclidean')\n",
    "                \n",
    "    elif Clustering_Algo=='Hierarchical':\n",
    "        Model_Predict, Labels = Hierarchical_Clustering(Matrix, No_Clusters)\n",
    "        Evaluation_Metrics = Clustering_Evaluation(Matrix, Labels)\n",
    "        \n",
    "    elif Clustering_Algo=='Spectral':\n",
    "        Model_Predict, Labels = Spectral_Clustering(Matrix, No_Clusters)\n",
    "        Evaluation_Metrics = Clustering_Evaluation(Matrix, Labels)\n",
    "\n",
    "    else:\n",
    "        print(\"Invalid algotirthm: \", Clustering_Algo)\n",
    "        \n",
    "    return (Model_Predict, Labels, Evaluation_Metrics)\n",
    "\n",
    "\n",
    "\n",
    "def Clustering_Comparison(Matrix, Clustering_AlgoList=[], No_Clusters_List=[], PCA_List=[]):\n",
    "        \n",
    "    Clustering_Results = []\n",
    "    \n",
    "    for dimension in PCA_List:\n",
    "        if int(dimension) != 0:\n",
    "            pca_dimension = dimension\n",
    "            Reduced_Matrix = PCA_Transform(Matrix, pca_dimension)\n",
    "        else:\n",
    "            pca_dimension = Matrix.shape[1]\n",
    "            Reduced_Matrix = Matrix\n",
    "            \n",
    "        for algo in Clustering_AlgoList:\n",
    "            for No_Clusters in No_Clusters_List:\n",
    "                \n",
    "                Model_Predict, Labels, Evaluation_Metrics = Perform_Clustering(Reduced_Matrix, algo, No_Clusters)\n",
    "\n",
    "                print(\"---------------------------------------------------------------------------\")\n",
    "                print(\"Performace for algo: \" + str(algo) + \", No. of clusters: \"+ str(No_Clusters) + \", PCA with dimensions: \" + str(pca_dimension))\n",
    "                print(\"Silhouette Coefficient:  \", Evaluation_Metrics[0])\n",
    "#                 print(\"Calinski-Harabasz Index: \", Evaluation_Metrics[1])\n",
    "                print(\"Davies-Bouldin Index:    \", Evaluation_Metrics[2])\n",
    "                \n",
    "                Model_Details = (algo, No_Clusters, pca_dimension)\n",
    "                Clustering_Results.append((Model_Details, Evaluation_Metrics))\n",
    "    \n",
    "#     Sorted_Result = sorted(Clustering_Results, key=lambda x: (-x[1][0], -x[1][1], x[1][2]))\n",
    "    Sorted_Result = sorted(Clustering_Results, key=lambda x: (x[1][2], -x[1][0]))\n",
    "    Best_Result = Sorted_Result[0]\n",
    "    \n",
    "    Best_Result_Eval = Best_Result[1]\n",
    "    print(\"=========================== BEST RESULT ============================\")\n",
    "    print(\"Silhouette Coefficient:  \", Best_Result_Eval[0])\n",
    "    print(\"Calinski-Harabasz Index: \", Best_Result_Eval[1])\n",
    "    print(\"Davies-Bouldin Index:    \", Best_Result_Eval[2])\n",
    "    \n",
    "    Best_Model_Params = Best_Result[0]\n",
    "    print(\"============================ BEST MODEL =============================\")\n",
    "    print(\"Algorithm:           \", Best_Model_Params[0])\n",
    "    print(\"No. of clusters:     \", Best_Model_Params[1])\n",
    "    print(\"Dimension Reduction: \", Best_Model_Params[2])\n",
    "    \n",
    "    return Best_Model_Params\n",
    "    \n",
    "## Store Clustering Algorithm Output\n",
    "def Store_Clusters(Model_Predict, pca_dimension, UserID_List, Labels, Output_Folder_Path):\n",
    "    \n",
    "    ## Store Model Params which will be used in prediction of labels for future data.\n",
    "    ## Load this model and call predict() function on 'Model_Predict' for inference.\n",
    "    Saved_Model = {'Model' : Model_Predict, 'Dimensions' : pca_dimension}\n",
    "    with open(Output_Folder_Path + \"/Saved_Model.pkl\", 'wb') as output_file:\n",
    "        pickle.dump(Saved_Model, output_file)\n",
    "    print(\"Storing trained clustering model...\")\n",
    "    \n",
    "    ## Store UserIDs divided into clusters which will be used to train autoencoders in next phase.\n",
    "    Clusters = {}\n",
    "    for i in range(len(Labels)):\n",
    "        \n",
    "        label = Labels[i]\n",
    "        UserID = UserID_List[i]\n",
    "        \n",
    "        if label not in Clusters.keys():\n",
    "            Clusters[label] = [UserID]\n",
    "        else:\n",
    "            Clusters[label].append(UserID)\n",
    "            \n",
    "    with open(Output_Folder_Path + \"/Clusters.pkl\", 'wb') as output_file:\n",
    "        pickle.dump(Clusters, output_file)\n",
    "    print(\"Storing clustered UserIDs...\")\n",
    "    "
   ]
  },
  {
   "cell_type": "code",
   "execution_count": 7,
   "metadata": {},
   "outputs": [],
   "source": [
    "Matrix_FilePath = \"./User_Product_Matrix_Train.csv\"\n",
    "Col_List=[str(i) for i in range(1,453)]\n",
    "\n",
    "Clustering_AlgoList = ['KMeans', 'Hierarchical', 'Spectral']\n",
    "No_Clusters_List = [2, 3, 4, 5, 6, 7]\n",
    "PCA_List = [0, 100, 200]"
   ]
  },
  {
   "cell_type": "code",
   "execution_count": 8,
   "metadata": {},
   "outputs": [
    {
     "name": "stderr",
     "output_type": "stream",
     "text": [
      "/Library/Frameworks/Python.framework/Versions/3.7/lib/python3.7/site-packages/sklearn/metrics/cluster/unsupervised.py:342: RuntimeWarning: divide by zero encountered in true_divide\n",
      "  score = (intra_dists[:, None] + intra_dists) / centroid_distances\n",
      "/Library/Frameworks/Python.framework/Versions/3.7/lib/python3.7/site-packages/sklearn/metrics/cluster/unsupervised.py:342: RuntimeWarning: divide by zero encountered in true_divide\n",
      "  score = (intra_dists[:, None] + intra_dists) / centroid_distances\n",
      "/Library/Frameworks/Python.framework/Versions/3.7/lib/python3.7/site-packages/sklearn/metrics/cluster/unsupervised.py:342: RuntimeWarning: divide by zero encountered in true_divide\n",
      "  score = (intra_dists[:, None] + intra_dists) / centroid_distances\n",
      "/Library/Frameworks/Python.framework/Versions/3.7/lib/python3.7/site-packages/sklearn/metrics/cluster/unsupervised.py:342: RuntimeWarning: divide by zero encountered in true_divide\n",
      "  score = (intra_dists[:, None] + intra_dists) / centroid_distances\n"
     ]
    },
    {
     "name": "stdout",
     "output_type": "stream",
     "text": [
      "---------------------------------------------------------------------------\n",
      "Performace for algo: KMeans, No. of clusters: 2, PCA with dimensions: 452\n",
      "Silhouette Coefficient:   0.00356426411566523\n",
      "Davies-Bouldin Index:     11.979578198455354\n",
      "---------------------------------------------------------------------------\n",
      "Performace for algo: KMeans, No. of clusters: 3, PCA with dimensions: 452\n",
      "Silhouette Coefficient:   0.0015625883592200215\n",
      "Davies-Bouldin Index:     10.666281793769025\n",
      "---------------------------------------------------------------------------\n",
      "Performace for algo: KMeans, No. of clusters: 4, PCA with dimensions: 452\n",
      "Silhouette Coefficient:   0.0016664835400951794\n",
      "Davies-Bouldin Index:     9.773605339126073\n",
      "---------------------------------------------------------------------------\n",
      "Performace for algo: KMeans, No. of clusters: 5, PCA with dimensions: 452\n",
      "Silhouette Coefficient:   0.000787819677156442\n",
      "Davies-Bouldin Index:     9.02767567887338\n"
     ]
    },
    {
     "name": "stderr",
     "output_type": "stream",
     "text": [
      "/Library/Frameworks/Python.framework/Versions/3.7/lib/python3.7/site-packages/sklearn/metrics/cluster/unsupervised.py:342: RuntimeWarning: divide by zero encountered in true_divide\n",
      "  score = (intra_dists[:, None] + intra_dists) / centroid_distances\n",
      "/Library/Frameworks/Python.framework/Versions/3.7/lib/python3.7/site-packages/sklearn/metrics/cluster/unsupervised.py:342: RuntimeWarning: divide by zero encountered in true_divide\n",
      "  score = (intra_dists[:, None] + intra_dists) / centroid_distances\n",
      "/Library/Frameworks/Python.framework/Versions/3.7/lib/python3.7/site-packages/sklearn/metrics/cluster/unsupervised.py:342: RuntimeWarning: divide by zero encountered in true_divide\n",
      "  score = (intra_dists[:, None] + intra_dists) / centroid_distances\n",
      "/Library/Frameworks/Python.framework/Versions/3.7/lib/python3.7/site-packages/sklearn/metrics/cluster/unsupervised.py:342: RuntimeWarning: divide by zero encountered in true_divide\n",
      "  score = (intra_dists[:, None] + intra_dists) / centroid_distances\n",
      "/Library/Frameworks/Python.framework/Versions/3.7/lib/python3.7/site-packages/sklearn/metrics/cluster/unsupervised.py:342: RuntimeWarning: divide by zero encountered in true_divide\n",
      "  score = (intra_dists[:, None] + intra_dists) / centroid_distances\n"
     ]
    },
    {
     "name": "stdout",
     "output_type": "stream",
     "text": [
      "---------------------------------------------------------------------------\n",
      "Performace for algo: KMeans, No. of clusters: 6, PCA with dimensions: 452\n",
      "Silhouette Coefficient:   0.00014453463820864761\n",
      "Davies-Bouldin Index:     8.479205744764107\n",
      "---------------------------------------------------------------------------\n",
      "Performace for algo: KMeans, No. of clusters: 7, PCA with dimensions: 452\n",
      "Silhouette Coefficient:   0.0003931246319560526\n",
      "Davies-Bouldin Index:     7.978363412532349\n",
      "---------------------------------------------------------------------------\n",
      "Performace for algo: Hierarchical, No. of clusters: 2, PCA with dimensions: 452\n",
      "Silhouette Coefficient:   0.0015329517508618632\n",
      "Davies-Bouldin Index:     14.283148891575497\n",
      "---------------------------------------------------------------------------\n",
      "Performace for algo: Hierarchical, No. of clusters: 3, PCA with dimensions: 452\n",
      "Silhouette Coefficient:   0.0005661530663231858\n",
      "Davies-Bouldin Index:     11.771011457829202\n",
      "---------------------------------------------------------------------------\n",
      "Performace for algo: Hierarchical, No. of clusters: 4, PCA with dimensions: 452\n",
      "Silhouette Coefficient:   0.00011470352430094464\n",
      "Davies-Bouldin Index:     10.619813614181782\n"
     ]
    },
    {
     "name": "stderr",
     "output_type": "stream",
     "text": [
      "/Library/Frameworks/Python.framework/Versions/3.7/lib/python3.7/site-packages/sklearn/metrics/cluster/unsupervised.py:342: RuntimeWarning: divide by zero encountered in true_divide\n",
      "  score = (intra_dists[:, None] + intra_dists) / centroid_distances\n",
      "/Library/Frameworks/Python.framework/Versions/3.7/lib/python3.7/site-packages/sklearn/metrics/cluster/unsupervised.py:342: RuntimeWarning: divide by zero encountered in true_divide\n",
      "  score = (intra_dists[:, None] + intra_dists) / centroid_distances\n",
      "/Library/Frameworks/Python.framework/Versions/3.7/lib/python3.7/site-packages/sklearn/metrics/cluster/unsupervised.py:342: RuntimeWarning: divide by zero encountered in true_divide\n",
      "  score = (intra_dists[:, None] + intra_dists) / centroid_distances\n"
     ]
    },
    {
     "name": "stdout",
     "output_type": "stream",
     "text": [
      "---------------------------------------------------------------------------\n",
      "Performace for algo: Hierarchical, No. of clusters: 5, PCA with dimensions: 452\n",
      "Silhouette Coefficient:   0.00022334660868249265\n",
      "Davies-Bouldin Index:     9.48064101987933\n",
      "---------------------------------------------------------------------------\n",
      "Performace for algo: Hierarchical, No. of clusters: 6, PCA with dimensions: 452\n",
      "Silhouette Coefficient:   0.00016941790278508396\n",
      "Davies-Bouldin Index:     8.474428921394466\n",
      "---------------------------------------------------------------------------\n",
      "Performace for algo: Hierarchical, No. of clusters: 7, PCA with dimensions: 452\n",
      "Silhouette Coefficient:   -1.0541467606793355e-05\n",
      "Davies-Bouldin Index:     7.800992429929379\n"
     ]
    },
    {
     "name": "stderr",
     "output_type": "stream",
     "text": [
      "/Library/Frameworks/Python.framework/Versions/3.7/lib/python3.7/site-packages/sklearn/metrics/cluster/unsupervised.py:342: RuntimeWarning: divide by zero encountered in true_divide\n",
      "  score = (intra_dists[:, None] + intra_dists) / centroid_distances\n",
      "/Library/Frameworks/Python.framework/Versions/3.7/lib/python3.7/site-packages/sklearn/metrics/cluster/unsupervised.py:342: RuntimeWarning: divide by zero encountered in true_divide\n",
      "  score = (intra_dists[:, None] + intra_dists) / centroid_distances\n"
     ]
    },
    {
     "name": "stdout",
     "output_type": "stream",
     "text": [
      "---------------------------------------------------------------------------\n",
      "Performace for algo: Spectral, No. of clusters: 2, PCA with dimensions: 452\n",
      "Silhouette Coefficient:   0.0013407860358739035\n",
      "Davies-Bouldin Index:     5.997475096072163\n",
      "---------------------------------------------------------------------------\n",
      "Performace for algo: Spectral, No. of clusters: 3, PCA with dimensions: 452\n",
      "Silhouette Coefficient:   -0.0022141911641490983\n",
      "Davies-Bouldin Index:     5.823441559639466\n"
     ]
    },
    {
     "name": "stderr",
     "output_type": "stream",
     "text": [
      "/Library/Frameworks/Python.framework/Versions/3.7/lib/python3.7/site-packages/sklearn/metrics/cluster/unsupervised.py:342: RuntimeWarning: divide by zero encountered in true_divide\n",
      "  score = (intra_dists[:, None] + intra_dists) / centroid_distances\n",
      "/Library/Frameworks/Python.framework/Versions/3.7/lib/python3.7/site-packages/sklearn/metrics/cluster/unsupervised.py:342: RuntimeWarning: divide by zero encountered in true_divide\n",
      "  score = (intra_dists[:, None] + intra_dists) / centroid_distances\n"
     ]
    },
    {
     "name": "stdout",
     "output_type": "stream",
     "text": [
      "---------------------------------------------------------------------------\n",
      "Performace for algo: Spectral, No. of clusters: 4, PCA with dimensions: 452\n",
      "Silhouette Coefficient:   -0.007901345395552291\n",
      "Davies-Bouldin Index:     5.900856088939536\n",
      "---------------------------------------------------------------------------\n",
      "Performace for algo: Spectral, No. of clusters: 5, PCA with dimensions: 452\n",
      "Silhouette Coefficient:   -0.0023122080717363604\n",
      "Davies-Bouldin Index:     6.827838030633117\n"
     ]
    },
    {
     "name": "stderr",
     "output_type": "stream",
     "text": [
      "/Library/Frameworks/Python.framework/Versions/3.7/lib/python3.7/site-packages/sklearn/metrics/cluster/unsupervised.py:342: RuntimeWarning: divide by zero encountered in true_divide\n",
      "  score = (intra_dists[:, None] + intra_dists) / centroid_distances\n",
      "/Library/Frameworks/Python.framework/Versions/3.7/lib/python3.7/site-packages/sklearn/metrics/cluster/unsupervised.py:342: RuntimeWarning: divide by zero encountered in true_divide\n",
      "  score = (intra_dists[:, None] + intra_dists) / centroid_distances\n",
      "/Library/Frameworks/Python.framework/Versions/3.7/lib/python3.7/site-packages/sklearn/metrics/cluster/unsupervised.py:342: RuntimeWarning: divide by zero encountered in true_divide\n",
      "  score = (intra_dists[:, None] + intra_dists) / centroid_distances\n"
     ]
    },
    {
     "name": "stdout",
     "output_type": "stream",
     "text": [
      "---------------------------------------------------------------------------\n",
      "Performace for algo: Spectral, No. of clusters: 6, PCA with dimensions: 452\n",
      "Silhouette Coefficient:   -0.0029513255638792353\n",
      "Davies-Bouldin Index:     6.5714690522261225\n",
      "---------------------------------------------------------------------------\n",
      "Performace for algo: Spectral, No. of clusters: 7, PCA with dimensions: 452\n",
      "Silhouette Coefficient:   -0.0039049990480202403\n",
      "Davies-Bouldin Index:     5.7977700906512775\n",
      "---------------------------------------------------------------------------\n",
      "Performace for algo: KMeans, No. of clusters: 2, PCA with dimensions: 100\n",
      "Silhouette Coefficient:   0.006949033624798493\n",
      "Davies-Bouldin Index:     9.646477129827321\n"
     ]
    },
    {
     "name": "stderr",
     "output_type": "stream",
     "text": [
      "/Library/Frameworks/Python.framework/Versions/3.7/lib/python3.7/site-packages/sklearn/metrics/cluster/unsupervised.py:342: RuntimeWarning: divide by zero encountered in true_divide\n",
      "  score = (intra_dists[:, None] + intra_dists) / centroid_distances\n",
      "/Library/Frameworks/Python.framework/Versions/3.7/lib/python3.7/site-packages/sklearn/metrics/cluster/unsupervised.py:342: RuntimeWarning: divide by zero encountered in true_divide\n",
      "  score = (intra_dists[:, None] + intra_dists) / centroid_distances\n",
      "/Library/Frameworks/Python.framework/Versions/3.7/lib/python3.7/site-packages/sklearn/metrics/cluster/unsupervised.py:342: RuntimeWarning: divide by zero encountered in true_divide\n",
      "  score = (intra_dists[:, None] + intra_dists) / centroid_distances\n",
      "/Library/Frameworks/Python.framework/Versions/3.7/lib/python3.7/site-packages/sklearn/metrics/cluster/unsupervised.py:342: RuntimeWarning: divide by zero encountered in true_divide\n",
      "  score = (intra_dists[:, None] + intra_dists) / centroid_distances\n",
      "/Library/Frameworks/Python.framework/Versions/3.7/lib/python3.7/site-packages/sklearn/metrics/cluster/unsupervised.py:342: RuntimeWarning: divide by zero encountered in true_divide\n",
      "  score = (intra_dists[:, None] + intra_dists) / centroid_distances\n"
     ]
    },
    {
     "name": "stdout",
     "output_type": "stream",
     "text": [
      "---------------------------------------------------------------------------\n",
      "Performace for algo: KMeans, No. of clusters: 3, PCA with dimensions: 100\n",
      "Silhouette Coefficient:   0.005292934501496011\n",
      "Davies-Bouldin Index:     8.41961967581898\n",
      "---------------------------------------------------------------------------\n",
      "Performace for algo: KMeans, No. of clusters: 4, PCA with dimensions: 100\n",
      "Silhouette Coefficient:   0.005245030395761392\n",
      "Davies-Bouldin Index:     7.73113597602236\n",
      "---------------------------------------------------------------------------\n",
      "Performace for algo: KMeans, No. of clusters: 5, PCA with dimensions: 100\n",
      "Silhouette Coefficient:   0.0050942496980848125\n",
      "Davies-Bouldin Index:     7.334826477748122\n",
      "---------------------------------------------------------------------------\n",
      "Performace for algo: KMeans, No. of clusters: 6, PCA with dimensions: 100\n",
      "Silhouette Coefficient:   0.004338347463753804\n",
      "Davies-Bouldin Index:     6.869821623800946\n",
      "---------------------------------------------------------------------------\n",
      "Performace for algo: KMeans, No. of clusters: 7, PCA with dimensions: 100\n",
      "Silhouette Coefficient:   0.004591162257120752\n",
      "Davies-Bouldin Index:     6.394337951651138\n"
     ]
    },
    {
     "name": "stderr",
     "output_type": "stream",
     "text": [
      "/Library/Frameworks/Python.framework/Versions/3.7/lib/python3.7/site-packages/sklearn/metrics/cluster/unsupervised.py:342: RuntimeWarning: divide by zero encountered in true_divide\n",
      "  score = (intra_dists[:, None] + intra_dists) / centroid_distances\n",
      "/Library/Frameworks/Python.framework/Versions/3.7/lib/python3.7/site-packages/sklearn/svm/base.py:931: ConvergenceWarning: Liblinear failed to converge, increase the number of iterations.\n",
      "  \"the number of iterations.\", ConvergenceWarning)\n",
      "/Library/Frameworks/Python.framework/Versions/3.7/lib/python3.7/site-packages/sklearn/metrics/cluster/unsupervised.py:342: RuntimeWarning: divide by zero encountered in true_divide\n",
      "  score = (intra_dists[:, None] + intra_dists) / centroid_distances\n",
      "/Library/Frameworks/Python.framework/Versions/3.7/lib/python3.7/site-packages/sklearn/svm/base.py:931: ConvergenceWarning: Liblinear failed to converge, increase the number of iterations.\n",
      "  \"the number of iterations.\", ConvergenceWarning)\n",
      "/Library/Frameworks/Python.framework/Versions/3.7/lib/python3.7/site-packages/sklearn/metrics/cluster/unsupervised.py:342: RuntimeWarning: divide by zero encountered in true_divide\n",
      "  score = (intra_dists[:, None] + intra_dists) / centroid_distances\n"
     ]
    },
    {
     "name": "stdout",
     "output_type": "stream",
     "text": [
      "---------------------------------------------------------------------------\n",
      "Performace for algo: Hierarchical, No. of clusters: 2, PCA with dimensions: 100\n",
      "Silhouette Coefficient:   0.0020482082866597274\n",
      "Davies-Bouldin Index:     11.885742917900734\n",
      "---------------------------------------------------------------------------\n",
      "Performace for algo: Hierarchical, No. of clusters: 3, PCA with dimensions: 100\n",
      "Silhouette Coefficient:   0.000949692103264111\n",
      "Davies-Bouldin Index:     10.866544324547222\n",
      "---------------------------------------------------------------------------\n",
      "Performace for algo: Hierarchical, No. of clusters: 4, PCA with dimensions: 100\n",
      "Silhouette Coefficient:   -0.0011186364574578714\n",
      "Davies-Bouldin Index:     9.794831797837249\n"
     ]
    },
    {
     "name": "stderr",
     "output_type": "stream",
     "text": [
      "/Library/Frameworks/Python.framework/Versions/3.7/lib/python3.7/site-packages/sklearn/svm/base.py:931: ConvergenceWarning: Liblinear failed to converge, increase the number of iterations.\n",
      "  \"the number of iterations.\", ConvergenceWarning)\n",
      "/Library/Frameworks/Python.framework/Versions/3.7/lib/python3.7/site-packages/sklearn/metrics/cluster/unsupervised.py:342: RuntimeWarning: divide by zero encountered in true_divide\n",
      "  score = (intra_dists[:, None] + intra_dists) / centroid_distances\n",
      "/Library/Frameworks/Python.framework/Versions/3.7/lib/python3.7/site-packages/sklearn/metrics/cluster/unsupervised.py:342: RuntimeWarning: divide by zero encountered in true_divide\n",
      "  score = (intra_dists[:, None] + intra_dists) / centroid_distances\n",
      "/Library/Frameworks/Python.framework/Versions/3.7/lib/python3.7/site-packages/sklearn/metrics/cluster/unsupervised.py:342: RuntimeWarning: divide by zero encountered in true_divide\n",
      "  score = (intra_dists[:, None] + intra_dists) / centroid_distances\n"
     ]
    },
    {
     "name": "stdout",
     "output_type": "stream",
     "text": [
      "---------------------------------------------------------------------------\n",
      "Performace for algo: Hierarchical, No. of clusters: 5, PCA with dimensions: 100\n",
      "Silhouette Coefficient:   -0.002394498461171583\n",
      "Davies-Bouldin Index:     8.798716972174432\n",
      "---------------------------------------------------------------------------\n",
      "Performace for algo: Hierarchical, No. of clusters: 6, PCA with dimensions: 100\n",
      "Silhouette Coefficient:   -0.0016727532923399558\n",
      "Davies-Bouldin Index:     7.912211918074793\n",
      "---------------------------------------------------------------------------\n",
      "Performace for algo: Hierarchical, No. of clusters: 7, PCA with dimensions: 100\n",
      "Silhouette Coefficient:   -0.0029290385816992865\n",
      "Davies-Bouldin Index:     7.55007049819139\n"
     ]
    },
    {
     "name": "stderr",
     "output_type": "stream",
     "text": [
      "/Library/Frameworks/Python.framework/Versions/3.7/lib/python3.7/site-packages/sklearn/metrics/cluster/unsupervised.py:342: RuntimeWarning: divide by zero encountered in true_divide\n",
      "  score = (intra_dists[:, None] + intra_dists) / centroid_distances\n"
     ]
    },
    {
     "name": "stdout",
     "output_type": "stream",
     "text": [
      "---------------------------------------------------------------------------\n",
      "Performace for algo: Spectral, No. of clusters: 2, PCA with dimensions: 100\n",
      "Silhouette Coefficient:   0.0018229646935688615\n",
      "Davies-Bouldin Index:     3.6476347084827396\n"
     ]
    },
    {
     "name": "stderr",
     "output_type": "stream",
     "text": [
      "/Library/Frameworks/Python.framework/Versions/3.7/lib/python3.7/site-packages/sklearn/metrics/cluster/unsupervised.py:342: RuntimeWarning: divide by zero encountered in true_divide\n",
      "  score = (intra_dists[:, None] + intra_dists) / centroid_distances\n"
     ]
    },
    {
     "name": "stdout",
     "output_type": "stream",
     "text": [
      "---------------------------------------------------------------------------\n",
      "Performace for algo: Spectral, No. of clusters: 3, PCA with dimensions: 100\n",
      "Silhouette Coefficient:   0.0015449464898237883\n",
      "Davies-Bouldin Index:     2.9283326750708993\n"
     ]
    },
    {
     "name": "stderr",
     "output_type": "stream",
     "text": [
      "/Library/Frameworks/Python.framework/Versions/3.7/lib/python3.7/site-packages/sklearn/metrics/cluster/unsupervised.py:342: RuntimeWarning: divide by zero encountered in true_divide\n",
      "  score = (intra_dists[:, None] + intra_dists) / centroid_distances\n"
     ]
    },
    {
     "name": "stdout",
     "output_type": "stream",
     "text": [
      "---------------------------------------------------------------------------\n",
      "Performace for algo: Spectral, No. of clusters: 4, PCA with dimensions: 100\n",
      "Silhouette Coefficient:   -0.006205770639038852\n",
      "Davies-Bouldin Index:     4.199795727811753\n"
     ]
    },
    {
     "name": "stderr",
     "output_type": "stream",
     "text": [
      "/Library/Frameworks/Python.framework/Versions/3.7/lib/python3.7/site-packages/sklearn/metrics/cluster/unsupervised.py:342: RuntimeWarning: divide by zero encountered in true_divide\n",
      "  score = (intra_dists[:, None] + intra_dists) / centroid_distances\n",
      "/Library/Frameworks/Python.framework/Versions/3.7/lib/python3.7/site-packages/sklearn/metrics/cluster/unsupervised.py:342: RuntimeWarning: divide by zero encountered in true_divide\n",
      "  score = (intra_dists[:, None] + intra_dists) / centroid_distances\n"
     ]
    },
    {
     "name": "stdout",
     "output_type": "stream",
     "text": [
      "---------------------------------------------------------------------------\n",
      "Performace for algo: Spectral, No. of clusters: 5, PCA with dimensions: 100\n",
      "Silhouette Coefficient:   -0.01619839060194251\n",
      "Davies-Bouldin Index:     3.7724581532780164\n",
      "---------------------------------------------------------------------------\n",
      "Performace for algo: Spectral, No. of clusters: 6, PCA with dimensions: 100\n",
      "Silhouette Coefficient:   -0.02880226603784994\n",
      "Davies-Bouldin Index:     3.908006298939442\n"
     ]
    },
    {
     "name": "stderr",
     "output_type": "stream",
     "text": [
      "/Library/Frameworks/Python.framework/Versions/3.7/lib/python3.7/site-packages/sklearn/metrics/cluster/unsupervised.py:342: RuntimeWarning: divide by zero encountered in true_divide\n",
      "  score = (intra_dists[:, None] + intra_dists) / centroid_distances\n",
      "/Library/Frameworks/Python.framework/Versions/3.7/lib/python3.7/site-packages/sklearn/metrics/cluster/unsupervised.py:342: RuntimeWarning: divide by zero encountered in true_divide\n",
      "  score = (intra_dists[:, None] + intra_dists) / centroid_distances\n",
      "/Library/Frameworks/Python.framework/Versions/3.7/lib/python3.7/site-packages/sklearn/metrics/cluster/unsupervised.py:342: RuntimeWarning: divide by zero encountered in true_divide\n",
      "  score = (intra_dists[:, None] + intra_dists) / centroid_distances\n",
      "/Library/Frameworks/Python.framework/Versions/3.7/lib/python3.7/site-packages/sklearn/metrics/cluster/unsupervised.py:342: RuntimeWarning: divide by zero encountered in true_divide\n",
      "  score = (intra_dists[:, None] + intra_dists) / centroid_distances\n"
     ]
    },
    {
     "name": "stdout",
     "output_type": "stream",
     "text": [
      "---------------------------------------------------------------------------\n",
      "Performace for algo: Spectral, No. of clusters: 7, PCA with dimensions: 100\n",
      "Silhouette Coefficient:   -0.017145528327669572\n",
      "Davies-Bouldin Index:     5.372916438701138\n",
      "---------------------------------------------------------------------------\n",
      "Performace for algo: KMeans, No. of clusters: 2, PCA with dimensions: 200\n",
      "Silhouette Coefficient:   0.004351697292739571\n",
      "Davies-Bouldin Index:     11.243895655347917\n",
      "---------------------------------------------------------------------------\n",
      "Performace for algo: KMeans, No. of clusters: 3, PCA with dimensions: 200\n",
      "Silhouette Coefficient:   0.002767571721222968\n",
      "Davies-Bouldin Index:     10.135160780077278\n",
      "---------------------------------------------------------------------------\n",
      "Performace for algo: KMeans, No. of clusters: 4, PCA with dimensions: 200\n",
      "Silhouette Coefficient:   0.0021261310263066013\n",
      "Davies-Bouldin Index:     9.306424293494581\n"
     ]
    },
    {
     "name": "stderr",
     "output_type": "stream",
     "text": [
      "/Library/Frameworks/Python.framework/Versions/3.7/lib/python3.7/site-packages/sklearn/metrics/cluster/unsupervised.py:342: RuntimeWarning: divide by zero encountered in true_divide\n",
      "  score = (intra_dists[:, None] + intra_dists) / centroid_distances\n",
      "/Library/Frameworks/Python.framework/Versions/3.7/lib/python3.7/site-packages/sklearn/metrics/cluster/unsupervised.py:342: RuntimeWarning: divide by zero encountered in true_divide\n",
      "  score = (intra_dists[:, None] + intra_dists) / centroid_distances\n",
      "/Library/Frameworks/Python.framework/Versions/3.7/lib/python3.7/site-packages/sklearn/metrics/cluster/unsupervised.py:342: RuntimeWarning: divide by zero encountered in true_divide\n",
      "  score = (intra_dists[:, None] + intra_dists) / centroid_distances\n",
      "/Library/Frameworks/Python.framework/Versions/3.7/lib/python3.7/site-packages/sklearn/metrics/cluster/unsupervised.py:342: RuntimeWarning: divide by zero encountered in true_divide\n",
      "  score = (intra_dists[:, None] + intra_dists) / centroid_distances\n",
      "/Library/Frameworks/Python.framework/Versions/3.7/lib/python3.7/site-packages/sklearn/metrics/cluster/unsupervised.py:342: RuntimeWarning: divide by zero encountered in true_divide\n",
      "  score = (intra_dists[:, None] + intra_dists) / centroid_distances\n"
     ]
    },
    {
     "name": "stdout",
     "output_type": "stream",
     "text": [
      "---------------------------------------------------------------------------\n",
      "Performace for algo: KMeans, No. of clusters: 5, PCA with dimensions: 200\n",
      "Silhouette Coefficient:   0.0018047669042093291\n",
      "Davies-Bouldin Index:     8.585587107608381\n",
      "---------------------------------------------------------------------------\n",
      "Performace for algo: KMeans, No. of clusters: 6, PCA with dimensions: 200\n",
      "Silhouette Coefficient:   0.001153740502652073\n",
      "Davies-Bouldin Index:     8.318092118442578\n",
      "---------------------------------------------------------------------------\n",
      "Performace for algo: KMeans, No. of clusters: 7, PCA with dimensions: 200\n",
      "Silhouette Coefficient:   0.00035885153021513236\n",
      "Davies-Bouldin Index:     7.917908569198921\n",
      "---------------------------------------------------------------------------\n",
      "Performace for algo: Hierarchical, No. of clusters: 2, PCA with dimensions: 200\n",
      "Silhouette Coefficient:   0.001613573716880828\n",
      "Davies-Bouldin Index:     14.233352827083063\n",
      "---------------------------------------------------------------------------\n",
      "Performace for algo: Hierarchical, No. of clusters: 3, PCA with dimensions: 200\n",
      "Silhouette Coefficient:   0.0003637274675527388\n",
      "Davies-Bouldin Index:     11.661507269522586\n"
     ]
    },
    {
     "name": "stderr",
     "output_type": "stream",
     "text": [
      "/Library/Frameworks/Python.framework/Versions/3.7/lib/python3.7/site-packages/sklearn/metrics/cluster/unsupervised.py:342: RuntimeWarning: divide by zero encountered in true_divide\n",
      "  score = (intra_dists[:, None] + intra_dists) / centroid_distances\n",
      "/Library/Frameworks/Python.framework/Versions/3.7/lib/python3.7/site-packages/sklearn/metrics/cluster/unsupervised.py:342: RuntimeWarning: divide by zero encountered in true_divide\n",
      "  score = (intra_dists[:, None] + intra_dists) / centroid_distances\n",
      "/Library/Frameworks/Python.framework/Versions/3.7/lib/python3.7/site-packages/sklearn/metrics/cluster/unsupervised.py:342: RuntimeWarning: divide by zero encountered in true_divide\n",
      "  score = (intra_dists[:, None] + intra_dists) / centroid_distances\n"
     ]
    },
    {
     "name": "stdout",
     "output_type": "stream",
     "text": [
      "---------------------------------------------------------------------------\n",
      "Performace for algo: Hierarchical, No. of clusters: 4, PCA with dimensions: 200\n",
      "Silhouette Coefficient:   2.168529334454375e-05\n",
      "Davies-Bouldin Index:     10.10239144779477\n",
      "---------------------------------------------------------------------------\n",
      "Performace for algo: Hierarchical, No. of clusters: 5, PCA with dimensions: 200\n",
      "Silhouette Coefficient:   -0.0003165147292816999\n",
      "Davies-Bouldin Index:     9.466379950455813\n",
      "---------------------------------------------------------------------------\n",
      "Performace for algo: Hierarchical, No. of clusters: 6, PCA with dimensions: 200\n",
      "Silhouette Coefficient:   -0.0007328267303033239\n",
      "Davies-Bouldin Index:     8.826930013144194\n"
     ]
    },
    {
     "name": "stderr",
     "output_type": "stream",
     "text": [
      "/Library/Frameworks/Python.framework/Versions/3.7/lib/python3.7/site-packages/sklearn/metrics/cluster/unsupervised.py:342: RuntimeWarning: divide by zero encountered in true_divide\n",
      "  score = (intra_dists[:, None] + intra_dists) / centroid_distances\n"
     ]
    },
    {
     "name": "stdout",
     "output_type": "stream",
     "text": [
      "---------------------------------------------------------------------------\n",
      "Performace for algo: Hierarchical, No. of clusters: 7, PCA with dimensions: 200\n",
      "Silhouette Coefficient:   -0.0005843078669815307\n",
      "Davies-Bouldin Index:     8.319329704441218\n"
     ]
    },
    {
     "name": "stderr",
     "output_type": "stream",
     "text": [
      "/Library/Frameworks/Python.framework/Versions/3.7/lib/python3.7/site-packages/sklearn/metrics/cluster/unsupervised.py:342: RuntimeWarning: divide by zero encountered in true_divide\n",
      "  score = (intra_dists[:, None] + intra_dists) / centroid_distances\n"
     ]
    },
    {
     "name": "stdout",
     "output_type": "stream",
     "text": [
      "---------------------------------------------------------------------------\n",
      "Performace for algo: Spectral, No. of clusters: 2, PCA with dimensions: 200\n",
      "Silhouette Coefficient:   -0.00032323710448786523\n",
      "Davies-Bouldin Index:     7.006234171662715\n"
     ]
    },
    {
     "name": "stderr",
     "output_type": "stream",
     "text": [
      "/Library/Frameworks/Python.framework/Versions/3.7/lib/python3.7/site-packages/sklearn/metrics/cluster/unsupervised.py:342: RuntimeWarning: divide by zero encountered in true_divide\n",
      "  score = (intra_dists[:, None] + intra_dists) / centroid_distances\n"
     ]
    },
    {
     "name": "stdout",
     "output_type": "stream",
     "text": [
      "---------------------------------------------------------------------------\n",
      "Performace for algo: Spectral, No. of clusters: 3, PCA with dimensions: 200\n",
      "Silhouette Coefficient:   -0.0019788799363261718\n",
      "Davies-Bouldin Index:     6.800136650701185\n"
     ]
    },
    {
     "name": "stderr",
     "output_type": "stream",
     "text": [
      "/Library/Frameworks/Python.framework/Versions/3.7/lib/python3.7/site-packages/sklearn/metrics/cluster/unsupervised.py:342: RuntimeWarning: divide by zero encountered in true_divide\n",
      "  score = (intra_dists[:, None] + intra_dists) / centroid_distances\n",
      "/Library/Frameworks/Python.framework/Versions/3.7/lib/python3.7/site-packages/sklearn/metrics/cluster/unsupervised.py:342: RuntimeWarning: divide by zero encountered in true_divide\n",
      "  score = (intra_dists[:, None] + intra_dists) / centroid_distances\n"
     ]
    },
    {
     "name": "stdout",
     "output_type": "stream",
     "text": [
      "---------------------------------------------------------------------------\n",
      "Performace for algo: Spectral, No. of clusters: 4, PCA with dimensions: 200\n",
      "Silhouette Coefficient:   -0.003324213825566458\n",
      "Davies-Bouldin Index:     6.144610710578338\n",
      "---------------------------------------------------------------------------\n",
      "Performace for algo: Spectral, No. of clusters: 5, PCA with dimensions: 200\n",
      "Silhouette Coefficient:   -0.007902310315181927\n",
      "Davies-Bouldin Index:     5.485759149698926\n",
      "---------------------------------------------------------------------------\n",
      "Performace for algo: Spectral, No. of clusters: 6, PCA with dimensions: 200\n",
      "Silhouette Coefficient:   -0.008872580968320463\n",
      "Davies-Bouldin Index:     5.354095904402779\n",
      "---------------------------------------------------------------------------\n",
      "Performace for algo: Spectral, No. of clusters: 7, PCA with dimensions: 200\n",
      "Silhouette Coefficient:   -0.008913370811874256\n",
      "Davies-Bouldin Index:     5.314229988353718\n",
      "=========================== BEST RESULT ============================\n",
      "Silhouette Coefficient:   0.0015449464898237883\n",
      "Calinski-Harabasz Index:  0\n",
      "Davies-Bouldin Index:     2.9283326750708993\n",
      "============================ BEST MODEL =============================\n",
      "Algorithm:            Spectral\n",
      "No. of clusters:      3\n",
      "Dimension Reduction:  100\n"
     ]
    },
    {
     "name": "stderr",
     "output_type": "stream",
     "text": [
      "/Library/Frameworks/Python.framework/Versions/3.7/lib/python3.7/site-packages/sklearn/metrics/cluster/unsupervised.py:342: RuntimeWarning: divide by zero encountered in true_divide\n",
      "  score = (intra_dists[:, None] + intra_dists) / centroid_distances\n",
      "/Library/Frameworks/Python.framework/Versions/3.7/lib/python3.7/site-packages/sklearn/metrics/cluster/unsupervised.py:342: RuntimeWarning: divide by zero encountered in true_divide\n",
      "  score = (intra_dists[:, None] + intra_dists) / centroid_distances\n"
     ]
    }
   ],
   "source": [
    "Matrix_Data = pd.read_csv(Matrix_FilePath, sep=',')\n",
    "Matrix = Matrix_Data[Col_List] \n",
    "\n",
    "Best_Model = Clustering_Comparison(Matrix, Clustering_AlgoList, No_Clusters_List, PCA_List)"
   ]
  },
  {
   "cell_type": "code",
   "execution_count": 9,
   "metadata": {},
   "outputs": [
    {
     "name": "stderr",
     "output_type": "stream",
     "text": [
      "/Library/Frameworks/Python.framework/Versions/3.7/lib/python3.7/site-packages/sklearn/metrics/cluster/unsupervised.py:342: RuntimeWarning: divide by zero encountered in true_divide\n",
      "  score = (intra_dists[:, None] + intra_dists) / centroid_distances\n"
     ]
    }
   ],
   "source": [
    "if Best_Model[2] != Matrix.shape[1]:\n",
    "    Reduced_Matrix = PCA_Transform(Matrix, Best_Model[2])\n",
    "else:\n",
    "    Reduced_Matrix = Matrix\n",
    "    \n",
    "Model_Predict, Labels, Evaluation_Metrics = Perform_Clustering(Reduced_Matrix, Best_Model[0], Best_Model[1])\n"
   ]
  },
  {
   "cell_type": "code",
   "execution_count": 10,
   "metadata": {},
   "outputs": [
    {
     "name": "stdout",
     "output_type": "stream",
     "text": [
      "[0 0 0 0 0 0 0 0 0 0 0 0 0 0 0 0 0 0 0 0 0 0 0 0 0 0 0 0 0 0 0 0 0 0 0 0 0\n",
      " 0 0 0 0 0 0 0 0 0 0 0 0 0 0 0 0 0 0 1 0 0 0 0 0 0 0 0 0 0 0 0 0 0 0 0 0 0\n",
      " 0 0 0 0 0 0 0 0 0 0 0 0 0 0 0 0 0 0 0 0 0 0 0 0 0 1 0 0 0 0 0 0 0 0 0 0 0\n",
      " 0 0 0 0 0 0 0 0 0 0 0 0 0 0 0 0 0 0 0 0 0 0 0 0 0 0 0 0 0 0 0 0 0 0 0 0 0\n",
      " 0 0 0 0 0 0 0 0 0 0 0 0 0 0 0 0 0 0 0 0 0 0 0 0 0 1 0 0 0 0 0 0 0 0 0 0 0\n",
      " 0 0 0 0 0 0 0 0 0 0 0 0 0 0 0 0 1 0 0 0 0 0 0 0 0 0 0 0 0 0 0 0 0 0 0 0 0\n",
      " 0 0 0 0 0 0 0 0 0 0 0 0 0 0 0 0 0 0 0 0 0 0 0 0 0 0 0 0 0 0 0 0 0 0 0 0 0\n",
      " 0 0 0 0 0 0 0 0 0 0 0 0 0 0 0 0 0 0 0 0 0 0 0 0 0 0 0 0 0 0 0 0 0 0 0 0 0\n",
      " 0 0 0 0]\n"
     ]
    }
   ],
   "source": [
    "print(Labels)"
   ]
  },
  {
   "cell_type": "code",
   "execution_count": 11,
   "metadata": {},
   "outputs": [
    {
     "name": "stdout",
     "output_type": "stream",
     "text": [
      "Storing trained clustering model...\n",
      "Storing clustered UserIDs...\n"
     ]
    }
   ],
   "source": [
    "UserIDList = list(Matrix_Data['CustomerID'])\n",
    "Store_Clusters(Model_Predict, Best_Model[2], UserIDList, Labels, \"./\")"
   ]
  },
  {
   "cell_type": "code",
   "execution_count": 12,
   "metadata": {},
   "outputs": [],
   "source": [
    "Matrix_FilePath = \"./User_Product_Matrix_Test.csv\"\n",
    "Col_List=[str(i) for i in range(1,453)]\n",
    "\n",
    "Test_Data = pd.read_csv(Matrix_FilePath, sep=',')\n",
    "Test_Matrix = Test_Data[Col_List]"
   ]
  },
  {
   "cell_type": "code",
   "execution_count": 13,
   "metadata": {},
   "outputs": [
    {
     "name": "stdout",
     "output_type": "stream",
     "text": [
      "<class 'numpy.ndarray'>\n"
     ]
    }
   ],
   "source": [
    "Model_Predict = None\n",
    "with open(\"./Saved_Model.pkl\", 'rb') as file:\n",
    "    Saved_Model = pickle.load(file)\n",
    "\n",
    "Pca_Dimensions = Saved_Model['Dimensions']\n",
    "Model_Predict = Saved_Model['Model']\n",
    "\n",
    "if Pca_Dimensions != Test_Matrix.shape[1]:\n",
    "    Reduced_Matrix = PCA_Transform(Test_Matrix, Pca_Dimensions)\n",
    "else:\n",
    "    Reduced_Matrix = Test_Matrix\n",
    "\n",
    "Predictions = Model_Predict.predict(Reduced_Matrix)\n",
    "print(type(Predictions))"
   ]
  },
  {
   "cell_type": "code",
   "execution_count": 14,
   "metadata": {},
   "outputs": [
    {
     "name": "stdout",
     "output_type": "stream",
     "text": [
      "(200,)\n"
     ]
    }
   ],
   "source": [
    "print(Predictions.shape)"
   ]
  },
  {
   "cell_type": "code",
   "execution_count": 15,
   "metadata": {},
   "outputs": [
    {
     "name": "stdout",
     "output_type": "stream",
     "text": [
      "[0 0 0 0 0 0 0 0 0 0 0 0 0 0 0 0 0 0 0 0 0 0 0 0 0 0 0 0 0 0 0 0 0 0 0 0 0\n",
      " 0 0 0 0 0 0 0 0 0 0 0 0 0 0 0 0 0 0 0 0 0 0 0 0 0 0 0 0 0 0 0 0 0 0 0 0 0\n",
      " 0 0 0 0 0 0 0 0 0 0 0 0 0 0 0 0 0 0 0 0 0 0 1 0 0 0 0 0 0 0 0 0 0 0 0 0 0\n",
      " 0 0 0 0 0 0 0 0 0 0 0 0 0 0 0 0 0 0 0 0 0 0 0 0 0 0 0 0 0 0 0 0 0 0 0 0 0\n",
      " 0 0 0 0 0 0 0 0 0 0 0 0 0 0 0 0 0 0 0 0 0 0 0 0 0 0 0 0 0 0 0 0 0 0 0 0 1\n",
      " 0 0 0 0 0 0 0 0 0 0 0 0 0 0 0]\n"
     ]
    }
   ],
   "source": [
    "print(Predictions)"
   ]
  },
  {
   "cell_type": "code",
   "execution_count": null,
   "metadata": {},
   "outputs": [],
   "source": []
  }
 ],
 "metadata": {
  "kernelspec": {
   "display_name": "Python 3",
   "language": "python",
   "name": "python3"
  },
  "language_info": {
   "codemirror_mode": {
    "name": "ipython",
    "version": 3
   },
   "file_extension": ".py",
   "mimetype": "text/x-python",
   "name": "python",
   "nbconvert_exporter": "python",
   "pygments_lexer": "ipython3",
   "version": "3.7.0"
  }
 },
 "nbformat": 4,
 "nbformat_minor": 2
}
