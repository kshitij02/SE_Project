{
 "cells": [
  {
   "cell_type": "code",
   "execution_count": 1,
   "metadata": {},
   "outputs": [],
   "source": [
    "from Data_Operations import*\n",
    "import numpy as np\n",
    "import pandas as pd\n",
    "import pickle\n",
    "\n",
    "from sklearn.decomposition import PCA\n",
    "from sklearn.cluster import KMeans\n",
    "from sklearn.cluster import SpectralClustering\n",
    "from sklearn.cluster import AgglomerativeClustering\n",
    "\n",
    "import matplotlib.pyplot as plt\n",
    "from sklearn import metrics"
   ]
  },
  {
   "cell_type": "code",
   "execution_count": 2,
   "metadata": {},
   "outputs": [],
   "source": [
    "class CF_Matrix:\n",
    "\n",
    "    def __init__(self):\n",
    "\n",
    "        self.Rows = 0\n",
    "        self.Cols = 0\n",
    "        self.Matrix = None\n",
    "\n",
    "    ## Get quantity of product Prod_id purchased by user Cust_id\n",
    "    def Get_Quantity(self, Data, UserID_Col, ProductID_Col, Cust_id, Prod_id, Quantity_Col):\n",
    "\n",
    "        Cust_Id_Filter = Data.loc[Data[UserID_Col]==Cust_id]\n",
    "        Prod_Id_Filter = Cust_Id_Filter.loc[Cust_Id_Filter[ProductID_Col]==Prod_id]\n",
    "        Prod_Quantity = np.sum(Prod_Id_Filter[Quantity_Col])\n",
    "        return Prod_Quantity\n",
    "\n",
    "    ## Binary_Flag = 1 : Cell contains 1 if product is purchased by user\n",
    "    ## Binary_Flag = 0 : Cell contains quantity of products is purchased by user\n",
    "    def Build_User_Product_Matrix(self, Data, UserID_Col, ProductID_Col, Quantity_Col, Binary_Flag):\n",
    "\n",
    "        Customer_Ids = Data[UserID_Col].unique()\n",
    "        Product_Ids = Data[ProductID_Col].unique()\n",
    "\n",
    "        self.Rows = Customer_Ids.shape[0]\n",
    "        self.Cols = Product_Ids.shape[0]\n",
    "        self.Matrix = np.zeros((self.Rows, self.Cols))\n",
    "\n",
    "        for i in range(self.Rows):\n",
    "            for j in range(self.Cols):\n",
    "\n",
    "                Cust_Id = Customer_Ids[i]\n",
    "                Prod_Id = Product_Ids[j]\n",
    "                Prod_Quantity = self.Get_Quantity(Data, UserID_Col, ProductID_Col, Cust_Id, Prod_Id, Quantity_Col)\n",
    "\n",
    "                if Prod_Quantity > 0:\n",
    "                    if Binary_Flag:\n",
    "                        self.Matrix[i][j] = 1\n",
    "                    else:\n",
    "                        self.Matrix[i][j] = Prod_Quantity\n",
    "\n",
    "def Create_Purchase_Matrix():\n",
    "\n",
    "    Sales_data = Load_Data(Sales_filepath, Sales_Col_list, seperator=\";\")\n",
    "    Products_data = Load_Data(Products_filepath, Products_Col_list, seperator=\";\")\n",
    "    User_data = Load_Data(Users_filepath, Users_Col_list, seperator=\";\")\n",
    "\n",
    "    ## Analysis of No. of purchase orders per customer.\n",
    "    ## Instead of whole data, using only N users' data with maximum purchase orders\n",
    "    Num_Orders_List, Cust_Id_List = VisualizeSalesPerCustomer(Sales_data, UserID_Col)\n",
    "    Num_Orders_List = Num_Orders_List[:TopN]\n",
    "    Cust_Id_List = Cust_Id_List[:TopN]\n",
    "    # Plot_Graph(Cust_Id_List, Num_Orders_List)\n",
    "\n",
    "    ## Pre-Processing: Combine all data files in one consistent, sort and drop rows with missing value\n",
    "    Combined_Data = Combine_Data(Sales_data, User_data, Products_data, Cust_Id_List, UserID_Col, ProductID_Col)\n",
    "    Processed_Data = Data_Processing(Combined_Data)\n",
    "\n",
    "    ## Create User_Product Matrix for CF\n",
    "    User_Product_Mat = CF_Matrix()\n",
    "    User_Product_Mat.Build_User_Product_Matrix(Processed_Data, UserID_Col, ProductID_Col, Quantity_Col, Binary_Flag=1)\n",
    "\n",
    "    return User_Product_Mat.Matrix, Cust_Id_List, list(Products_data[ProductID_Col])\n",
    "\n",
    "## Create User_PersonalInformation Matrix based on information filled by users\n",
    "def Create_User_Matrix():\n",
    "    return\n",
    "\n",
    "def Store_Matrix(Data_Matrix, UserID_List, DataFrame_Header, FilePath):\n",
    "\n",
    "\n",
    "\n",
    "    Matrix_DataFrame = []\n",
    "    for i in range(len(UserID_List)):\n",
    "        DF_Row = [UserID_List[i]]\n",
    "        DF_Row.extend(list(User_Product_Matrix[i]))\n",
    "        Matrix_DataFrame.append(DF_Row)\n",
    "\n",
    "    User_Product_Dataframe = pd.DataFrame(Matrix_DataFrame, columns=DataFrame_Header)\n",
    "    User_Product_Dataframe.to_csv(FilePath)"
   ]
  },
  {
   "cell_type": "code",
   "execution_count": 3,
   "metadata": {},
   "outputs": [],
   "source": [
    "Data_Folder_Path = \"/Users/pranjali/Downloads/SE_Project/Data/SalesDB/\"\n",
    "\n",
    "Sales_filepath = Data_Folder_Path + \"sales.csv\"\n",
    "Sales_Col_list = [\"SalesID\", \"CustomerID\", \"ProductID\", \"Quantity\", \"SalesDate\"]\n",
    "\n",
    "Products_filepath = Data_Folder_Path + \"products.csv\"\n",
    "Products_Col_list = [\"ProductID\", \"ProductName\", \"CategoryID\", \"IsAllergic\"]\n",
    "\n",
    "Users_filepath = Data_Folder_Path + \"customers.csv\"\n",
    "Users_Col_list = [\"CustomerID\", \"FirstName\", \"LastName\", \"CityID\"]\n",
    "\n",
    "UserID_Col = \"CustomerID\"\n",
    "ProductID_Col = \"ProductID\"\n",
    "Quantity_Col = \"Quantity\"\n",
    "\n",
    "TopN = 300"
   ]
  },
  {
   "cell_type": "code",
   "execution_count": 4,
   "metadata": {},
   "outputs": [
    {
     "name": "stdout",
     "output_type": "stream",
     "text": [
      "Loading data from  /Users/pranjali/Downloads/SE_Project/Data/SalesDB/sales.csv\n",
      "number of rows, cols  (6758125, 5)\n",
      "Loading data from  /Users/pranjali/Downloads/SE_Project/Data/SalesDB/products.csv\n",
      "number of rows, cols  (452, 4)\n",
      "Loading data from  /Users/pranjali/Downloads/SE_Project/Data/SalesDB/customers.csv\n",
      "number of rows, cols  (98759, 4)\n"
     ]
    }
   ],
   "source": [
    "User_Product_Matrix, UserID_List, ProductID_List = Create_Purchase_Matrix()\n",
    "\n",
    "Attribute_List = [UserID_Col]\n",
    "for i in ProductID_List:\n",
    "    Attribute_List.append(i)\n",
    "\n",
    "Store_Matrix(User_Product_Matrix, UserID_List, Attribute_List, \"./User_Product_Matrix.csv\")\n"
   ]
  },
  {
   "cell_type": "code",
   "execution_count": 5,
   "metadata": {},
   "outputs": [],
   "source": [
    "## Dimension Reduction using PCA\n",
    "def PCA_Transform(Matrix, No_Dimensions):\n",
    "    \n",
    "    pca = PCA(n_components=No_Dimensions)\n",
    "    Reduced_Matrix = pca.fit_transform(Matrix)\n",
    "    Reduced_Matrix = pd.DataFrame(Reduced_Matrix)\n",
    "    \n",
    "    return Reduced_Matrix\n",
    "\n",
    "\n",
    "## Clustering Algorithms\n",
    "\n",
    "## 1. KMeans Clustering\n",
    "def KMeans_Clustering(Matrix, No_Clusters):\n",
    "    \n",
    "    KMeans_Obj = KMeans(n_clusters=No_Clusters, init='k-means++').fit(Matrix)\n",
    "    Cluster_Labels = KMeans_Obj.labels_\n",
    "    \n",
    "    return Cluster_Labels\n",
    "\n",
    "## 2. Hierarchical Clustering\n",
    "def Hierarchical_Clustering(Matrix, No_Clusters):\n",
    "    Clustering_Obj = AgglomerativeClustering(n_clusters=No_Clusters, linkage=\"complete\").fit(Matrix)\n",
    "    Cluster_Labels= Clustering_Obj.labels_\n",
    "    return Cluster_Labels\n",
    "\n",
    "## 3. Spectral Clustering\n",
    "def Spectral_Clustering(Matrix, No_Clusters):\n",
    "    Clustering_Obj = SpectralClustering(n_clusters=No_Clusters, assign_labels=\"discretize\", random_state=0).fit(Matrix)\n",
    "    Cluster_Labels = Clustering_Obj.labels_\n",
    "    \n",
    "    return Cluster_Labels\n",
    "\n",
    "\n",
    "## Clustering performance evaluation metrics\n",
    "def Clustering_Evaluation(Matrix, Cluster_Labels, Dist_Metric='euclidean'):\n",
    "    \n",
    "    ## 1. The Silhouette Coefficient\n",
    "    ## The score is bounded between -1 for incorrect clustering and +1 for highly dense clustering. \n",
    "    ## Scores around zero indicate overlapping clusters.\n",
    "    \n",
    "    Silhouette_Score = metrics.silhouette_score(Matrix, Cluster_Labels, metric=Dist_Metric)\n",
    "    \n",
    "    ## 2. The Calinski-Harabasz index (Variance Ratio Criteria)\n",
    "    ## The index is the ratio of the sum of between-clusters dispersion and of inter-cluster dispersion for all clusters.\n",
    "    ## The score is higher when clusters are dense and well separated.\n",
    "    \n",
    "#     CH_Index = metrics.calinski_harabasz_score(Matrix, Cluster_Labels)\n",
    "    CH_Index = 0\n",
    "    \n",
    "    ## 3. The Davies-Bouldin index\n",
    "    ## This index signifies the average ‘similarity’ between clusters, where the similarity is a measure \n",
    "    ## that compares the distance between clusters with the size of the clusters themselves.\n",
    "    ## Zero is the lowest possible score. Values closer to zero indicate a better partition.\n",
    "    \n",
    "    DB_Index = metrics.davies_bouldin_score(Matrix, Cluster_Labels)\n",
    "    \n",
    "    return Silhouette_Score, CH_Index, DB_Index\n",
    "\n",
    "\n",
    "\n",
    "def Perform_Clustering(Matrix, Clustering_Algo, No_Clusters):\n",
    "    \n",
    "    if Clustering_Algo=='KMeans':\n",
    "        Labels = KMeans_Clustering(Matrix, No_Clusters)\n",
    "        Evaluation_Metrics = Clustering_Evaluation(Matrix, Labels, 'euclidean')\n",
    "                \n",
    "    elif Clustering_Algo=='Hierarchical':\n",
    "        Labels = Hierarchical_Clustering(Matrix, No_Clusters)\n",
    "        Evaluation_Metrics = Clustering_Evaluation(Matrix, Labels)\n",
    "        \n",
    "    elif Clustering_Algo=='Spectral':\n",
    "        Labels = Spectral_Clustering(Matrix, No_Clusters)\n",
    "        Evaluation_Metrics = Clustering_Evaluation(Matrix, Labels)\n",
    "\n",
    "    else:\n",
    "        print(\"Invalid algotirthm: \", Clustering_Algo)\n",
    "        \n",
    "    return (Labels, Evaluation_Metrics)\n",
    "\n",
    "\n",
    "\n",
    "def Clustering_Comparison(Matrix, Clustering_AlgoList=[], No_Clusters_List=[], PCA_List=[]):\n",
    "        \n",
    "    Clustering_Results = []\n",
    "    \n",
    "    for dimension in PCA_List:\n",
    "        if int(dimension) != 0:\n",
    "            pca_dimension = dimension\n",
    "            Reduced_Matrix = PCA_Transform(Matrix, pca_dimension)\n",
    "        else:\n",
    "            pca_dimension = Matrix.shape[1]\n",
    "            Reduced_Matrix = Matrix\n",
    "            \n",
    "        for algo in Clustering_AlgoList:\n",
    "            for No_Clusters in No_Clusters_List:\n",
    "                \n",
    "                Labels, Evaluation_Metrics = Perform_Clustering(Reduced_Matrix, algo, No_Clusters)\n",
    "\n",
    "                print(\"---------------------------------------------------------------------------\")\n",
    "                print(\"Performace for algo: \" + str(algo) + \", No. of clusters: \"+ str(No_Clusters) + \", PCA with dimensions: \" + str(pca_dimension))\n",
    "                print(\"Silhouette Coefficient:  \", Evaluation_Metrics[0])\n",
    "#                 print(\"Calinski-Harabasz Index: \", Evaluation_Metrics[1])\n",
    "                print(\"Davies-Bouldin Index:    \", Evaluation_Metrics[2])\n",
    "                \n",
    "                Model_Details = (algo, No_Clusters, pca_dimension)\n",
    "                Clustering_Results.append((Model_Details, Evaluation_Metrics))\n",
    "    \n",
    "#     Sorted_Result = sorted(Clustering_Results, key=lambda x: (-x[1][0], -x[1][1], x[1][2]))\n",
    "    Sorted_Result = sorted(Clustering_Results, key=lambda x: (x[1][2], -x[1][0]))\n",
    "    Best_Result = Sorted_Result[0]\n",
    "    \n",
    "    Best_Result_Eval = Best_Result[1]\n",
    "    print(\"=========================== BEST RESULT ============================\")\n",
    "    print(\"Silhouette Coefficient:  \", Best_Result_Eval[0])\n",
    "    print(\"Calinski-Harabasz Index: \", Best_Result_Eval[1])\n",
    "    print(\"Davies-Bouldin Index:    \", Best_Result_Eval[2])\n",
    "    \n",
    "    Best_Model_Params = Best_Result[0]\n",
    "    print(\"============================ BEST MODEL =============================\")\n",
    "    print(\"Algorithm:           \", Best_Model_Params[0])\n",
    "    print(\"No. of clusters:     \", Best_Model_Params[1])\n",
    "    print(\"Dimension Reduction: \", Best_Model_Params[2])\n",
    "    \n",
    "    return Best_Model_Params\n",
    "    \n",
    "## Store Clustering Algorithm Output\n",
    "def Store_Clusters(UserID_List, Labels, Output_Folder_Path):\n",
    "    \n",
    "    Clusters = {}\n",
    "    for i in range(len(Labels)):\n",
    "        \n",
    "        label = Labels[i]\n",
    "        UserID = UserID_List[i]\n",
    "        \n",
    "        if label not in Clusters.keys():\n",
    "            Clusters[label] = [UserID]\n",
    "        else:\n",
    "            Clusters[label].append(UserID)\n",
    "            \n",
    "    with open(Output_Folder_Path + \"/Clusters.pkl\", 'wb') as output_file:\n",
    "        pickle.dump(Clusters, output_file)\n",
    "        \n",
    "    print(Clusters)\n",
    "    "
   ]
  },
  {
   "cell_type": "code",
   "execution_count": 6,
   "metadata": {},
   "outputs": [],
   "source": [
    "Matrix_FilePath = \"./User_Product_Matrix.csv\"\n",
    "Col_List=[str(i) for i in range(1,453)]\n",
    "\n",
    "Clustering_AlgoList = ['KMeans', 'Hierarchical', 'Spectral']\n",
    "No_Clusters_List = [2, 3, 4, 5, 6, 7]\n",
    "PCA_List = [0, 100, 200]"
   ]
  },
  {
   "cell_type": "code",
   "execution_count": 7,
   "metadata": {},
   "outputs": [
    {
     "name": "stderr",
     "output_type": "stream",
     "text": [
      "/Library/Frameworks/Python.framework/Versions/3.7/lib/python3.7/site-packages/sklearn/metrics/cluster/unsupervised.py:342: RuntimeWarning: divide by zero encountered in true_divide\n",
      "  score = (intra_dists[:, None] + intra_dists) / centroid_distances\n",
      "/Library/Frameworks/Python.framework/Versions/3.7/lib/python3.7/site-packages/sklearn/metrics/cluster/unsupervised.py:342: RuntimeWarning: divide by zero encountered in true_divide\n",
      "  score = (intra_dists[:, None] + intra_dists) / centroid_distances\n",
      "/Library/Frameworks/Python.framework/Versions/3.7/lib/python3.7/site-packages/sklearn/metrics/cluster/unsupervised.py:342: RuntimeWarning: divide by zero encountered in true_divide\n",
      "  score = (intra_dists[:, None] + intra_dists) / centroid_distances\n",
      "/Library/Frameworks/Python.framework/Versions/3.7/lib/python3.7/site-packages/sklearn/metrics/cluster/unsupervised.py:342: RuntimeWarning: divide by zero encountered in true_divide\n",
      "  score = (intra_dists[:, None] + intra_dists) / centroid_distances\n"
     ]
    },
    {
     "name": "stdout",
     "output_type": "stream",
     "text": [
      "---------------------------------------------------------------------------\n",
      "Performace for algo: KMeans, No. of clusters: 2, PCA with dimensions: 452\n",
      "Silhouette Coefficient:   0.003490233897992878\n",
      "Davies-Bouldin Index:     12.011950589363426\n",
      "---------------------------------------------------------------------------\n",
      "Performace for algo: KMeans, No. of clusters: 3, PCA with dimensions: 452\n",
      "Silhouette Coefficient:   0.0022218174132625774\n",
      "Davies-Bouldin Index:     10.785616607818788\n",
      "---------------------------------------------------------------------------\n",
      "Performace for algo: KMeans, No. of clusters: 4, PCA with dimensions: 452\n",
      "Silhouette Coefficient:   0.0015454596293740601\n",
      "Davies-Bouldin Index:     9.910661044491473\n",
      "---------------------------------------------------------------------------\n",
      "Performace for algo: KMeans, No. of clusters: 5, PCA with dimensions: 452\n",
      "Silhouette Coefficient:   0.001135727085513463\n",
      "Davies-Bouldin Index:     8.999637196905686\n"
     ]
    },
    {
     "name": "stderr",
     "output_type": "stream",
     "text": [
      "/Library/Frameworks/Python.framework/Versions/3.7/lib/python3.7/site-packages/sklearn/metrics/cluster/unsupervised.py:342: RuntimeWarning: divide by zero encountered in true_divide\n",
      "  score = (intra_dists[:, None] + intra_dists) / centroid_distances\n",
      "/Library/Frameworks/Python.framework/Versions/3.7/lib/python3.7/site-packages/sklearn/metrics/cluster/unsupervised.py:342: RuntimeWarning: divide by zero encountered in true_divide\n",
      "  score = (intra_dists[:, None] + intra_dists) / centroid_distances\n",
      "/Library/Frameworks/Python.framework/Versions/3.7/lib/python3.7/site-packages/sklearn/metrics/cluster/unsupervised.py:342: RuntimeWarning: divide by zero encountered in true_divide\n",
      "  score = (intra_dists[:, None] + intra_dists) / centroid_distances\n",
      "/Library/Frameworks/Python.framework/Versions/3.7/lib/python3.7/site-packages/sklearn/metrics/cluster/unsupervised.py:342: RuntimeWarning: divide by zero encountered in true_divide\n",
      "  score = (intra_dists[:, None] + intra_dists) / centroid_distances\n",
      "/Library/Frameworks/Python.framework/Versions/3.7/lib/python3.7/site-packages/sklearn/metrics/cluster/unsupervised.py:342: RuntimeWarning: divide by zero encountered in true_divide\n",
      "  score = (intra_dists[:, None] + intra_dists) / centroid_distances\n"
     ]
    },
    {
     "name": "stdout",
     "output_type": "stream",
     "text": [
      "---------------------------------------------------------------------------\n",
      "Performace for algo: KMeans, No. of clusters: 6, PCA with dimensions: 452\n",
      "Silhouette Coefficient:   0.0003195406845067943\n",
      "Davies-Bouldin Index:     8.413283636190979\n",
      "---------------------------------------------------------------------------\n",
      "Performace for algo: KMeans, No. of clusters: 7, PCA with dimensions: 452\n",
      "Silhouette Coefficient:   1.5344175764918158e-05\n",
      "Davies-Bouldin Index:     7.95652331289516\n",
      "---------------------------------------------------------------------------\n",
      "Performace for algo: Hierarchical, No. of clusters: 2, PCA with dimensions: 452\n",
      "Silhouette Coefficient:   0.0011359407185026237\n",
      "Davies-Bouldin Index:     14.875403796315998\n",
      "---------------------------------------------------------------------------\n",
      "Performace for algo: Hierarchical, No. of clusters: 3, PCA with dimensions: 452\n",
      "Silhouette Coefficient:   -5.214068070217316e-07\n",
      "Davies-Bouldin Index:     12.297001628945347\n",
      "---------------------------------------------------------------------------\n",
      "Performace for algo: Hierarchical, No. of clusters: 4, PCA with dimensions: 452\n",
      "Silhouette Coefficient:   -0.00019309863529319853\n",
      "Davies-Bouldin Index:     10.552938156595648\n"
     ]
    },
    {
     "name": "stderr",
     "output_type": "stream",
     "text": [
      "/Library/Frameworks/Python.framework/Versions/3.7/lib/python3.7/site-packages/sklearn/metrics/cluster/unsupervised.py:342: RuntimeWarning: divide by zero encountered in true_divide\n",
      "  score = (intra_dists[:, None] + intra_dists) / centroid_distances\n",
      "/Library/Frameworks/Python.framework/Versions/3.7/lib/python3.7/site-packages/sklearn/metrics/cluster/unsupervised.py:342: RuntimeWarning: divide by zero encountered in true_divide\n",
      "  score = (intra_dists[:, None] + intra_dists) / centroid_distances\n",
      "/Library/Frameworks/Python.framework/Versions/3.7/lib/python3.7/site-packages/sklearn/metrics/cluster/unsupervised.py:342: RuntimeWarning: divide by zero encountered in true_divide\n",
      "  score = (intra_dists[:, None] + intra_dists) / centroid_distances\n"
     ]
    },
    {
     "name": "stdout",
     "output_type": "stream",
     "text": [
      "---------------------------------------------------------------------------\n",
      "Performace for algo: Hierarchical, No. of clusters: 5, PCA with dimensions: 452\n",
      "Silhouette Coefficient:   -8.265709706422701e-05\n",
      "Davies-Bouldin Index:     9.403442099046638\n",
      "---------------------------------------------------------------------------\n",
      "Performace for algo: Hierarchical, No. of clusters: 6, PCA with dimensions: 452\n",
      "Silhouette Coefficient:   -0.000926138954667174\n",
      "Davies-Bouldin Index:     8.583086527968389\n",
      "---------------------------------------------------------------------------\n",
      "Performace for algo: Hierarchical, No. of clusters: 7, PCA with dimensions: 452\n",
      "Silhouette Coefficient:   -0.0009221089145324087\n",
      "Davies-Bouldin Index:     8.129393617948116\n"
     ]
    },
    {
     "name": "stderr",
     "output_type": "stream",
     "text": [
      "/Library/Frameworks/Python.framework/Versions/3.7/lib/python3.7/site-packages/sklearn/metrics/cluster/unsupervised.py:342: RuntimeWarning: divide by zero encountered in true_divide\n",
      "  score = (intra_dists[:, None] + intra_dists) / centroid_distances\n"
     ]
    },
    {
     "name": "stdout",
     "output_type": "stream",
     "text": [
      "---------------------------------------------------------------------------\n",
      "Performace for algo: Spectral, No. of clusters: 2, PCA with dimensions: 452\n",
      "Silhouette Coefficient:   -5.4571492609614554e-05\n",
      "Davies-Bouldin Index:     3.6655124812020663\n"
     ]
    },
    {
     "name": "stderr",
     "output_type": "stream",
     "text": [
      "/Library/Frameworks/Python.framework/Versions/3.7/lib/python3.7/site-packages/sklearn/metrics/cluster/unsupervised.py:342: RuntimeWarning: divide by zero encountered in true_divide\n",
      "  score = (intra_dists[:, None] + intra_dists) / centroid_distances\n"
     ]
    },
    {
     "name": "stdout",
     "output_type": "stream",
     "text": [
      "---------------------------------------------------------------------------\n",
      "Performace for algo: Spectral, No. of clusters: 3, PCA with dimensions: 452\n",
      "Silhouette Coefficient:   -0.0037889577760422235\n",
      "Davies-Bouldin Index:     6.197383884489942\n"
     ]
    },
    {
     "name": "stderr",
     "output_type": "stream",
     "text": [
      "/Library/Frameworks/Python.framework/Versions/3.7/lib/python3.7/site-packages/sklearn/metrics/cluster/unsupervised.py:342: RuntimeWarning: divide by zero encountered in true_divide\n",
      "  score = (intra_dists[:, None] + intra_dists) / centroid_distances\n"
     ]
    },
    {
     "name": "stdout",
     "output_type": "stream",
     "text": [
      "---------------------------------------------------------------------------\n",
      "Performace for algo: Spectral, No. of clusters: 4, PCA with dimensions: 452\n",
      "Silhouette Coefficient:   -0.005231469596142301\n",
      "Davies-Bouldin Index:     6.834806529001975\n"
     ]
    },
    {
     "name": "stderr",
     "output_type": "stream",
     "text": [
      "/Library/Frameworks/Python.framework/Versions/3.7/lib/python3.7/site-packages/sklearn/metrics/cluster/unsupervised.py:342: RuntimeWarning: divide by zero encountered in true_divide\n",
      "  score = (intra_dists[:, None] + intra_dists) / centroid_distances\n"
     ]
    },
    {
     "name": "stdout",
     "output_type": "stream",
     "text": [
      "---------------------------------------------------------------------------\n",
      "Performace for algo: Spectral, No. of clusters: 5, PCA with dimensions: 452\n",
      "Silhouette Coefficient:   -0.00515201551812583\n",
      "Davies-Bouldin Index:     6.725124048139337\n"
     ]
    },
    {
     "name": "stderr",
     "output_type": "stream",
     "text": [
      "/Library/Frameworks/Python.framework/Versions/3.7/lib/python3.7/site-packages/sklearn/metrics/cluster/unsupervised.py:342: RuntimeWarning: divide by zero encountered in true_divide\n",
      "  score = (intra_dists[:, None] + intra_dists) / centroid_distances\n"
     ]
    },
    {
     "name": "stdout",
     "output_type": "stream",
     "text": [
      "---------------------------------------------------------------------------\n",
      "Performace for algo: Spectral, No. of clusters: 6, PCA with dimensions: 452\n",
      "Silhouette Coefficient:   -0.005172194011840974\n",
      "Davies-Bouldin Index:     6.860875747785243\n"
     ]
    },
    {
     "name": "stderr",
     "output_type": "stream",
     "text": [
      "/Library/Frameworks/Python.framework/Versions/3.7/lib/python3.7/site-packages/sklearn/metrics/cluster/unsupervised.py:342: RuntimeWarning: divide by zero encountered in true_divide\n",
      "  score = (intra_dists[:, None] + intra_dists) / centroid_distances\n",
      "/Library/Frameworks/Python.framework/Versions/3.7/lib/python3.7/site-packages/sklearn/metrics/cluster/unsupervised.py:342: RuntimeWarning: divide by zero encountered in true_divide\n",
      "  score = (intra_dists[:, None] + intra_dists) / centroid_distances\n",
      "/Library/Frameworks/Python.framework/Versions/3.7/lib/python3.7/site-packages/sklearn/metrics/cluster/unsupervised.py:342: RuntimeWarning: divide by zero encountered in true_divide\n",
      "  score = (intra_dists[:, None] + intra_dists) / centroid_distances\n",
      "/Library/Frameworks/Python.framework/Versions/3.7/lib/python3.7/site-packages/sklearn/metrics/cluster/unsupervised.py:342: RuntimeWarning: divide by zero encountered in true_divide\n",
      "  score = (intra_dists[:, None] + intra_dists) / centroid_distances\n"
     ]
    },
    {
     "name": "stdout",
     "output_type": "stream",
     "text": [
      "---------------------------------------------------------------------------\n",
      "Performace for algo: Spectral, No. of clusters: 7, PCA with dimensions: 452\n",
      "Silhouette Coefficient:   -0.005423464791243554\n",
      "Davies-Bouldin Index:     6.451634164310541\n",
      "---------------------------------------------------------------------------\n",
      "Performace for algo: KMeans, No. of clusters: 2, PCA with dimensions: 100\n",
      "Silhouette Coefficient:   0.007238258716409795\n",
      "Davies-Bouldin Index:     9.524946705533457\n",
      "---------------------------------------------------------------------------\n",
      "Performace for algo: KMeans, No. of clusters: 3, PCA with dimensions: 100\n",
      "Silhouette Coefficient:   0.006202992754376614\n",
      "Davies-Bouldin Index:     8.328162107577525\n",
      "---------------------------------------------------------------------------\n",
      "Performace for algo: KMeans, No. of clusters: 4, PCA with dimensions: 100\n",
      "Silhouette Coefficient:   0.006551127560321792\n",
      "Davies-Bouldin Index:     7.68063455411928\n"
     ]
    },
    {
     "name": "stderr",
     "output_type": "stream",
     "text": [
      "/Library/Frameworks/Python.framework/Versions/3.7/lib/python3.7/site-packages/sklearn/metrics/cluster/unsupervised.py:342: RuntimeWarning: divide by zero encountered in true_divide\n",
      "  score = (intra_dists[:, None] + intra_dists) / centroid_distances\n",
      "/Library/Frameworks/Python.framework/Versions/3.7/lib/python3.7/site-packages/sklearn/metrics/cluster/unsupervised.py:342: RuntimeWarning: divide by zero encountered in true_divide\n",
      "  score = (intra_dists[:, None] + intra_dists) / centroid_distances\n",
      "/Library/Frameworks/Python.framework/Versions/3.7/lib/python3.7/site-packages/sklearn/metrics/cluster/unsupervised.py:342: RuntimeWarning: divide by zero encountered in true_divide\n",
      "  score = (intra_dists[:, None] + intra_dists) / centroid_distances\n",
      "/Library/Frameworks/Python.framework/Versions/3.7/lib/python3.7/site-packages/sklearn/metrics/cluster/unsupervised.py:342: RuntimeWarning: divide by zero encountered in true_divide\n",
      "  score = (intra_dists[:, None] + intra_dists) / centroid_distances\n",
      "/Library/Frameworks/Python.framework/Versions/3.7/lib/python3.7/site-packages/sklearn/metrics/cluster/unsupervised.py:342: RuntimeWarning: divide by zero encountered in true_divide\n",
      "  score = (intra_dists[:, None] + intra_dists) / centroid_distances\n",
      "/Library/Frameworks/Python.framework/Versions/3.7/lib/python3.7/site-packages/sklearn/metrics/cluster/unsupervised.py:342: RuntimeWarning: divide by zero encountered in true_divide\n",
      "  score = (intra_dists[:, None] + intra_dists) / centroid_distances\n",
      "/Library/Frameworks/Python.framework/Versions/3.7/lib/python3.7/site-packages/sklearn/metrics/cluster/unsupervised.py:342: RuntimeWarning: divide by zero encountered in true_divide\n",
      "  score = (intra_dists[:, None] + intra_dists) / centroid_distances\n",
      "/Library/Frameworks/Python.framework/Versions/3.7/lib/python3.7/site-packages/sklearn/metrics/cluster/unsupervised.py:342: RuntimeWarning: divide by zero encountered in true_divide\n",
      "  score = (intra_dists[:, None] + intra_dists) / centroid_distances\n",
      "/Library/Frameworks/Python.framework/Versions/3.7/lib/python3.7/site-packages/sklearn/metrics/cluster/unsupervised.py:342: RuntimeWarning: divide by zero encountered in true_divide\n",
      "  score = (intra_dists[:, None] + intra_dists) / centroid_distances\n"
     ]
    },
    {
     "name": "stdout",
     "output_type": "stream",
     "text": [
      "---------------------------------------------------------------------------\n",
      "Performace for algo: KMeans, No. of clusters: 5, PCA with dimensions: 100\n",
      "Silhouette Coefficient:   0.005358406120609569\n",
      "Davies-Bouldin Index:     7.143029951350114\n",
      "---------------------------------------------------------------------------\n",
      "Performace for algo: KMeans, No. of clusters: 6, PCA with dimensions: 100\n",
      "Silhouette Coefficient:   0.0046073578909546185\n",
      "Davies-Bouldin Index:     6.690617485077394\n",
      "---------------------------------------------------------------------------\n",
      "Performace for algo: KMeans, No. of clusters: 7, PCA with dimensions: 100\n",
      "Silhouette Coefficient:   0.003609084546902775\n",
      "Davies-Bouldin Index:     6.426712246964099\n",
      "---------------------------------------------------------------------------\n",
      "Performace for algo: Hierarchical, No. of clusters: 2, PCA with dimensions: 100\n",
      "Silhouette Coefficient:   0.0019154729216250702\n",
      "Davies-Bouldin Index:     10.799334801126133\n",
      "---------------------------------------------------------------------------\n",
      "Performace for algo: Hierarchical, No. of clusters: 3, PCA with dimensions: 100\n",
      "Silhouette Coefficient:   0.0010714950517819052\n",
      "Davies-Bouldin Index:     10.70868281730034\n",
      "---------------------------------------------------------------------------\n",
      "Performace for algo: Hierarchical, No. of clusters: 4, PCA with dimensions: 100\n",
      "Silhouette Coefficient:   0.0007647657508035824\n",
      "Davies-Bouldin Index:     9.323776864547176\n",
      "---------------------------------------------------------------------------\n",
      "Performace for algo: Hierarchical, No. of clusters: 5, PCA with dimensions: 100\n",
      "Silhouette Coefficient:   0.0004928435162102576\n",
      "Davies-Bouldin Index:     8.546592095958202\n",
      "---------------------------------------------------------------------------\n",
      "Performace for algo: Hierarchical, No. of clusters: 6, PCA with dimensions: 100\n",
      "Silhouette Coefficient:   -0.0007379543257496886\n",
      "Davies-Bouldin Index:     7.859505742470607\n",
      "---------------------------------------------------------------------------\n",
      "Performace for algo: Hierarchical, No. of clusters: 7, PCA with dimensions: 100\n",
      "Silhouette Coefficient:   -0.0006573584005387254\n",
      "Davies-Bouldin Index:     7.3565527203953005\n"
     ]
    },
    {
     "name": "stderr",
     "output_type": "stream",
     "text": [
      "/Library/Frameworks/Python.framework/Versions/3.7/lib/python3.7/site-packages/sklearn/metrics/cluster/unsupervised.py:342: RuntimeWarning: divide by zero encountered in true_divide\n",
      "  score = (intra_dists[:, None] + intra_dists) / centroid_distances\n"
     ]
    },
    {
     "name": "stdout",
     "output_type": "stream",
     "text": [
      "---------------------------------------------------------------------------\n",
      "Performace for algo: Spectral, No. of clusters: 2, PCA with dimensions: 100\n",
      "Silhouette Coefficient:   0.0034596237845109265\n",
      "Davies-Bouldin Index:     9.071290902252038\n"
     ]
    },
    {
     "name": "stderr",
     "output_type": "stream",
     "text": [
      "/Library/Frameworks/Python.framework/Versions/3.7/lib/python3.7/site-packages/sklearn/metrics/cluster/unsupervised.py:342: RuntimeWarning: divide by zero encountered in true_divide\n",
      "  score = (intra_dists[:, None] + intra_dists) / centroid_distances\n"
     ]
    },
    {
     "name": "stdout",
     "output_type": "stream",
     "text": [
      "---------------------------------------------------------------------------\n",
      "Performace for algo: Spectral, No. of clusters: 3, PCA with dimensions: 100\n",
      "Silhouette Coefficient:   0.0035281484661763883\n",
      "Davies-Bouldin Index:     8.788009703196574\n"
     ]
    },
    {
     "name": "stderr",
     "output_type": "stream",
     "text": [
      "/Library/Frameworks/Python.framework/Versions/3.7/lib/python3.7/site-packages/sklearn/metrics/cluster/unsupervised.py:342: RuntimeWarning: divide by zero encountered in true_divide\n",
      "  score = (intra_dists[:, None] + intra_dists) / centroid_distances\n"
     ]
    },
    {
     "name": "stdout",
     "output_type": "stream",
     "text": [
      "---------------------------------------------------------------------------\n",
      "Performace for algo: Spectral, No. of clusters: 4, PCA with dimensions: 100\n",
      "Silhouette Coefficient:   -0.0027243203764879993\n",
      "Davies-Bouldin Index:     6.820950053104359\n"
     ]
    },
    {
     "name": "stderr",
     "output_type": "stream",
     "text": [
      "/Library/Frameworks/Python.framework/Versions/3.7/lib/python3.7/site-packages/sklearn/metrics/cluster/unsupervised.py:342: RuntimeWarning: divide by zero encountered in true_divide\n",
      "  score = (intra_dists[:, None] + intra_dists) / centroid_distances\n"
     ]
    },
    {
     "name": "stdout",
     "output_type": "stream",
     "text": [
      "---------------------------------------------------------------------------\n",
      "Performace for algo: Spectral, No. of clusters: 5, PCA with dimensions: 100\n",
      "Silhouette Coefficient:   -0.013372309109885627\n",
      "Davies-Bouldin Index:     5.770743744438261\n"
     ]
    },
    {
     "name": "stderr",
     "output_type": "stream",
     "text": [
      "/Library/Frameworks/Python.framework/Versions/3.7/lib/python3.7/site-packages/sklearn/metrics/cluster/unsupervised.py:342: RuntimeWarning: divide by zero encountered in true_divide\n",
      "  score = (intra_dists[:, None] + intra_dists) / centroid_distances\n",
      "/Library/Frameworks/Python.framework/Versions/3.7/lib/python3.7/site-packages/sklearn/metrics/cluster/unsupervised.py:342: RuntimeWarning: divide by zero encountered in true_divide\n",
      "  score = (intra_dists[:, None] + intra_dists) / centroid_distances\n"
     ]
    },
    {
     "name": "stdout",
     "output_type": "stream",
     "text": [
      "---------------------------------------------------------------------------\n",
      "Performace for algo: Spectral, No. of clusters: 6, PCA with dimensions: 100\n",
      "Silhouette Coefficient:   -0.013882252658496574\n",
      "Davies-Bouldin Index:     5.424592675832194\n",
      "---------------------------------------------------------------------------\n",
      "Performace for algo: Spectral, No. of clusters: 7, PCA with dimensions: 100\n",
      "Silhouette Coefficient:   -0.013985724615269722\n",
      "Davies-Bouldin Index:     5.526262062265785\n"
     ]
    },
    {
     "name": "stderr",
     "output_type": "stream",
     "text": [
      "/Library/Frameworks/Python.framework/Versions/3.7/lib/python3.7/site-packages/sklearn/metrics/cluster/unsupervised.py:342: RuntimeWarning: divide by zero encountered in true_divide\n",
      "  score = (intra_dists[:, None] + intra_dists) / centroid_distances\n",
      "/Library/Frameworks/Python.framework/Versions/3.7/lib/python3.7/site-packages/sklearn/metrics/cluster/unsupervised.py:342: RuntimeWarning: divide by zero encountered in true_divide\n",
      "  score = (intra_dists[:, None] + intra_dists) / centroid_distances\n",
      "/Library/Frameworks/Python.framework/Versions/3.7/lib/python3.7/site-packages/sklearn/metrics/cluster/unsupervised.py:342: RuntimeWarning: divide by zero encountered in true_divide\n",
      "  score = (intra_dists[:, None] + intra_dists) / centroid_distances\n",
      "/Library/Frameworks/Python.framework/Versions/3.7/lib/python3.7/site-packages/sklearn/metrics/cluster/unsupervised.py:342: RuntimeWarning: divide by zero encountered in true_divide\n",
      "  score = (intra_dists[:, None] + intra_dists) / centroid_distances\n",
      "/Library/Frameworks/Python.framework/Versions/3.7/lib/python3.7/site-packages/sklearn/metrics/cluster/unsupervised.py:342: RuntimeWarning: divide by zero encountered in true_divide\n",
      "  score = (intra_dists[:, None] + intra_dists) / centroid_distances\n"
     ]
    },
    {
     "name": "stdout",
     "output_type": "stream",
     "text": [
      "---------------------------------------------------------------------------\n",
      "Performace for algo: KMeans, No. of clusters: 2, PCA with dimensions: 200\n",
      "Silhouette Coefficient:   0.004019666363877025\n",
      "Davies-Bouldin Index:     11.415445855706707\n",
      "---------------------------------------------------------------------------\n",
      "Performace for algo: KMeans, No. of clusters: 3, PCA with dimensions: 200\n",
      "Silhouette Coefficient:   0.002944117143649196\n",
      "Davies-Bouldin Index:     10.206838318955128\n",
      "---------------------------------------------------------------------------\n",
      "Performace for algo: KMeans, No. of clusters: 4, PCA with dimensions: 200\n",
      "Silhouette Coefficient:   0.0022039566265071916\n",
      "Davies-Bouldin Index:     9.457347513706305\n",
      "---------------------------------------------------------------------------\n",
      "Performace for algo: KMeans, No. of clusters: 5, PCA with dimensions: 200\n",
      "Silhouette Coefficient:   0.001250412846845506\n",
      "Davies-Bouldin Index:     8.686813425790026\n",
      "---------------------------------------------------------------------------\n",
      "Performace for algo: KMeans, No. of clusters: 6, PCA with dimensions: 200\n",
      "Silhouette Coefficient:   0.0010602400784074115\n",
      "Davies-Bouldin Index:     8.235440905464161\n"
     ]
    },
    {
     "name": "stderr",
     "output_type": "stream",
     "text": [
      "/Library/Frameworks/Python.framework/Versions/3.7/lib/python3.7/site-packages/sklearn/metrics/cluster/unsupervised.py:342: RuntimeWarning: divide by zero encountered in true_divide\n",
      "  score = (intra_dists[:, None] + intra_dists) / centroid_distances\n",
      "/Library/Frameworks/Python.framework/Versions/3.7/lib/python3.7/site-packages/sklearn/metrics/cluster/unsupervised.py:342: RuntimeWarning: divide by zero encountered in true_divide\n",
      "  score = (intra_dists[:, None] + intra_dists) / centroid_distances\n",
      "/Library/Frameworks/Python.framework/Versions/3.7/lib/python3.7/site-packages/sklearn/metrics/cluster/unsupervised.py:342: RuntimeWarning: divide by zero encountered in true_divide\n",
      "  score = (intra_dists[:, None] + intra_dists) / centroid_distances\n",
      "/Library/Frameworks/Python.framework/Versions/3.7/lib/python3.7/site-packages/sklearn/metrics/cluster/unsupervised.py:342: RuntimeWarning: divide by zero encountered in true_divide\n",
      "  score = (intra_dists[:, None] + intra_dists) / centroid_distances\n",
      "/Library/Frameworks/Python.framework/Versions/3.7/lib/python3.7/site-packages/sklearn/metrics/cluster/unsupervised.py:342: RuntimeWarning: divide by zero encountered in true_divide\n",
      "  score = (intra_dists[:, None] + intra_dists) / centroid_distances\n",
      "/Library/Frameworks/Python.framework/Versions/3.7/lib/python3.7/site-packages/sklearn/metrics/cluster/unsupervised.py:342: RuntimeWarning: divide by zero encountered in true_divide\n",
      "  score = (intra_dists[:, None] + intra_dists) / centroid_distances\n",
      "/Library/Frameworks/Python.framework/Versions/3.7/lib/python3.7/site-packages/sklearn/metrics/cluster/unsupervised.py:342: RuntimeWarning: divide by zero encountered in true_divide\n",
      "  score = (intra_dists[:, None] + intra_dists) / centroid_distances\n"
     ]
    },
    {
     "name": "stdout",
     "output_type": "stream",
     "text": [
      "---------------------------------------------------------------------------\n",
      "Performace for algo: KMeans, No. of clusters: 7, PCA with dimensions: 200\n",
      "Silhouette Coefficient:   -0.0004294777600699585\n",
      "Davies-Bouldin Index:     7.747813744621693\n",
      "---------------------------------------------------------------------------\n",
      "Performace for algo: Hierarchical, No. of clusters: 2, PCA with dimensions: 200\n",
      "Silhouette Coefficient:   0.0012650139182594133\n",
      "Davies-Bouldin Index:     14.826161349214734\n",
      "---------------------------------------------------------------------------\n",
      "Performace for algo: Hierarchical, No. of clusters: 3, PCA with dimensions: 200\n",
      "Silhouette Coefficient:   0.00015983037535191927\n",
      "Davies-Bouldin Index:     12.355605029010135\n",
      "---------------------------------------------------------------------------\n",
      "Performace for algo: Hierarchical, No. of clusters: 4, PCA with dimensions: 200\n",
      "Silhouette Coefficient:   0.000169701046540236\n",
      "Davies-Bouldin Index:     10.509473045285636\n",
      "---------------------------------------------------------------------------\n",
      "Performace for algo: Hierarchical, No. of clusters: 5, PCA with dimensions: 200\n",
      "Silhouette Coefficient:   -0.0004131272481049451\n",
      "Davies-Bouldin Index:     9.363597823597376\n",
      "---------------------------------------------------------------------------\n",
      "Performace for algo: Hierarchical, No. of clusters: 6, PCA with dimensions: 200\n",
      "Silhouette Coefficient:   -0.0011214489744729435\n",
      "Davies-Bouldin Index:     8.77977970019684\n",
      "---------------------------------------------------------------------------\n",
      "Performace for algo: Hierarchical, No. of clusters: 7, PCA with dimensions: 200\n",
      "Silhouette Coefficient:   -0.0012429610975023216\n",
      "Davies-Bouldin Index:     8.145934249971203\n"
     ]
    },
    {
     "name": "stderr",
     "output_type": "stream",
     "text": [
      "/Library/Frameworks/Python.framework/Versions/3.7/lib/python3.7/site-packages/sklearn/metrics/cluster/unsupervised.py:342: RuntimeWarning: divide by zero encountered in true_divide\n",
      "  score = (intra_dists[:, None] + intra_dists) / centroid_distances\n"
     ]
    },
    {
     "name": "stdout",
     "output_type": "stream",
     "text": [
      "---------------------------------------------------------------------------\n",
      "Performace for algo: Spectral, No. of clusters: 2, PCA with dimensions: 200\n",
      "Silhouette Coefficient:   0.0015082607460017174\n",
      "Davies-Bouldin Index:     4.702340181189367\n"
     ]
    },
    {
     "name": "stderr",
     "output_type": "stream",
     "text": [
      "/Library/Frameworks/Python.framework/Versions/3.7/lib/python3.7/site-packages/sklearn/metrics/cluster/unsupervised.py:342: RuntimeWarning: divide by zero encountered in true_divide\n",
      "  score = (intra_dists[:, None] + intra_dists) / centroid_distances\n"
     ]
    },
    {
     "name": "stdout",
     "output_type": "stream",
     "text": [
      "---------------------------------------------------------------------------\n",
      "Performace for algo: Spectral, No. of clusters: 3, PCA with dimensions: 200\n",
      "Silhouette Coefficient:   -0.004439084450156521\n",
      "Davies-Bouldin Index:     5.202118302863046\n"
     ]
    },
    {
     "name": "stderr",
     "output_type": "stream",
     "text": [
      "/Library/Frameworks/Python.framework/Versions/3.7/lib/python3.7/site-packages/sklearn/metrics/cluster/unsupervised.py:342: RuntimeWarning: divide by zero encountered in true_divide\n",
      "  score = (intra_dists[:, None] + intra_dists) / centroid_distances\n"
     ]
    },
    {
     "name": "stdout",
     "output_type": "stream",
     "text": [
      "---------------------------------------------------------------------------\n",
      "Performace for algo: Spectral, No. of clusters: 4, PCA with dimensions: 200\n",
      "Silhouette Coefficient:   -0.009968115848803312\n",
      "Davies-Bouldin Index:     4.586739708831622\n"
     ]
    },
    {
     "name": "stderr",
     "output_type": "stream",
     "text": [
      "/Library/Frameworks/Python.framework/Versions/3.7/lib/python3.7/site-packages/sklearn/metrics/cluster/unsupervised.py:342: RuntimeWarning: divide by zero encountered in true_divide\n",
      "  score = (intra_dists[:, None] + intra_dists) / centroid_distances\n"
     ]
    },
    {
     "name": "stdout",
     "output_type": "stream",
     "text": [
      "---------------------------------------------------------------------------\n",
      "Performace for algo: Spectral, No. of clusters: 5, PCA with dimensions: 200\n",
      "Silhouette Coefficient:   -0.009673168284807692\n",
      "Davies-Bouldin Index:     5.530931743709589\n"
     ]
    },
    {
     "name": "stderr",
     "output_type": "stream",
     "text": [
      "/Library/Frameworks/Python.framework/Versions/3.7/lib/python3.7/site-packages/sklearn/metrics/cluster/unsupervised.py:342: RuntimeWarning: divide by zero encountered in true_divide\n",
      "  score = (intra_dists[:, None] + intra_dists) / centroid_distances\n"
     ]
    },
    {
     "name": "stdout",
     "output_type": "stream",
     "text": [
      "---------------------------------------------------------------------------\n",
      "Performace for algo: Spectral, No. of clusters: 6, PCA with dimensions: 200\n",
      "Silhouette Coefficient:   -0.009927515957510817\n",
      "Davies-Bouldin Index:     5.465676326855244\n",
      "---------------------------------------------------------------------------\n",
      "Performace for algo: Spectral, No. of clusters: 7, PCA with dimensions: 200\n",
      "Silhouette Coefficient:   -0.014514553468441764\n",
      "Davies-Bouldin Index:     4.91812124050763\n",
      "=========================== BEST RESULT ============================\n",
      "Silhouette Coefficient:   -5.4571492609614554e-05\n",
      "Calinski-Harabasz Index:  0\n",
      "Davies-Bouldin Index:     3.6655124812020663\n",
      "============================ BEST MODEL =============================\n",
      "Algorithm:            Spectral\n",
      "No. of clusters:      2\n",
      "Dimension Reduction:  452\n"
     ]
    },
    {
     "name": "stderr",
     "output_type": "stream",
     "text": [
      "/Library/Frameworks/Python.framework/Versions/3.7/lib/python3.7/site-packages/sklearn/metrics/cluster/unsupervised.py:342: RuntimeWarning: divide by zero encountered in true_divide\n",
      "  score = (intra_dists[:, None] + intra_dists) / centroid_distances\n"
     ]
    }
   ],
   "source": [
    "Matrix_Data = pd.read_csv(Matrix_FilePath, sep=',')\n",
    "Matrix = Matrix_Data[Col_List] \n",
    "\n",
    "Best_Model = Clustering_Comparison(Matrix, Clustering_AlgoList, No_Clusters_List, PCA_List)"
   ]
  },
  {
   "cell_type": "code",
   "execution_count": 8,
   "metadata": {},
   "outputs": [
    {
     "name": "stderr",
     "output_type": "stream",
     "text": [
      "/Library/Frameworks/Python.framework/Versions/3.7/lib/python3.7/site-packages/sklearn/metrics/cluster/unsupervised.py:342: RuntimeWarning: divide by zero encountered in true_divide\n",
      "  score = (intra_dists[:, None] + intra_dists) / centroid_distances\n"
     ]
    }
   ],
   "source": [
    "if Best_Model[2] != Matrix.shape[1]:\n",
    "    Reduced_Matrix = PCA_Transform(Matrix, Best_Model[2])\n",
    "else:\n",
    "    Reduced_Matrix = Matrix\n",
    "    \n",
    "Labels, Evaluation_Metrics = Perform_Clustering(Reduced_Matrix, Best_Model[0], Best_Model[1])\n"
   ]
  },
  {
   "cell_type": "code",
   "execution_count": 9,
   "metadata": {},
   "outputs": [
    {
     "name": "stdout",
     "output_type": "stream",
     "text": [
      "{0: [94800, 30004, 58902, 7923, 5462, 62558, 575, 86705, 28232, 94022, 79076, 37898, 41785, 21584, 69923, 7943, 65983, 6154, 21920, 34788, 1244, 32991, 89193, 95963, 94296, 3740, 12963, 74771, 39927, 54199, 56694, 1158, 55680, 38069, 77632, 35021, 51357, 30496, 46682, 34990, 7908, 54231, 54926, 18854, 83365, 50314, 51201, 47287, 13987, 47162, 65657, 19099, 79057, 17654, 28171, 95972, 10786, 59921, 48186, 60724, 92979, 55558, 45398, 68662, 11576, 92147, 1423, 54500, 14200, 95048, 95157, 90697, 85260, 11615, 53765, 13648, 1477, 84937, 89580, 53802, 56688, 23788, 90263, 72459, 75335, 28974, 9037, 41877, 53849, 95047, 20655, 77904, 23711, 86408, 7235, 62491, 14546, 35646, 75204, 66950, 89192, 82768, 45652, 32804, 33436, 98675, 76784, 83409, 20695, 64743, 66385, 22546, 94660, 61388, 67759, 54956, 19988, 9202, 35771, 49549, 33759, 86479, 37154, 91730, 23083, 28402, 37307, 54402, 12165, 66722, 40880, 69272, 7319, 35501, 97486, 20012, 21188, 44050, 39427, 54588, 34485, 82549, 33566, 60862, 61042, 43719, 34508, 42480, 63373, 53797, 60565, 11659, 97863, 29399, 2926, 6073, 82244, 74292, 16361, 42811, 47203, 86081, 36783, 94452, 67117, 69717, 78588, 28156, 30782, 5448, 32459, 29319, 1310, 12077, 60932, 27883, 16831, 39756, 93427, 62911, 34144, 53925, 94138, 93628, 12951, 19345, 8634, 41155, 45941, 91223, 43364, 87976, 2748, 49728, 79576, 51427, 65428, 28008, 87288, 21952, 53757, 88984, 75633, 43534, 6885, 23055, 63892, 21024, 90133, 3296, 82591, 28552, 25466, 90753, 62926, 30755, 9574, 25316, 19452, 61099, 9172, 61181, 86068, 70162, 6930, 78324, 34748, 55749, 19618, 52644, 87842, 8711, 6260, 282, 38, 14415, 34759, 21319, 35233, 29287, 35808, 58791, 53155, 4658, 1137, 65005, 76171, 3291, 32754, 21137, 68490, 41280, 31771, 34722, 25603, 22450, 17278, 50294, 63860, 30212, 740, 12002, 94443, 68594, 67436, 51768, 66698, 35001, 92489, 70122, 73292, 23778, 42013, 61218, 87531, 88255, 41285, 60160, 22086, 4938, 73730, 2387, 45821, 64998, 48460, 63086, 90606, 46720, 40716, 74920, 23689, 12058, 65012, 53464, 41007], 1: [56886, 96763, 74556, 28225, 25402]}\n"
     ]
    }
   ],
   "source": [
    "UserIDList = list(Matrix_Data['CustomerID'])\n",
    "Store_Clusters(UserIDList, Labels, \"./\")"
   ]
  },
  {
   "cell_type": "code",
   "execution_count": null,
   "metadata": {},
   "outputs": [],
   "source": []
  }
 ],
 "metadata": {
  "kernelspec": {
   "display_name": "Python 3",
   "language": "python",
   "name": "python3"
  },
  "language_info": {
   "codemirror_mode": {
    "name": "ipython",
    "version": 3
   },
   "file_extension": ".py",
   "mimetype": "text/x-python",
   "name": "python",
   "nbconvert_exporter": "python",
   "pygments_lexer": "ipython3",
   "version": "3.7.0"
  }
 },
 "nbformat": 4,
 "nbformat_minor": 2
}
