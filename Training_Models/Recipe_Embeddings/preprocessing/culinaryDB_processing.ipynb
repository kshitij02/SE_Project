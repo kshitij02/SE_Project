{
 "cells": [
  {
   "cell_type": "code",
   "execution_count": 106,
   "metadata": {},
   "outputs": [],
   "source": [
    "import numpy as np\n",
    "import pandas as pd\n",
    "import pickle"
   ]
  },
  {
   "cell_type": "code",
   "execution_count": 6,
   "metadata": {},
   "outputs": [],
   "source": [
    "def fetchIngredients():\n",
    "    recipeIngredients = pd.read_csv('./CulinaryDB/04_Recipe-Ingredients_Aliases.csv')\n",
    "    recipeIngredients[\"Entity ID\"] = recipeIngredients[\"Entity ID\"].astype(str)\n",
    "#     names = recipeIngredients.groupby(\"Recipe ID\").apply(lambda order: order['Original Ingredient Name'].tolist())\n",
    "    aliased_names = recipeIngredients.groupby(\"Recipe ID\").apply(lambda order: order['Aliased Ingredient Name'].tolist())\n",
    "#     entity_ids = recipeIngredients.groupby(\"Recipe ID\").apply(lambda order: order['Entity ID'].tolist())\n",
    "    simpleIngredients = pd.read_csv('./CulinaryDB/02_Ingredients.csv')\n",
    "    compoundIngredients = pd.read_csv('./CulinaryDB/03_Compound_Ingredients.csv')\n",
    "    vocabulary = list()\n",
    "    vocabulary.extend(list(simpleIngredients['Aliased Ingredient Name']))\n",
    "    x = list(simpleIngredients['Ingredient Synonyms'])\n",
    "    temp = []\n",
    "    for i in x:\n",
    "        z = i.split(\";\")\n",
    "        z = [sub.strip() for sub in z]\n",
    "        temp.extend(z)\n",
    "    vocabulary.extend(temp)\n",
    "    vocabulary.extend(list(compoundIngredients['Compound Ingredient Name']))\n",
    "    y = list(compoundIngredients['Compound Ingredient Synonyms'])\n",
    "    temp2 = []\n",
    "    for i in y:\n",
    "        z = i.split(\";\")\n",
    "        z = [sub.strip() for sub in z]\n",
    "        temp2.extend(z)\n",
    "    vocabulary.extend(temp2)\n",
    "    vocabulary = [sub.replace('=', ' ') for sub in vocabulary]\n",
    "    vocabulary = [sub.replace('-', ' ') for sub in vocabulary]\n",
    "    vocabulary = [sub.replace('#', '') for sub in vocabulary]\n",
    "    \n",
    "    \n",
    "    recipes = dict()\n",
    "    count = 1\n",
    "    for i in aliased_names:\n",
    "        temp = []\n",
    "        for ingredient in i:\n",
    "            ingredient = ingredient.strip()\n",
    "            for j in vocabulary:\n",
    "                if(ingredient in j):\n",
    "                    temp.append(ingredient)\n",
    "                    break\n",
    "        temp = list(dict.fromkeys(temp))\n",
    "        recipes[count] = temp\n",
    "        count += 1\n",
    "    return vocabulary,recipes"
   ]
  },
  {
   "cell_type": "code",
   "execution_count": 16,
   "metadata": {},
   "outputs": [],
   "source": [
    "vocabulary,recipes = fetchIngredients()"
   ]
  },
  {
   "cell_type": "code",
   "execution_count": 17,
   "metadata": {},
   "outputs": [],
   "source": [
    "with open('culinaryDB_vocabulary.pkl', 'wb') as f:\n",
    "    pickle.dump(vocabulary, f)\n",
    "with open('culinaryDB_recipes.pkl', 'wb') as f:\n",
    "    pickle.dump(recipes, f)"
   ]
  },
  {
   "cell_type": "markdown",
   "metadata": {},
   "source": [
    "#### reducing culinaryDB"
   ]
  },
  {
   "cell_type": "code",
   "execution_count": 88,
   "metadata": {},
   "outputs": [],
   "source": [
    "def reduce_vocabulary(vocabulary):\n",
    "    vocabulary_count = dict()\n",
    "    for i in vocabulary:\n",
    "        count = 0\n",
    "        for j in recipes:\n",
    "            if i in recipes[j]:\n",
    "                count += 1\n",
    "        vocabulary_count[i] = count\n",
    "    reverse_count = sorted(vocabulary_count.items(), key=lambda item: item[1], reverse = True)\n",
    "    reverse_vocabulary_count = dict()\n",
    "    for i in reverse_count:\n",
    "        if(i[1]>2):\n",
    "            reverse_vocabulary_count[i[0]] = i[1]\n",
    "    return list(reverse_vocabulary_count.keys())"
   ]
  },
  {
   "cell_type": "code",
   "execution_count": 91,
   "metadata": {},
   "outputs": [],
   "source": [
    "new_vocabulary = reduce_vocabulary(vocabulary)\n",
    "with open('culinaryDB_new_vocabulary.pkl', 'wb') as f:\n",
    "    pickle.dump(new_vocabulary,f)"
   ]
  },
  {
   "cell_type": "code",
   "execution_count": 107,
   "metadata": {},
   "outputs": [],
   "source": [
    "with open('culinaryDB_new_recipes.pkl','rb') as f:\n",
    "    recipe_ids = pickle.load(f)"
   ]
  },
  {
   "cell_type": "code",
   "execution_count": 126,
   "metadata": {},
   "outputs": [],
   "source": [
    "def get_names_cuisines(recipe_ids)\n",
    "    data = pd.read_csv('./CulinaryDB/01_Recipe_Details.csv')\n",
    "    rows = []\n",
    "    for i in recipe_ids.keys():\n",
    "        rows.append(data.loc[i-1])\n",
    "    recipe_names= dict()\n",
    "    recipe_cuisines = dict()\n",
    "    for row in rows:\n",
    "        vals = list(row.values)\n",
    "        recipe_names[vals[0]] = vals[1]\n",
    "        recipe_cuisines[vals[0]] = vals[3]\n",
    "    with open('culinaryDB_new_names.pkl','wb') as f:\n",
    "        pickle.dump(recipe_names,f)\n",
    "    with open('culinaryDB_new_cuisines.pkl','wb') as f:\n",
    "        pickle.dump(recipe_cuisines,f)"
   ]
  }
 ],
 "metadata": {
  "kernelspec": {
   "display_name": "Python 3",
   "language": "python",
   "name": "python3"
  },
  "language_info": {
   "codemirror_mode": {
    "name": "ipython",
    "version": 3
   },
   "file_extension": ".py",
   "mimetype": "text/x-python",
   "name": "python",
   "nbconvert_exporter": "python",
   "pygments_lexer": "ipython3",
   "version": "3.7.4"
  }
 },
 "nbformat": 4,
 "nbformat_minor": 2
}
