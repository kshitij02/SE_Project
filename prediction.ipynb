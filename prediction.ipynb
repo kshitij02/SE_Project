{
 "cells": [
  {
   "cell_type": "code",
   "execution_count": 72,
   "metadata": {},
   "outputs": [
    {
     "name": "stderr",
     "output_type": "stream",
     "text": [
      "[nltk_data] Downloading package punkt to\n",
      "[nltk_data]     /Users/kratikakothari/nltk_data...\n",
      "[nltk_data]   Package punkt is already up-to-date!\n",
      "[nltk_data] Downloading package wordnet to\n",
      "[nltk_data]     /Users/kratikakothari/nltk_data...\n",
      "[nltk_data]   Package wordnet is already up-to-date!\n"
     ]
    }
   ],
   "source": [
    "import pandas as pd\n",
    "import numpy as np\n",
    "import json\n",
    "import pickle\n",
    "import gensim\n",
    "from gensim.models import Word2Vec\n",
    "from gensim.models.keyedvectors import KeyedVectors\n",
    "import nltk\n",
    "nltk.download('punkt')\n",
    "nltk.download('wordnet')\n",
    "from nltk.corpus import stopwords, wordnet\n",
    "from nltk.stem import WordNetLemmatizer\n",
    "from nltk.tokenize import word_tokenize\n",
    "import csv\n",
    "from sklearn.metrics.pairwise import cosine_similarity\n",
    "import pickle\n",
    "import math"
   ]
  },
  {
   "cell_type": "code",
   "execution_count": 113,
   "metadata": {},
   "outputs": [],
   "source": [
    "model = Word2Vec.load('word2vec_cl_new_ng7.model')"
   ]
  },
  {
   "cell_type": "code",
   "execution_count": 114,
   "metadata": {},
   "outputs": [],
   "source": [
    "model.init_sims(replace=True)"
   ]
  },
  {
   "cell_type": "code",
   "execution_count": 115,
   "metadata": {},
   "outputs": [],
   "source": [
    "with open('culinaryDB_new_recipes.pkl', 'rb') as f:\n",
    "    id_ingredients = pickle.load(f)\n",
    "with open('culinaryDB_new_vectors.pkl', 'rb') as f:\n",
    "    id_vector = pickle.load(f)\n",
    "with open('culinaryDB_new_names.pkl', 'rb') as f:\n",
    "    id_names = pickle.load(f)"
   ]
  },
  {
   "cell_type": "code",
   "execution_count": 120,
   "metadata": {},
   "outputs": [],
   "source": [
    "def findSimilarIngredients(current_ingredient,number_of_items=10):\n",
    "     \n",
    "    current_vector = model.wv.get_vector(current_ingredient)\n",
    "#     current_vector = _l2_norm(current_vector,replace=False)\n",
    "    vectors = []\n",
    "    vectors = model.wv.vectors\n",
    "#     vectors=_l2_norm(model.wv.vectors,replace=False)\n",
    "    distances = np.dot(vectors,current_vector)\n",
    "    sorted_distances = gensim.matutils.argsort(distances, topn=number_of_items+1, reverse=True)\n",
    "    smallest_distances = sorted_distances[:number_of_items+1]\n",
    "    similar_ingredients = []\n",
    "    for i in smallest_distances:\n",
    "        if i != model.wv.vocab[current_ingredient].index:\n",
    "            similar_ingredients.append(model.wv.index2word[i])\n",
    "    return similar_ingredients"
   ]
  },
  {
   "cell_type": "code",
   "execution_count": 121,
   "metadata": {},
   "outputs": [],
   "source": [
    "def findComplimentaryIngredients(current_ingredient, number_of_items=10, useNorm=False):\n",
    "    \n",
    "    current_vector = model.wv.get_vector(current_ingredient)\n",
    "    vectors = []\n",
    "    vectors=model.trainables.syn1neg\n",
    "    distances = np.dot(vectors,current_vector)\n",
    "    sorted_distances = gensim.matutils.argsort(distances, topn=number_of_items+1, reverse=True)\n",
    "    smallest_distances = sorted_distances[:number_of_items+1]\n",
    "    similar_ingredients = []\n",
    "    for i in smallest_distances:\n",
    "        if i != model.wv.vocab[current_ingredient].index:\n",
    "            similar_ingredients.append(model.wv.index2word[i])\n",
    "    return similar_ingredients    "
   ]
  },
  {
   "cell_type": "code",
   "execution_count": 122,
   "metadata": {},
   "outputs": [],
   "source": [
    "def suggest_recipe(current_ingredients,id_vector,id_ingredients,id_names):\n",
    "    n = len(current_ingredients)\n",
    "    current_sum = np.zeros(100)\n",
    "    for ingredient in current_ingredients:\n",
    "        vector = model.wv[ingredient]\n",
    "        current_sum = np.add(current_sum,vector)\n",
    "    current_sum = current_sum/n\n",
    "    current_sum = current_sum.reshape(1,-1)\n",
    "    id_cos = []\n",
    "    for recipe_id in id_vector:\n",
    "        vector = id_vector[recipe_id]\n",
    "        flag = 0\n",
    "        for v in vector:\n",
    "            if math.isnan(v):\n",
    "                flag = 1\n",
    "                break\n",
    "        if flag == 1:\n",
    "            continue\n",
    "        x = cosine_similarity(current_sum,vector.reshape(1,-1))\n",
    "        id_cos.append((x,recipe_id))\n",
    "    id_cos = sorted(id_cos,reverse=True)\n",
    "    count = 0\n",
    "    for i in id_cos:\n",
    "        print(id_names[i[1]])\n",
    "        print(id_ingredients[i[1]])\n",
    "        count += 1\n",
    "        if(count>5):\n",
    "            break"
   ]
  }
 ],
 "metadata": {
  "kernelspec": {
   "display_name": "Python 3",
   "language": "python",
   "name": "python3"
  },
  "language_info": {
   "codemirror_mode": {
    "name": "ipython",
    "version": 3
   },
   "file_extension": ".py",
   "mimetype": "text/x-python",
   "name": "python",
   "nbconvert_exporter": "python",
   "pygments_lexer": "ipython3",
   "version": "3.7.4"
  }
 },
 "nbformat": 4,
 "nbformat_minor": 2
}
