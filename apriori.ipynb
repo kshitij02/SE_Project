{
  "nbformat": 4,
  "nbformat_minor": 0,
  "metadata": {
    "colab": {
      "name": "apriori.ipynb",
      "provenance": []
    },
    "kernelspec": {
      "name": "python3",
      "display_name": "Python 3"
    }
  },
  "cells": [
    {
      "cell_type": "code",
      "metadata": {
        "id": "pFTYBuWrWLzQ",
        "colab_type": "code",
        "colab": {}
      },
      "source": [
        "import numpy as np\n",
        "import matplotlib.pyplot as plt\n",
        "import pandas as pd\n",
        "from apyori import apriori"
      ],
      "execution_count": 0,
      "outputs": []
    },
    {
      "cell_type": "code",
      "metadata": {
        "id": "Kc-wCdrJWWWe",
        "colab_type": "code",
        "outputId": "fb02df6d-ca39-4d3a-e8e8-43ae5bf92a18",
        "colab": {
          "base_uri": "https://localhost:8080/",
          "height": 173
        }
      },
      "source": [
        "pip install apyori"
      ],
      "execution_count": 0,
      "outputs": [
        {
          "output_type": "stream",
          "text": [
            "Collecting apyori\n",
            "  Downloading https://files.pythonhosted.org/packages/5e/62/5ffde5c473ea4b033490617ec5caa80d59804875ad3c3c57c0976533a21a/apyori-1.1.2.tar.gz\n",
            "Building wheels for collected packages: apyori\n",
            "  Building wheel for apyori (setup.py) ... \u001b[?25l\u001b[?25hdone\n",
            "  Created wheel for apyori: filename=apyori-1.1.2-cp36-none-any.whl size=5975 sha256=c394d440264a70912c6efc0d7f7dd26229041d86bcbf998753dd64f17516a582\n",
            "  Stored in directory: /root/.cache/pip/wheels/5d/92/bb/474bbadbc8c0062b9eb168f69982a0443263f8ab1711a8cad0\n",
            "Successfully built apyori\n",
            "Installing collected packages: apyori\n",
            "Successfully installed apyori-1.1.2\n"
          ],
          "name": "stdout"
        }
      ]
    },
    {
      "cell_type": "code",
      "metadata": {
        "id": "DsRFaT9UXT4m",
        "colab_type": "code",
        "colab": {}
      },
      "source": [
        "data = pd.read_csv('/new_food.csv')\n"
      ],
      "execution_count": 0,
      "outputs": []
    },
    {
      "cell_type": "code",
      "metadata": {
        "id": "sFsR0SsbXvW-",
        "colab_type": "code",
        "outputId": "1f2d56d5-a194-4b48-9757-10acb0303ee9",
        "colab": {
          "base_uri": "https://localhost:8080/",
          "height": 206
        }
      },
      "source": [
        "data.head()"
      ],
      "execution_count": 0,
      "outputs": [
        {
          "output_type": "execute_result",
          "data": {
            "text/html": [
              "<div>\n",
              "<style scoped>\n",
              "    .dataframe tbody tr th:only-of-type {\n",
              "        vertical-align: middle;\n",
              "    }\n",
              "\n",
              "    .dataframe tbody tr th {\n",
              "        vertical-align: top;\n",
              "    }\n",
              "\n",
              "    .dataframe thead th {\n",
              "        text-align: right;\n",
              "    }\n",
              "</style>\n",
              "<table border=\"1\" class=\"dataframe\">\n",
              "  <thead>\n",
              "    <tr style=\"text-align: right;\">\n",
              "      <th></th>\n",
              "      <th>Gender</th>\n",
              "      <th>Nationality</th>\n",
              "      <th>Age</th>\n",
              "      <th>Food</th>\n",
              "    </tr>\n",
              "  </thead>\n",
              "  <tbody>\n",
              "    <tr>\n",
              "      <th>0</th>\n",
              "      <td>Male</td>\n",
              "      <td>Indian</td>\n",
              "      <td>24</td>\n",
              "      <td>Traditional food</td>\n",
              "    </tr>\n",
              "    <tr>\n",
              "      <th>1</th>\n",
              "      <td>Female</td>\n",
              "      <td>Indian</td>\n",
              "      <td>22</td>\n",
              "      <td>Western Food</td>\n",
              "    </tr>\n",
              "    <tr>\n",
              "      <th>2</th>\n",
              "      <td>Male</td>\n",
              "      <td>Indian</td>\n",
              "      <td>31</td>\n",
              "      <td>Western Food</td>\n",
              "    </tr>\n",
              "    <tr>\n",
              "      <th>3</th>\n",
              "      <td>Female</td>\n",
              "      <td>Indian</td>\n",
              "      <td>25</td>\n",
              "      <td>Traditional food</td>\n",
              "    </tr>\n",
              "    <tr>\n",
              "      <th>4</th>\n",
              "      <td>Male</td>\n",
              "      <td>Indian</td>\n",
              "      <td>27</td>\n",
              "      <td>Traditional food</td>\n",
              "    </tr>\n",
              "  </tbody>\n",
              "</table>\n",
              "</div>"
            ],
            "text/plain": [
              "   Gender Nationality  Age              Food\n",
              "0    Male      Indian   24  Traditional food\n",
              "1  Female      Indian   22      Western Food\n",
              "2    Male      Indian   31      Western Food\n",
              "3  Female      Indian   25  Traditional food\n",
              "4    Male      Indian   27  Traditional food"
            ]
          },
          "metadata": {
            "tags": []
          },
          "execution_count": 6
        }
      ]
    },
    {
      "cell_type": "code",
      "metadata": {
        "id": "Cp9X1kJFXyi6",
        "colab_type": "code",
        "colab": {}
      },
      "source": [
        "data = pd.read_csv('/new_food.csv', header=None)"
      ],
      "execution_count": 0,
      "outputs": []
    },
    {
      "cell_type": "code",
      "metadata": {
        "id": "9MIwyg12X77s",
        "colab_type": "code",
        "outputId": "e4d7a51f-1620-4fe4-c2b3-903a9c024326",
        "colab": {
          "base_uri": "https://localhost:8080/",
          "height": 206
        }
      },
      "source": [
        "data.head()"
      ],
      "execution_count": 0,
      "outputs": [
        {
          "output_type": "execute_result",
          "data": {
            "text/html": [
              "<div>\n",
              "<style scoped>\n",
              "    .dataframe tbody tr th:only-of-type {\n",
              "        vertical-align: middle;\n",
              "    }\n",
              "\n",
              "    .dataframe tbody tr th {\n",
              "        vertical-align: top;\n",
              "    }\n",
              "\n",
              "    .dataframe thead th {\n",
              "        text-align: right;\n",
              "    }\n",
              "</style>\n",
              "<table border=\"1\" class=\"dataframe\">\n",
              "  <thead>\n",
              "    <tr style=\"text-align: right;\">\n",
              "      <th></th>\n",
              "      <th>0</th>\n",
              "      <th>1</th>\n",
              "      <th>2</th>\n",
              "      <th>3</th>\n",
              "    </tr>\n",
              "  </thead>\n",
              "  <tbody>\n",
              "    <tr>\n",
              "      <th>0</th>\n",
              "      <td>Gender</td>\n",
              "      <td>Nationality</td>\n",
              "      <td>Age</td>\n",
              "      <td>Food</td>\n",
              "    </tr>\n",
              "    <tr>\n",
              "      <th>1</th>\n",
              "      <td>Male</td>\n",
              "      <td>Indian</td>\n",
              "      <td>24</td>\n",
              "      <td>Traditional food</td>\n",
              "    </tr>\n",
              "    <tr>\n",
              "      <th>2</th>\n",
              "      <td>Female</td>\n",
              "      <td>Indian</td>\n",
              "      <td>22</td>\n",
              "      <td>Western Food</td>\n",
              "    </tr>\n",
              "    <tr>\n",
              "      <th>3</th>\n",
              "      <td>Male</td>\n",
              "      <td>Indian</td>\n",
              "      <td>31</td>\n",
              "      <td>Western Food</td>\n",
              "    </tr>\n",
              "    <tr>\n",
              "      <th>4</th>\n",
              "      <td>Female</td>\n",
              "      <td>Indian</td>\n",
              "      <td>25</td>\n",
              "      <td>Traditional food</td>\n",
              "    </tr>\n",
              "  </tbody>\n",
              "</table>\n",
              "</div>"
            ],
            "text/plain": [
              "        0            1    2                 3\n",
              "0  Gender  Nationality  Age              Food\n",
              "1    Male       Indian   24  Traditional food\n",
              "2  Female       Indian   22      Western Food\n",
              "3    Male       Indian   31      Western Food\n",
              "4  Female       Indian   25  Traditional food"
            ]
          },
          "metadata": {
            "tags": []
          },
          "execution_count": 8
        }
      ]
    },
    {
      "cell_type": "code",
      "metadata": {
        "id": "TtvWddVrX_Cl",
        "colab_type": "code",
        "colab": {}
      },
      "source": [
        "records = []\n",
        "for i in range(0, 289):\n",
        "    records.append([str(data.values[i,j]) for j in range(0, 4)])"
      ],
      "execution_count": 0,
      "outputs": []
    },
    {
      "cell_type": "code",
      "metadata": {
        "id": "zWPDtB7FYVYB",
        "colab_type": "code",
        "colab": {}
      },
      "source": [
        "association_rules = apriori(records, min_support=0.0045, min_confidence=0.2, min_lift=3, min_length=3)\n",
        "association_results = list(association_rules)"
      ],
      "execution_count": 0,
      "outputs": []
    },
    {
      "cell_type": "code",
      "metadata": {
        "id": "wpM6p--RYcVf",
        "colab_type": "code",
        "outputId": "9c417e05-62a8-4d5a-992b-d786e9fed630",
        "colab": {
          "base_uri": "https://localhost:8080/",
          "height": 34
        }
      },
      "source": [
        "print(len(association_results))"
      ],
      "execution_count": 0,
      "outputs": [
        {
          "output_type": "stream",
          "text": [
            "38\n"
          ],
          "name": "stdout"
        }
      ]
    },
    {
      "cell_type": "code",
      "metadata": {
        "id": "V-GOLXdhZqVj",
        "colab_type": "code",
        "outputId": "9f3cc0bf-f33a-4a24-8642-c262e6889ab3",
        "colab": {
          "base_uri": "https://localhost:8080/",
          "height": 1000
        }
      },
      "source": [
        "for item in association_results:\n",
        "    pair = item[0] \n",
        "    items = [x for x in pair]\n",
        "    print(\"Rule: \" + items[0] + \" -> \" + items[1])\n",
        "    # print(\"Support: \" + str(item[1]))\n",
        "    # print(\"Confidence: \" + str(item[2][0][2]))\n",
        "    print(\"=====================================\")"
      ],
      "execution_count": 0,
      "outputs": [
        {
          "output_type": "stream",
          "text": [
            "Rule: Western Food -> 13\n",
            "=====================================\n",
            "Rule: 16 -> Western Food\n",
            "=====================================\n",
            "Rule: Indonesia -> 19\n",
            "=====================================\n",
            "Rule: Indonesia -> 20\n",
            "=====================================\n",
            "Rule: Malaysian -> 20\n",
            "=====================================\n",
            "Rule: 21 -> Malaysian\n",
            "=====================================\n",
            "Rule: Indonesia -> 22\n",
            "=====================================\n",
            "Rule: Maldivian -> Western Food\n",
            "=====================================\n",
            "Rule: Male -> Indian\n",
            "=====================================\n",
            "Rule: Western Food -> Indian\n",
            "=====================================\n",
            "Rule: Male -> Western Food\n",
            "=====================================\n",
            "Rule: 16 -> Female\n",
            "=====================================\n",
            "Rule: 16 -> Western Food\n",
            "=====================================\n",
            "Rule: Indonesia -> Male\n",
            "=====================================\n",
            "Rule: Indonesia -> 19\n",
            "=====================================\n",
            "Rule: Malaysian -> 19\n",
            "=====================================\n",
            "Rule: Indonesia -> Male\n",
            "=====================================\n",
            "Rule: Indonesia -> Traditional food\n",
            "=====================================\n",
            "Rule: Male -> Malaysian\n",
            "=====================================\n",
            "Rule: Traditional food -> Malaysian\n",
            "=====================================\n",
            "Rule: 21 -> Male\n",
            "=====================================\n",
            "Rule: 21 -> Malaysian\n",
            "=====================================\n",
            "Rule: Indonesia -> Traditional food\n",
            "=====================================\n",
            "Rule: Female -> Western Food\n",
            "=====================================\n",
            "Rule: Female -> 31\n",
            "=====================================\n",
            "Rule: Western Food -> 31\n",
            "=====================================\n",
            "Rule: Male -> 9\n",
            "=====================================\n",
            "Rule: Maldivian -> Female\n",
            "=====================================\n",
            "Rule: Western Food -> Male\n",
            "=====================================\n",
            "Rule: 16 -> Female\n",
            "=====================================\n",
            "Rule: Indonesia -> Male\n",
            "=====================================\n",
            "Rule: Indonesia -> Traditional food\n",
            "=====================================\n",
            "Rule: 21 -> Male\n",
            "=====================================\n",
            "Rule: Western Food -> Female\n",
            "=====================================\n",
            "Rule: 23 -> Male\n",
            "=====================================\n",
            "Rule: Western Food -> Female\n",
            "=====================================\n",
            "Rule: Western Food -> Female\n",
            "=====================================\n",
            "Rule: Traditional food -> Male\n",
            "=====================================\n"
          ],
          "name": "stdout"
        }
      ]
    },
    {
      "cell_type": "code",
      "metadata": {
        "id": "qBknJajPf7Pn",
        "colab_type": "code",
        "colab": {}
      },
      "source": [
        ""
      ],
      "execution_count": 0,
      "outputs": []
    }
  ]
}