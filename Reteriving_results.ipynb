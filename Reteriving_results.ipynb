{
 "cells": [
  {
   "cell_type": "code",
   "execution_count": 6,
   "metadata": {},
   "outputs": [],
   "source": [
    "import pandas as pd\n",
    "\n",
    "from itertools import combinations"
   ]
  },
  {
   "cell_type": "code",
   "execution_count": 7,
   "metadata": {},
   "outputs": [],
   "source": [
    "def convert_into_list(input_str):\n",
    "    return sorted(input_str.replace(\"'\",\"\").replace(\"[\",\"\").replace(\" \",\"\").replace(\"]\",\"\").split(\",\"))\n",
    "def every_object(list_of_list):\n",
    "    for i in range(len(list_of_list)):\n",
    "        list_of_list[i]=','.join(convert_into_list(list_of_list[i]))\n",
    "    return list_of_list"
   ]
  },
  {
   "cell_type": "code",
   "execution_count": 18,
   "metadata": {},
   "outputs": [],
   "source": [
    "\n",
    "#input string products sepearted by ',' output is dictinary \n",
    "def combination_creator(input,df):\n",
    "    input=input.split(',')\n",
    "    output = sum([list(map(list, combinations(input, i))) for i in range(len(input) + 1)], [])\n",
    "    output=output[1:]\n",
    "    out={}\n",
    "    for item in output:\n",
    "        item.sort()\n",
    "        item=\",\".join(item)\n",
    "        li=finding_consequents(item,df)\n",
    "        for x in li:\n",
    "            for y in x.split(','):\n",
    "                if y in out:\n",
    "                    out[y]+=1\n",
    "                else:\n",
    "                    out[y]=1\n",
    "    return out\n"
   ]
  },
  {
   "cell_type": "code",
   "execution_count": 19,
   "metadata": {},
   "outputs": [],
   "source": [
    "def finding_consequents(value,df):\n",
    "    return df.loc[df['antecedents']==value]['consequents'].tolist()"
   ]
  },
  {
   "cell_type": "code",
   "execution_count": 20,
   "metadata": {},
   "outputs": [],
   "source": [
    "def sorted_results(mydict):\n",
    "    list_output=[]\n",
    "    print(mydict)\n",
    "    for key, value in sorted(mydict.items(), key=lambda item: item[1]):\n",
    "        list_output.append(key)\n",
    "#         print(key)\n",
    "    return list_output[::-1]"
   ]
  },
  {
   "cell_type": "code",
   "execution_count": 21,
   "metadata": {},
   "outputs": [],
   "source": [
    "def reterving_results_form_transaction_history(value):\n",
    "    df = pd.read_csv('./output.csv')\n",
    "    output=combination_creator(value,df)\n",
    "    return sorted_results(output)\n",
    "    "
   ]
  },
  {
   "cell_type": "code",
   "execution_count": 24,
   "metadata": {},
   "outputs": [
    {
     "name": "stdout",
     "output_type": "stream",
     "text": [
      "{'beef': 53, 'winered': 28, 'flour': 32, 'coffee': 26}\n"
     ]
    },
    {
     "data": {
      "text/plain": [
       "['beef', 'flour', 'winered', 'coffee']"
      ]
     },
     "execution_count": 24,
     "metadata": {},
     "output_type": "execute_result"
    }
   ],
   "source": [
    "reterving_results_form_transaction_history('coffee,flour,veal,winered,winewhite')"
   ]
  },
  {
   "cell_type": "code",
   "execution_count": null,
   "metadata": {},
   "outputs": [],
   "source": []
  }
 ],
 "metadata": {
  "kernelspec": {
   "display_name": "Python 3",
   "language": "python",
   "name": "python3"
  },
  "language_info": {
   "codemirror_mode": {
    "name": "ipython",
    "version": 3
   },
   "file_extension": ".py",
   "mimetype": "text/x-python",
   "name": "python",
   "nbconvert_exporter": "python",
   "pygments_lexer": "ipython3",
   "version": "3.6.9"
  }
 },
 "nbformat": 4,
 "nbformat_minor": 2
}
